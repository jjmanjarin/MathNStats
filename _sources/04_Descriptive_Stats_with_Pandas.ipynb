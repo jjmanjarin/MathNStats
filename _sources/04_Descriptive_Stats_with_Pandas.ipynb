{
 "cells": [
  {
   "cell_type": "markdown",
   "metadata": {
    "colab_type": "text",
    "id": "CGwzyLNwUGub"
   },
   "source": [
    "# Descriptive Statistics with Pandas\n",
    "\n",
    "\n",
    "In this document we are going to see how to compute the basic numerical values needed to perform a descriptive analysis of a data set.\n",
    "\n",
    "We are going to split the document in two main parts:\n",
    "\n",
    " * One for **Numerical** variables\n",
    " * One for **Categorical** variables\n",
    " \n",
    "most of all because categorical variables are slightly subtle in Python. Let's load all the different packages we need for **all** the analysis to be made"
   ]
  },
  {
   "cell_type": "code",
   "execution_count": 1,
   "metadata": {
    "colab": {},
    "colab_type": "code",
    "id": "dMhwInJFi5Us"
   },
   "outputs": [],
   "source": [
    "import pandas as pd\n",
    "import numpy as np\n",
    "import matplotlib.pyplot as plt\n",
    "import random"
   ]
  },
  {
   "cell_type": "markdown",
   "metadata": {
    "colab_type": "text",
    "id": "sNRuyIXKegA5"
   },
   "source": [
    "## 1.- The Data\n",
    "\n",
    "Let's connect to our drive and load a dataset"
   ]
  },
  {
   "cell_type": "code",
   "execution_count": 2,
   "metadata": {
    "colab": {
     "base_uri": "https://localhost:8080/",
     "height": 131
    },
    "colab_type": "code",
    "executionInfo": {
     "elapsed": 25608,
     "status": "ok",
     "timestamp": 1571728164468,
     "user": {
      "displayName": "Juan Jose Manjarin",
      "photoUrl": "",
      "userId": "04910883006985787828"
     },
     "user_tz": -120
    },
    "id": "arUct2llUD89",
    "outputId": "4439f9a2-36ce-4646-b5ee-d6013807fbb7"
   },
   "outputs": [
    {
     "ename": "ModuleNotFoundError",
     "evalue": "No module named 'google'",
     "output_type": "error",
     "traceback": [
      "\u001b[0;31m---------------------------------------------------------------------------\u001b[0m",
      "\u001b[0;31mModuleNotFoundError\u001b[0m                       Traceback (most recent call last)",
      "\u001b[0;32m<ipython-input-2-9910662a8b8a>\u001b[0m in \u001b[0;36m<module>\u001b[0;34m\u001b[0m\n\u001b[0;32m----> 1\u001b[0;31m \u001b[0;32mfrom\u001b[0m \u001b[0mgoogle\u001b[0m\u001b[0;34m.\u001b[0m\u001b[0mcolab\u001b[0m \u001b[0;32mimport\u001b[0m \u001b[0mdrive\u001b[0m\u001b[0;34m\u001b[0m\u001b[0;34m\u001b[0m\u001b[0m\n\u001b[0m\u001b[1;32m      2\u001b[0m \u001b[0mdrive\u001b[0m\u001b[0;34m.\u001b[0m\u001b[0mmount\u001b[0m\u001b[0;34m(\u001b[0m\u001b[0;34m'mydrive'\u001b[0m\u001b[0;34m)\u001b[0m\u001b[0;34m\u001b[0m\u001b[0;34m\u001b[0m\u001b[0m\n",
      "\u001b[0;31mModuleNotFoundError\u001b[0m: No module named 'google'"
     ]
    }
   ],
   "source": [
    "from google.colab import drive\n",
    "drive.mount('mydrive')"
   ]
  },
  {
   "cell_type": "markdown",
   "metadata": {
    "colab_type": "text",
    "id": "iuR-A-lofaNY"
   },
   "source": [
    "now we can load the dataset"
   ]
  },
  {
   "cell_type": "code",
   "execution_count": null,
   "metadata": {
    "colab": {
     "base_uri": "https://localhost:8080/",
     "height": 206
    },
    "colab_type": "code",
    "executionInfo": {
     "elapsed": 1189,
     "status": "ok",
     "timestamp": 1571728264674,
     "user": {
      "displayName": "Juan Jose Manjarin",
      "photoUrl": "",
      "userId": "04910883006985787828"
     },
     "user_tz": -120
    },
    "id": "NqR10vNteqKa",
    "outputId": "e8738d3c-fb8a-4a3e-aabf-bff32446d2e1"
   },
   "outputs": [],
   "source": [
    "mydf = pd.read_csv(\"/content/mydrive/My Drive/IE Bootcamp - Math & Stats /data/forestarea.csv\")\n",
    "mydf.head()"
   ]
  },
  {
   "cell_type": "markdown",
   "metadata": {
    "colab_type": "text",
    "id": "1tSmHpDRfd9c"
   },
   "source": [
    "This dataset is actual data from the [World Bank Database](https://data.worldbank.org/) corresponding to the different Forest Areas in years 2013 to 2015, the Average Precipitation in 2014 and the Annual Freshwater Withdrawals in 2014. We also have two other variables, one with the names of the countries and another with the continent number following the code\n",
    "\n",
    " * 1: Africa\n",
    " * 2: America\n",
    " * 3: Asia\n",
    " * 4: Australia\n",
    " * 5: Europe"
   ]
  },
  {
   "cell_type": "markdown",
   "metadata": {
    "colab_type": "text",
    "id": "y-XRFSZ0h_xk"
   },
   "source": [
    "## 2.- Numerical Data\n",
    "\n",
    "The descriptive analysis we are going to perform is both: graphical and analytical. For this type of data we are going to use the following information\n",
    "\n",
    " * Graphical:\n",
    "   * Histogram\n",
    "   * Boxplot\n",
    "   * Scatterplot\n",
    " * Analytical Measures:\n",
    "   * Central Tendency\n",
    "     * Mean\n",
    "     * Median\n",
    "     * Mode\n",
    "   * Variability\n",
    "     * Variance\n",
    "     * Standard Deviation\n",
    "     * IQR\n",
    "   * Shape\n",
    "     * Skewness\n",
    "     * Kurtosis\n",
    "   * Association\n",
    "     * Covariance\n",
    "     * Correlation\n",
    "     \n",
    "In particular we are going to focus in the `forar2014` variable and we are going to describe it using these different pieces of information"
   ]
  },
  {
   "cell_type": "markdown",
   "metadata": {
    "colab_type": "text",
    "id": "_suo3dmJzBY2"
   },
   "source": [
    "### 2.1.- Graphical Analysis\n",
    "\n",
    " Let's begin with the graphical analysis"
   ]
  },
  {
   "cell_type": "markdown",
   "metadata": {
    "colab_type": "text",
    "id": "BMjyDyPIvYCJ"
   },
   "source": [
    "#### 2.1.1.- Histograms\n",
    "\n",
    "Remember that the histogram is an approximated description of the variable: along its construction we make different assumptions that will produce different results. \n",
    "\n",
    "In Python all these decisions can be left to the compiler by default, as the boundaries of the classes or the number of classes, for example. We can play with all of them but it is usually not recommended.\n",
    "\n",
    "The following graph shows how different the histogram can be if we choose a different number of classes"
   ]
  },
  {
   "cell_type": "code",
   "execution_count": null,
   "metadata": {
    "colab": {
     "base_uri": "https://localhost:8080/",
     "height": 405
    },
    "colab_type": "code",
    "executionInfo": {
     "elapsed": 32228,
     "status": "ok",
     "timestamp": 1569245421309,
     "user": {
      "displayName": "Juan Jose Manjarin",
      "photoUrl": "",
      "userId": "04910883006985787828"
     },
     "user_tz": -120
    },
    "id": "o_pCoW5PnCuK",
    "outputId": "603d158b-4a7e-4a0c-e767-9fbffe32dffb"
   },
   "outputs": [],
   "source": [
    "binSet = [5, 10, 20, 40]\n",
    "coords = [(0,0), (0,1), (1,0), (1,1)]\n",
    "\n",
    "plt.style.use(\"seaborn\")\n",
    "\n",
    "for i,j in zip(binSet, coords):\n",
    "  plt.subplot2grid((2,2),(j[0], j[1]))\n",
    "  mydf.forar2014.hist(bins = i, ec = \"white\", density = True)\n",
    "  plt.title(\"bins = \" + str(i))\n",
    "\n",
    "\n",
    "plt.tight_layout()\n",
    "plt.show()"
   ]
  },
  {
   "cell_type": "markdown",
   "metadata": {
    "colab_type": "text",
    "id": "k2RoGbcdw0gc"
   },
   "source": [
    "we see that while for n=5 we have a unimodal right-skewed desitribution, for n=10, we may say that the distribution is bimodal, and in fact the value around 35 gains importance in subsequent plots.\n",
    "\n",
    "The number of bins in matplotlib is found using `numpy.histogram` which sets the number of bins to 10 by default but it also allows for predefined forms, as those of Sturges, Rice or Scott (among others). If we use some of these *optimized* forms we obtain more or less the same structure"
   ]
  },
  {
   "cell_type": "code",
   "execution_count": null,
   "metadata": {
    "colab": {
     "base_uri": "https://localhost:8080/",
     "height": 405
    },
    "colab_type": "code",
    "executionInfo": {
     "elapsed": 32956,
     "status": "ok",
     "timestamp": 1569245422122,
     "user": {
      "displayName": "Juan Jose Manjarin",
      "photoUrl": "",
      "userId": "04910883006985787828"
     },
     "user_tz": -120
    },
    "id": "_yt5Qt8Kx8jx",
    "outputId": "cccf96d9-2435-46ed-9bb3-9d0b84d593b9"
   },
   "outputs": [],
   "source": [
    "binSet = [\"auto\", \"sturges\", \"scott\", \"rice\"]\n",
    "coords = [(0,0), (0,1), (1,0), (1,1)]\n",
    "\n",
    "plt.style.use(\"seaborn\")\n",
    "\n",
    "for i,j in zip(binSet, coords):\n",
    "  plt.subplot2grid((2,2),(j[0], j[1]))\n",
    "  mydf.forar2014.hist(bins = i, ec = \"white\", density = True)\n",
    "  plt.title(\"bins = \" + i)\n",
    "\n",
    "\n",
    "plt.tight_layout()\n",
    "plt.show()"
   ]
  },
  {
   "cell_type": "markdown",
   "metadata": {
    "colab_type": "text",
    "id": "gbeSfJgEywXd"
   },
   "source": [
    "#### 2.1.2.- Boxplot\n",
    "\n",
    "The boxplot, also known as box-and-whiskers plot, is a representation of the robust features of the distribution. In then we see:\n",
    "\n",
    " * The **median**, as the line inside the box\n",
    " * The **first** and **third quartiles**, as the limits of the box\n",
    " * The **Tukey's limits**, as the whiskers (in some cases the whiskers will show the maximum and minimum values of our distribution but this will **not** be our cases)"
   ]
  },
  {
   "cell_type": "code",
   "execution_count": null,
   "metadata": {
    "colab": {
     "base_uri": "https://localhost:8080/",
     "height": 347
    },
    "colab_type": "code",
    "executionInfo": {
     "elapsed": 32911,
     "status": "ok",
     "timestamp": 1569245422134,
     "user": {
      "displayName": "Juan Jose Manjarin",
      "photoUrl": "",
      "userId": "04910883006985787828"
     },
     "user_tz": -120
    },
    "id": "fhYBx_MYyvf-",
    "outputId": "26c8399f-bfa9-4235-9df9-a190913e458e"
   },
   "outputs": [],
   "source": [
    "plt.boxplot(mydf.forar2014,\n",
    "            patch_artist = True,\n",
    "            showmeans = True,\n",
    "            widths = 0.6,\n",
    "            whis = 1.5,\n",
    "            flierprops = dict(marker = 'o',\n",
    "                              markerfacecolor = 'red'),\n",
    "            labels = [\"Forest Area 2014\"])\n",
    "\n",
    "plt.show()"
   ]
  },
  {
   "cell_type": "markdown",
   "metadata": {
    "colab_type": "text",
    "id": "cgzOuQOCy0uK"
   },
   "source": [
    "#### 2.1.3.- Scatterplot\n",
    "\n",
    "The scatterplot is the representation of a bidimensional distribution, which implies that we need to use two of the variables of the dataset.\n",
    "\n",
    "Since these plots are mostly used to have a visual inspection of the association and relationship between two variables, when we choose them we must decide which is going to be the dependent and which the independent.\n",
    "\n",
    "For example, in the following case"
   ]
  },
  {
   "cell_type": "code",
   "execution_count": null,
   "metadata": {
    "colab": {
     "base_uri": "https://localhost:8080/",
     "height": 361
    },
    "colab_type": "code",
    "executionInfo": {
     "elapsed": 33258,
     "status": "ok",
     "timestamp": 1569245422537,
     "user": {
      "displayName": "Juan Jose Manjarin",
      "photoUrl": "",
      "userId": "04910883006985787828"
     },
     "user_tz": -120
    },
    "id": "9O7XDj9Ly255",
    "outputId": "b9c36820-b4d5-4955-e304-f32e1e144602"
   },
   "outputs": [],
   "source": [
    "plt.scatter(x = \"forar2014\", y = \"avprec2014\", data = mydf)\n",
    "plt.xlabel(\"Forest Area\")\n",
    "plt.ylabel(\"Average Precipitation\")\n",
    "\n",
    "plt.show()"
   ]
  },
  {
   "cell_type": "markdown",
   "metadata": {
    "colab_type": "text",
    "id": "x3_xMUy1m3mL"
   },
   "source": [
    "we are explicitely saying that the Average Precipitation depends on the Forest Area and not the other way around.\n",
    "\n",
    "The way these graphs are read go in three different sides:\n",
    "\n",
    " * From the **Association**, where we just see *if* there exists any dependency between both variables. In our case we see that when the forest area increases, the average precipitation increases, so we see a positive association then **covariance** will be different from zero and positive\n",
    " * From the **Correlation**, where we measure the strength of the linear association between the variables. In our case, since the points are not too aligned we may expect a positive but weak linear correlation\n",
    " * From the **relationship**, where we determine the formal functional form that may relate both variables. In this case a straight line can be used (although it will not be a good description since correlation is weak)\n",
    " \n",
    "There are two quantitites we can find in this context: covariance and correlation. In Python we find them as follows: for the covariance we use the `cov()` function which returns the **covariance matrix**, i.e. one with the following structure\n",
    "\n",
    "\\begin{equation}\n",
    "\\begin{pmatrix} s_x^2 & s_{xy} \\\\\n",
    "s_{xy} & s_y^2\\end{pmatrix}\n",
    "\\end{equation}\n",
    "\n",
    "i.e. the diagonal elements of the matrix are the variances of the variables and the off-diagonal are the covariance. Remember that this covariance is given by\n",
    "\n",
    "\\begin{equation}\n",
    "s_{xy} = \\frac{1}{n-1}\\sum_{i=1}^n(x_i-\\bar x)(y_i-\\bar y)\n",
    "\\end{equation}\n",
    "\n",
    "\n",
    "In our case we find"
   ]
  },
  {
   "cell_type": "code",
   "execution_count": null,
   "metadata": {
    "colab": {
     "base_uri": "https://localhost:8080/",
     "height": 112
    },
    "colab_type": "code",
    "executionInfo": {
     "elapsed": 33226,
     "status": "ok",
     "timestamp": 1569245422541,
     "user": {
      "displayName": "Juan Jose Manjarin",
      "photoUrl": "",
      "userId": "04910883006985787828"
     },
     "user_tz": -120
    },
    "id": "wZS8434Aosjy",
    "outputId": "44febb04-98ef-41d7-9b5b-bead8bc3e20d"
   },
   "outputs": [],
   "source": [
    "mydf[[\"forar2014\",\"avprec2014\"]].cov()"
   ]
  },
  {
   "cell_type": "markdown",
   "metadata": {
    "colab_type": "text",
    "id": "k1IXJH0gpsZw"
   },
   "source": [
    "we see that covariance is 9615.44. Remember that the magnitude of the covariance is not relevant, so this values does not imply that there is a high association.\n",
    "\n",
    "To find the correlation we use the `corr()` function which returns rhe **correlation matrix**, which has the structure\n",
    "\n",
    "\\begin{equation}\n",
    "\\begin{pmatrix} 1 & r \\\\\n",
    "r & 1\\end{pmatrix}\n",
    "\\end{equation}\n",
    "\n",
    "i.e. its diagonal elements are always 1 and the off-diagonal are the linear correlation of the corresponding variables, shich is given by\n",
    "\n",
    "\\begin{equation}\n",
    "r = \\frac{s_{xy}}{s_x\\cdot s_y}\n",
    "\\end{equation}\n",
    "\n",
    "Let's see it"
   ]
  },
  {
   "cell_type": "code",
   "execution_count": null,
   "metadata": {
    "colab": {
     "base_uri": "https://localhost:8080/",
     "height": 112
    },
    "colab_type": "code",
    "executionInfo": {
     "elapsed": 33187,
     "status": "ok",
     "timestamp": 1569245422544,
     "user": {
      "displayName": "Juan Jose Manjarin",
      "photoUrl": "",
      "userId": "04910883006985787828"
     },
     "user_tz": -120
    },
    "id": "_ZgzZDU9qMin",
    "outputId": "1bd55443-6943-4cbc-d222-0d3555365e0c"
   },
   "outputs": [],
   "source": [
    "mydf[[\"forar2014\",\"avprec2014\"]].corr()"
   ]
  },
  {
   "cell_type": "markdown",
   "metadata": {
    "colab_type": "text",
    "id": "qQmB5wH1qoXj"
   },
   "source": [
    "remember that the strength is actually measured using $r^2$, then"
   ]
  },
  {
   "cell_type": "code",
   "execution_count": null,
   "metadata": {
    "colab": {
     "base_uri": "https://localhost:8080/",
     "height": 112
    },
    "colab_type": "code",
    "executionInfo": {
     "elapsed": 33498,
     "status": "ok",
     "timestamp": 1569245422899,
     "user": {
      "displayName": "Juan Jose Manjarin",
      "photoUrl": "",
      "userId": "04910883006985787828"
     },
     "user_tz": -120
    },
    "id": "z2D3gKcjqu0v",
    "outputId": "ec9d906e-8b26-4ef0-aa49-4e96c4332a10"
   },
   "outputs": [],
   "source": [
    "mydf[[\"forar2014\",\"avprec2014\"]].corr()**2"
   ]
  },
  {
   "cell_type": "markdown",
   "metadata": {
    "colab_type": "text",
    "id": "Usj8oDIZqxOH"
   },
   "source": [
    "we see a correlation of 0.3255 which is, as expected, a weak one."
   ]
  },
  {
   "cell_type": "markdown",
   "metadata": {
    "colab_type": "text",
    "id": "JPZ4ZHgWy3H3"
   },
   "source": [
    "### 2.2.- Analytical Measures\n",
    "\n",
    "Let's see how to use methods in the pandas dataframe to obtain all the different quantities. In general we can use the `describe()` method to find most of them"
   ]
  },
  {
   "cell_type": "code",
   "execution_count": null,
   "metadata": {
    "colab": {
     "base_uri": "https://localhost:8080/",
     "height": 183
    },
    "colab_type": "code",
    "executionInfo": {
     "elapsed": 33467,
     "status": "ok",
     "timestamp": 1569245422901,
     "user": {
      "displayName": "Juan Jose Manjarin",
      "photoUrl": "",
      "userId": "04910883006985787828"
     },
     "user_tz": -120
    },
    "id": "P5V1xt7H98XV",
    "outputId": "ed93c9ff-ac9a-4443-a427-bafb1350a4cd"
   },
   "outputs": [],
   "source": [
    "mydf[\"forar2014\"].describe()"
   ]
  },
  {
   "cell_type": "markdown",
   "metadata": {
    "colab_type": "text",
    "id": "HS2zxFD7-ezh"
   },
   "source": [
    "or, if we want to find these summaries by continents we can use the `groupby()` function"
   ]
  },
  {
   "cell_type": "code",
   "execution_count": null,
   "metadata": {
    "colab": {
     "base_uri": "https://localhost:8080/",
     "height": 238
    },
    "colab_type": "code",
    "executionInfo": {
     "elapsed": 33436,
     "status": "ok",
     "timestamp": 1569245422902,
     "user": {
      "displayName": "Juan Jose Manjarin",
      "photoUrl": "",
      "userId": "04910883006985787828"
     },
     "user_tz": -120
    },
    "id": "qMsKzujI-oej",
    "outputId": "ff09774b-ba47-4b97-e794-f3c96df05c35"
   },
   "outputs": [],
   "source": [
    "mydf.groupby(\"continent\")[\"forar2014\"].describe()"
   ]
  },
  {
   "cell_type": "markdown",
   "metadata": {
    "colab_type": "text",
    "id": "DLbuCwaT-xU6"
   },
   "source": [
    "which returns a dataframe with indexes given by the continent variable (do not confuse the fact that it begins by 1 because it is Africa with the 0-based index)"
   ]
  },
  {
   "cell_type": "markdown",
   "metadata": {
    "colab_type": "text",
    "id": "g0Mpzl2H880Y"
   },
   "source": [
    "#### 2.2.1.- Central Tendency\n",
    "\n",
    "Roughly speaking we can say that these are the measures around which we should describe the distribution. However, not all of them are relevant in all the situations and, in fact, some should not be used in others."
   ]
  },
  {
   "cell_type": "markdown",
   "metadata": {
    "colab_type": "text",
    "id": "ailHsBNB9V7U"
   },
   "source": [
    "##### 2.2.1.1.- Mean\n",
    "\n",
    "Or, to be more precise, the **arithmetic mean**. This is the usual average on a set of independent values\n",
    "\n",
    "\\begin{equation}\n",
    "\\bar x = \\frac{1}{n}\\sum_{i=1}^n x_i\n",
    "\\end{equation}\n",
    "\n",
    "which can be written in terms of the total and/or relative frequencies. \n",
    "\n",
    "In Python we will just use the method `mean()` directly over the dataframe (or any subset of it), then"
   ]
  },
  {
   "cell_type": "code",
   "execution_count": null,
   "metadata": {
    "colab": {
     "base_uri": "https://localhost:8080/",
     "height": 35
    },
    "colab_type": "code",
    "executionInfo": {
     "elapsed": 33413,
     "status": "ok",
     "timestamp": 1569245422904,
     "user": {
      "displayName": "Juan Jose Manjarin",
      "photoUrl": "",
      "userId": "04910883006985787828"
     },
     "user_tz": -120
    },
    "id": "3a5BKBTu_WOk",
    "outputId": "43290c43-05c4-4826-ffd9-89919b8275fc"
   },
   "outputs": [],
   "source": [
    "forar_mean = mydf[\"forar2014\"].mean()\n",
    "forar_mean "
   ]
  },
  {
   "cell_type": "markdown",
   "metadata": {
    "colab_type": "text",
    "id": "l-zHZlyZ_ty6"
   },
   "source": [
    "We must be careful with the mean since, despite its great mathematical properties, it has some big drawbacks that can make it not recommended, irrelevant or even useless to describe the distribution. Cases are:\n",
    "\n",
    " * Presence of outliers in the distribution\n",
    " * Not unimodal distribution\n",
    " * Asymmetric distribution\n",
    " \n",
    "in countinuous distributions the problem with the outliers can be so deep as to render the mean inexistent (and the standard deviation and any other moments of the distribution)"
   ]
  },
  {
   "cell_type": "markdown",
   "metadata": {
    "colab_type": "text",
    "id": "0AZO4bJs_qdC"
   },
   "source": [
    "##### 2.2.1.2.- Median\n",
    "\n",
    "The median is, by definition, the midpoint of the distribution then it is a more robust measure against most of the problems of the mean. However, the mathematical properties of the median are not so nice and its treatment becomes less straightforward.\n",
    "\n",
    "To find it in Python we use the `median()` method of the pandas dataframe, then"
   ]
  },
  {
   "cell_type": "code",
   "execution_count": null,
   "metadata": {
    "colab": {
     "base_uri": "https://localhost:8080/",
     "height": 35
    },
    "colab_type": "code",
    "executionInfo": {
     "elapsed": 33392,
     "status": "ok",
     "timestamp": 1569245422906,
     "user": {
      "displayName": "Juan Jose Manjarin",
      "photoUrl": "",
      "userId": "04910883006985787828"
     },
     "user_tz": -120
    },
    "id": "w41A_4ljBkEJ",
    "outputId": "e15050e1-ebad-4fce-ef41-12316024c7fd"
   },
   "outputs": [],
   "source": [
    "forar_med = mydf[\"forar2014\"].median()\n",
    "forar_med"
   ]
  },
  {
   "cell_type": "markdown",
   "metadata": {
    "colab_type": "text",
    "id": "CtQbqy9_vri1"
   },
   "source": [
    "Note that, just as the mean, the median may not be an actual number in the distribution of values. This will depend on whether the number of observations is even or odd. To find it in general cases we first need to locate its position in a reordered from low to high set, then we determine its value.\n",
    "\n",
    "Let's see this with a small example"
   ]
  },
  {
   "cell_type": "code",
   "execution_count": null,
   "metadata": {
    "colab": {
     "base_uri": "https://localhost:8080/",
     "height": 35
    },
    "colab_type": "code",
    "executionInfo": {
     "elapsed": 33364,
     "status": "ok",
     "timestamp": 1569245422906,
     "user": {
      "displayName": "Juan Jose Manjarin",
      "photoUrl": "",
      "userId": "04910883006985787828"
     },
     "user_tz": -120
    },
    "id": "aMEtmxDdwGF2",
    "outputId": "75dc12b5-6186-49ec-aca2-8746dd0c085e"
   },
   "outputs": [],
   "source": [
    "random.seed(101)\n",
    "example = np.random.randint(1, 20, 13)\n",
    "example"
   ]
  },
  {
   "cell_type": "markdown",
   "metadata": {
    "colab_type": "text",
    "id": "fzOonar2xIvx"
   },
   "source": [
    "once we have the data, we determine the location o the median"
   ]
  },
  {
   "cell_type": "code",
   "execution_count": null,
   "metadata": {
    "colab": {
     "base_uri": "https://localhost:8080/",
     "height": 35
    },
    "colab_type": "code",
    "executionInfo": {
     "elapsed": 33315,
     "status": "ok",
     "timestamp": 1569245422909,
     "user": {
      "displayName": "Juan Jose Manjarin",
      "photoUrl": "",
      "userId": "04910883006985787828"
     },
     "user_tz": -120
    },
    "id": "IGj7ThsQwxwY",
    "outputId": "72d5ae09-5f47-4aae-dc9c-f401bc17ffcb"
   },
   "outputs": [],
   "source": [
    "if len(example) % 2 == 0:\n",
    "  med_pos = int(len(example)/2) + 0.5\n",
    "else:\n",
    "  med_pos = int((len(example) - 1)/2) + 1\n",
    "\n",
    "print(\"The location of the median is the in the \" + str(med_pos) + \"th observation\")"
   ]
  },
  {
   "cell_type": "markdown",
   "metadata": {
    "colab_type": "text",
    "id": "MBGr7GJvyS56"
   },
   "source": [
    "now we must reorder from low to high"
   ]
  },
  {
   "cell_type": "code",
   "execution_count": null,
   "metadata": {
    "colab": {
     "base_uri": "https://localhost:8080/",
     "height": 35
    },
    "colab_type": "code",
    "executionInfo": {
     "elapsed": 33266,
     "status": "ok",
     "timestamp": 1569245422909,
     "user": {
      "displayName": "Juan Jose Manjarin",
      "photoUrl": "",
      "userId": "04910883006985787828"
     },
     "user_tz": -120
    },
    "id": "rBn8wtDcyV7C",
    "outputId": "eac1ecca-5fbd-404c-f580-abd788643883"
   },
   "outputs": [],
   "source": [
    "ord_ex = np.sort(example)\n",
    "ord_ex"
   ]
  },
  {
   "cell_type": "markdown",
   "metadata": {
    "colab_type": "text",
    "id": "E2_0TJIHyWKn"
   },
   "source": [
    "and now we can find the value of the median"
   ]
  },
  {
   "cell_type": "code",
   "execution_count": null,
   "metadata": {
    "colab": {
     "base_uri": "https://localhost:8080/",
     "height": 35
    },
    "colab_type": "code",
    "executionInfo": {
     "elapsed": 33218,
     "status": "ok",
     "timestamp": 1569245422911,
     "user": {
      "displayName": "Juan Jose Manjarin",
      "photoUrl": "",
      "userId": "04910883006985787828"
     },
     "user_tz": -120
    },
    "id": "vONoUdmWyY9J",
    "outputId": "16b2daae-2346-4673-902a-f0f36f5b8221"
   },
   "outputs": [],
   "source": [
    "if len(example) % 2 == 0:\n",
    "  ex_median = (ord_ex[int(np.ceil(med_pos)) - 1] + ord_ex[int(np.floor(med_pos)) - 1])/2\n",
    "else:\n",
    "  ex_median = ord_ex[int(np.floor(med_pos)) - 1]\n",
    "\n",
    "print(\"The median is \" + str(ex_median))"
   ]
  },
  {
   "cell_type": "markdown",
   "metadata": {
    "colab_type": "text",
    "id": "wLNRA_W9DTD4"
   },
   "source": [
    "##### 2.2.1.3.- Mode\n",
    "\n",
    "The mode is the most common observation and it may or may no extist. We say that it does not exist when all the observations have the same frequency. In other cases we can find **unimodal**, **bimodal**, **trimodal**,... Distributions.\n",
    "\n",
    "The function the find this in Python is `mode()`. In our case it will return all the values of the distribution (check it!), a common situation for continuous variables. However, we can use the example data set for the median and see"
   ]
  },
  {
   "cell_type": "code",
   "execution_count": null,
   "metadata": {
    "colab": {
     "base_uri": "https://localhost:8080/",
     "height": 81
    },
    "colab_type": "code",
    "executionInfo": {
     "elapsed": 33172,
     "status": "ok",
     "timestamp": 1569245422912,
     "user": {
      "displayName": "Juan Jose Manjarin",
      "photoUrl": "",
      "userId": "04910883006985787828"
     },
     "user_tz": -120
    },
    "id": "spqro9R06_-I",
    "outputId": "4d8292fe-7f00-41ad-dce1-7805ef315719"
   },
   "outputs": [],
   "source": [
    "pd.DataFrame(example).mode()"
   ]
  },
  {
   "cell_type": "markdown",
   "metadata": {
    "colab_type": "text",
    "id": "Ylxv9_KW75CX"
   },
   "source": [
    "#### 2.2.2.- Variability Measures\n",
    "\n",
    "Let's now see how to evaluate the *spreading* of the values. We are going to use two main quantitites:\n",
    "\n",
    " * The **standard deviation** if the relevant central tendency is the mean\n",
    " * The **IQR** if the relevant central tendency is the median"
   ]
  },
  {
   "cell_type": "markdown",
   "metadata": {
    "colab_type": "text",
    "id": "viRYi5WlCM0B"
   },
   "source": [
    "##### 2.2.2.1.- Standard Deviation\n",
    "\n",
    "The standard deviation is defined as the square root of the quasi-variance (the actual difference bewteen variance and quasi-variance will only be clear once we see estimation theory so by now it remains as just a definition). It is defined in a sample as\n",
    "\n",
    "\\begin{equation}\n",
    "s_x = \\sqrt{\\frac{1}{n-1}\\sum_{i=1}^n (x_i-\\bar x)^2}\n",
    "\\end{equation}\n",
    "\n",
    "then it can be seen as the average distance to the mean. In symmetric distributions it denotes the distances from the mean value (both sides) where we will find most of the values of the distribution.\n",
    "\n",
    "In Python we use the `std()` function to find it"
   ]
  },
  {
   "cell_type": "code",
   "execution_count": null,
   "metadata": {
    "colab": {
     "base_uri": "https://localhost:8080/",
     "height": 35
    },
    "colab_type": "code",
    "executionInfo": {
     "elapsed": 33121,
     "status": "ok",
     "timestamp": 1569245422913,
     "user": {
      "displayName": "Juan Jose Manjarin",
      "photoUrl": "",
      "userId": "04910883006985787828"
     },
     "user_tz": -120
    },
    "id": "Az5cl_JFDTTW",
    "outputId": "7caf1c49-f521-4871-f8c7-1370813e0a1d"
   },
   "outputs": [],
   "source": [
    "forar_sd = mydf[\"forar2014\"].std()\n",
    "forar_sd"
   ]
  },
  {
   "cell_type": "markdown",
   "metadata": {
    "colab_type": "text",
    "id": "oBbqbRQREBXE"
   },
   "source": [
    "##### 2.2.2.2.- IQR\n",
    "\n",
    "The Interquartile Range is the distance from the first to the third quartile of the distribution. It represents the range where we can find the middle 50% of the values of the distribution.\n",
    "\n",
    "To compute it we follow\n",
    "\n",
    "\\begin{equation}\n",
    "IQR = Q_3 - Q_1\n",
    "\\end{equation}\n",
    "\n",
    "then we may just find the corresponding quartiles (or percentiles) and substract them"
   ]
  },
  {
   "cell_type": "code",
   "execution_count": null,
   "metadata": {
    "colab": {
     "base_uri": "https://localhost:8080/",
     "height": 35
    },
    "colab_type": "code",
    "executionInfo": {
     "elapsed": 33078,
     "status": "ok",
     "timestamp": 1569245422915,
     "user": {
      "displayName": "Juan Jose Manjarin",
      "photoUrl": "",
      "userId": "04910883006985787828"
     },
     "user_tz": -120
    },
    "id": "DYa8TAAmGTI-",
    "outputId": "939c5edd-4759-4a79-9b31-104c22e91338"
   },
   "outputs": [],
   "source": [
    "forar_iqr = mydf[\"forar2014\"].quantile(0.75) - mydf[\"forar2014\"].quantile(0.25)\n",
    "forar_iqr"
   ]
  },
  {
   "cell_type": "markdown",
   "metadata": {
    "colab_type": "text",
    "id": "eoVVIY7BG11c"
   },
   "source": [
    "Since we have not seen the **scipy** package, we are not using it yet. However, let's mention that there is an `iqr()` function in it that can be used to obtain the same result"
   ]
  },
  {
   "cell_type": "code",
   "execution_count": null,
   "metadata": {
    "colab": {
     "base_uri": "https://localhost:8080/",
     "height": 35
    },
    "colab_type": "code",
    "executionInfo": {
     "elapsed": 33435,
     "status": "ok",
     "timestamp": 1569245423324,
     "user": {
      "displayName": "Juan Jose Manjarin",
      "photoUrl": "",
      "userId": "04910883006985787828"
     },
     "user_tz": -120
    },
    "id": "4aTuahSTGiim",
    "outputId": "c39191ee-41be-4fb8-b627-1e158ae4fc3c"
   },
   "outputs": [],
   "source": [
    "import scipy.stats as ss\n",
    "ss.iqr(mydf[\"forar2014\"])"
   ]
  },
  {
   "cell_type": "markdown",
   "metadata": {
    "colab_type": "text",
    "id": "Vyk2kpmrHYVZ"
   },
   "source": [
    "#### 2.2.3.- Shape Measures\n",
    "\n",
    "As we know, the central tendency and variability measures are definitely not enough since the same values may correspond to completely different distributions"
   ]
  },
  {
   "cell_type": "code",
   "execution_count": null,
   "metadata": {
    "colab": {
     "base_uri": "https://localhost:8080/",
     "height": 369
    },
    "colab_type": "code",
    "executionInfo": {
     "elapsed": 33934,
     "status": "ok",
     "timestamp": 1569245423869,
     "user": {
      "displayName": "Juan Jose Manjarin",
      "photoUrl": "",
      "userId": "04910883006985787828"
     },
     "user_tz": -120
    },
    "id": "rtqg__JHI6P4",
    "outputId": "1d6818e5-3237-4b17-c579-ec46c03e978d"
   },
   "outputs": [],
   "source": [
    "from scipy.stats import norm\n",
    "x1 = np.arange(-3, 3, 0.01)\n",
    "y1 = norm(0,1).pdf(x1)\n",
    "\n",
    "x2 = np.array([-1, 0, 1])\n",
    "y2 = np.array([1, 1 , 1])\n",
    "\n",
    "\n",
    "plt.figure(figsize = (10,5))\n",
    "\n",
    "plt.subplot(121)\n",
    "_ = plt.plot(x1, y1)\n",
    "_ = plt.xlabel(\"Values\")\n",
    "_ = plt.ylabel(\"Density\")\n",
    "_ = plt.title(\"mean = 0, sd = 1\")\n",
    "\n",
    "plt.subplot(122)\n",
    "_ = plt.bar(x2, y2, width = 0.25)\n",
    "_ = plt.xlabel(\"Values\")\n",
    "_ = plt.ylabel(\"Frequency\")\n",
    "_ = plt.title(\"mean = 0, sd = 1\")\n",
    "\n",
    "plt.tight_layout()\n",
    "plt.show()"
   ]
  },
  {
   "cell_type": "markdown",
   "metadata": {
    "colab_type": "text",
    "id": "xp3Dp3N0MLzN"
   },
   "source": [
    "It is clear that we need other quantities to determine how the distribution is. These are the shape measures, in particular we will see\n",
    "\n",
    " * The **skewness**, which lets us find if there is contribution from long tails to one of the sides of the mean, then\n",
    " \n",
    " \n",
    "|      <0     |     0     |      >0      |\n",
    "|-------------|-----------|--------------|\n",
    "| left-skewed | symmetric | right-skewed |\n",
    " \n",
    "\n",
    "where *left-skewed* means that there is a tail to the left of the mean and the same interpretation for the right side.\n",
    " \n",
    " * The **kurtosis**, which tells us how heavy are the tails of the distribution, i.e. if there is a significant number of outliers. We do not compute this as an absolute value, but compared to the normal distribution, then \n",
    " \n",
    "|      <0     |     0    |     >0      |\n",
    "|-------------|----------|-------------|\n",
    "| light-tails | no-tails | heavy-tails |\n",
    " \n",
    "where *no-tails* means \"same tails as the normal distribution\", i.e. a normal number of outliers.\n",
    "\n",
    "To find the skewness we use the `skew()` function as"
   ]
  },
  {
   "cell_type": "code",
   "execution_count": null,
   "metadata": {
    "colab": {
     "base_uri": "https://localhost:8080/",
     "height": 35
    },
    "colab_type": "code",
    "executionInfo": {
     "elapsed": 33892,
     "status": "ok",
     "timestamp": 1569245423872,
     "user": {
      "displayName": "Juan Jose Manjarin",
      "photoUrl": "",
      "userId": "04910883006985787828"
     },
     "user_tz": -120
    },
    "id": "ACAQ5aP8JHP5",
    "outputId": "17bc486d-89b7-4b0d-b7b6-9a43294d4b8c"
   },
   "outputs": [],
   "source": [
    "forar_skew = mydf[\"forar2014\"].skew()\n",
    "forar_skew"
   ]
  },
  {
   "cell_type": "markdown",
   "metadata": {
    "colab_type": "text",
    "id": "KAVZCe1oOZ9f"
   },
   "source": [
    "while for the kurtosis we use the `kurt()` function"
   ]
  },
  {
   "cell_type": "code",
   "execution_count": null,
   "metadata": {
    "colab": {
     "base_uri": "https://localhost:8080/",
     "height": 35
    },
    "colab_type": "code",
    "executionInfo": {
     "elapsed": 33853,
     "status": "ok",
     "timestamp": 1569245423875,
     "user": {
      "displayName": "Juan Jose Manjarin",
      "photoUrl": "",
      "userId": "04910883006985787828"
     },
     "user_tz": -120
    },
    "id": "AqAxFdV6OAPB",
    "outputId": "44e9270a-9126-40fb-8e99-8b3cb043b119"
   },
   "outputs": [],
   "source": [
    "forar_kurto = mydf[\"forar2014\"].kurt()\n",
    "forar_kurto"
   ]
  },
  {
   "cell_type": "markdown",
   "metadata": {
    "colab_type": "text",
    "id": "z5PJ-Ge4Pfp9"
   },
   "source": [
    "### Summary\n",
    "\n",
    "Let's make a brief summary of the values we have found"
   ]
  },
  {
   "cell_type": "code",
   "execution_count": null,
   "metadata": {
    "colab": {
     "base_uri": "https://localhost:8080/",
     "height": 128
    },
    "colab_type": "code",
    "executionInfo": {
     "elapsed": 33819,
     "status": "ok",
     "timestamp": 1569245423882,
     "user": {
      "displayName": "Juan Jose Manjarin",
      "photoUrl": "",
      "userId": "04910883006985787828"
     },
     "user_tz": -120
    },
    "id": "1snQIuyPPsJy",
    "outputId": "2531afe7-1577-4b79-84f8-e41975129d29"
   },
   "outputs": [],
   "source": [
    "print(\"The MEAN value is \" + str(round(forar_mean, 2)))\n",
    "print(\"The MEDIAN value is \" + str(round(forar_med, 2)))\n",
    "print(\"The STANDARD DEVIATION value is \" + str(round(forar_sd, 2)))\n",
    "print(\"The IQR value is \" + str(round(forar_iqr, 2)))\n",
    "print(\"The SKEWNESS value is \" + str(round(forar_skew, 2)))\n",
    "print(\"The KURTOSIS value is \" + str(round(forar_kurto, 2)))"
   ]
  },
  {
   "cell_type": "code",
   "execution_count": null,
   "metadata": {
    "colab": {
     "base_uri": "https://localhost:8080/",
     "height": 404
    },
    "colab_type": "code",
    "executionInfo": {
     "elapsed": 34209,
     "status": "ok",
     "timestamp": 1569245424325,
     "user": {
      "displayName": "Juan Jose Manjarin",
      "photoUrl": "",
      "userId": "04910883006985787828"
     },
     "user_tz": -120
    },
    "id": "HM9sLyroQrXB",
    "outputId": "d5664a15-b8e4-49c6-be2a-113f9a5ff527"
   },
   "outputs": [],
   "source": [
    "plt.suptitle(\"Forest Area Distribution\", fontsize = 20)\n",
    "\n",
    "plt.subplot2grid((1,2), (0,0))\n",
    "plt.hist(mydf[\"forar2014\"],\n",
    "         color = \"lightgreen\",\n",
    "         ec = \"darkgreen\",\n",
    "         density = True)\n",
    "\n",
    "plt.plot(np.arange(-3, 90, 0.01),\n",
    "         norm.pdf(np.arange(-3, 90, 0.01),\n",
    "                  forar_mean,\n",
    "                  forar_sd),\n",
    "         color = \"Black\",\n",
    "         lw = 1)\n",
    "plt.vlines(x=forar_mean, ymin=0, ymax= 0.025, label=\"mean\", color=\"red\")\n",
    "plt.vlines(x=forar_med, ymin=0, ymax= 0.025, label=\"median\", color=\"blue\")\n",
    "plt.hlines(xmin = forar_mean - forar_sd, \n",
    "           xmax= forar_mean + forar_sd,\n",
    "           y = 0.011,\n",
    "           label=\"st. deviation\", color=\"darkorange\")\n",
    "\n",
    "plt.title(\"Histogram\", fontsize = 15)\n",
    "plt.xlabel(\"Values\", fontsize = 15)\n",
    "plt.ylabel(\"Density\", fontsize = 15)\n",
    "plt.legend(loc = \"best\")\n",
    "\n",
    "plt.subplot2grid((1,2), (0,1))\n",
    "plt.boxplot(mydf[\"forar2014\"],\n",
    "            patch_artist = True,\n",
    "            showmeans = True,\n",
    "            widths = 0.6,\n",
    "            whis = 1.5,\n",
    "            labels = [\"Forest Area\"],\n",
    "            boxprops = dict(facecolor = \"lightgreen\"),\n",
    "            flierprops = dict(marker = 'o',\n",
    "                              markerfacecolor = 'red'))\n",
    "plt.title(\"Boxplot\", fontsize = 15)\n",
    "\n",
    "plt.annotate(\"Outlier\", xytext = (0.7, 88), xy = (0.98, 88), \n",
    "             ha = \"center\", \n",
    "             va = \"top\", \n",
    "            arrowprops= dict(arrowstyle = \"->\", \n",
    "                             connectionstyle = \"angle3\", \n",
    "                             color = \"black\" ))\n",
    "\n",
    "plt.show()"
   ]
  },
  {
   "cell_type": "markdown",
   "metadata": {
    "colab_type": "text",
    "id": "_0GUjaGOVMlw"
   },
   "source": [
    "---\n",
    "\n",
    "Given this summary, answer the following questions\n",
    "\n",
    " 1.- From both, the numerical value and the graphs, describe the skewness of the distribution\n",
    " \n",
    " 2.- From both, the numerical value and the graphs, interpret the value of the kurtosis\n",
    " \n",
    " 3.- Which central tendency measure would you use to describe the distribution? Why?\n",
    " \n",
    " 4.- Which variability measure would you use to describe the distribution? Why?\n",
    " \n",
    " 5.- Explain the outliers of the distribution\n",
    " \n",
    " 6.- Considering that the variable we are using is the forest area in different countries around the world, describe it using the previous information.\n",
    "\n",
    "---"
   ]
  },
  {
   "cell_type": "markdown",
   "metadata": {
    "colab_type": "text",
    "id": "KLyZP3SaZbXN"
   },
   "source": [
    "## 3.- Categorical Variables\n",
    "\n",
    "The main point we must keep in mind when we work with categorical variables is that we cannot compute usual values as mean or standard deviation since it does not make any sense: think of the mean hair color in a group of people...\n",
    "\n",
    "This seems to confuse some people when we work with categorical variables which have been transformed into numbers, either for conveniences as when we assign (0,1) to a (head, tails) flip of a coin or when there exists a natural ordering as a ranking or a questionnaire ranging from 1 to 5. When in doubt, try to make sense of the difference between two of the values in different positions: we can substract 5 and 3 or 10 and 8 and we obtain a number meaning exactly the same. If you do this same in the questionnaire you will see that it does not have any meaning.\n",
    "\n",
    "There is, however, one quantitiy we may still find for these categorical variables: the frequency, which at the end will become the **proportion**.\n",
    "\n",
    "Now, in Python there is no native way of working with categories since there is no such data type. However, pandas introduces it and we are going to see how to work with it (a bit) here. \n",
    "\n",
    "There are different approaches here, but we can use the `Categorical()` function to generate a pandas series of categorical nature"
   ]
  },
  {
   "cell_type": "code",
   "execution_count": null,
   "metadata": {
    "colab": {
     "base_uri": "https://localhost:8080/",
     "height": 54
    },
    "colab_type": "code",
    "executionInfo": {
     "elapsed": 34605,
     "status": "ok",
     "timestamp": 1569245424757,
     "user": {
      "displayName": "Juan Jose Manjarin",
      "photoUrl": "",
      "userId": "04910883006985787828"
     },
     "user_tz": -120
    },
    "id": "Nf7hThgVrkpL",
    "outputId": "b644a7e8-0713-4463-e169-1342f7ddbbe3"
   },
   "outputs": [],
   "source": [
    "pd.Categorical([\"yes\", \"no\", \"no\", \"yes\", \"yes\"], categories = [\"yes\", \"no\"])"
   ]
  },
  {
   "cell_type": "markdown",
   "metadata": {
    "colab_type": "text",
    "id": "8TAdHZinrk9S"
   },
   "source": [
    "Let's now create a random dataset with a set of binary variables"
   ]
  },
  {
   "cell_type": "code",
   "execution_count": null,
   "metadata": {
    "colab": {
     "base_uri": "https://localhost:8080/",
     "height": 206
    },
    "colab_type": "code",
    "executionInfo": {
     "elapsed": 34581,
     "status": "ok",
     "timestamp": 1569245424759,
     "user": {
      "displayName": "Juan Jose Manjarin",
      "photoUrl": "",
      "userId": "04910883006985787828"
     },
     "user_tz": -120
    },
    "id": "0fIfcUI_ni3d",
    "outputId": "5f6c0b4c-7c97-4f09-fbab-6dba3a742abd"
   },
   "outputs": [],
   "source": [
    "random.seed(101)\n",
    "catdf = pd.DataFrame({\"married\": pd.Categorical(np.random.randint(0,2,100)),\n",
    "                      \"siblings\": pd.Categorical(np.random.randint(0,2,100)),\n",
    "                      \"female\": pd.Categorical(np.random.randint(0,2,100))})\n",
    "catdf.head()"
   ]
  },
  {
   "cell_type": "markdown",
   "metadata": {
    "colab_type": "text",
    "id": "7eDzuD5HsY5H"
   },
   "source": [
    "As expected, if we use the `describe()` function here, we will find that there is nothing similar to the output we obtained with numerical variables (to actually compare, drop the pd.Categorical and see the output)"
   ]
  },
  {
   "cell_type": "code",
   "execution_count": null,
   "metadata": {
    "colab": {
     "base_uri": "https://localhost:8080/",
     "height": 175
    },
    "colab_type": "code",
    "executionInfo": {
     "elapsed": 34557,
     "status": "ok",
     "timestamp": 1569245424762,
     "user": {
      "displayName": "Juan Jose Manjarin",
      "photoUrl": "",
      "userId": "04910883006985787828"
     },
     "user_tz": -120
    },
    "id": "CgDgXWepsZMY",
    "outputId": "56054879-ce7e-4a55-9b6d-cb99fa87039e"
   },
   "outputs": [],
   "source": [
    "catdf.describe()"
   ]
  },
  {
   "cell_type": "markdown",
   "metadata": {
    "colab_type": "text",
    "id": "2JgFp_QGtZwv"
   },
   "source": [
    "the most we get are the frequencies of the most repeated category. In this case it is useful because we only have two of them, but with 3 or more, this values is not meaningful.\n",
    "\n",
    "If we want an individual summary we need the `value_counts()` method"
   ]
  },
  {
   "cell_type": "code",
   "execution_count": null,
   "metadata": {
    "colab": {
     "base_uri": "https://localhost:8080/",
     "height": 72
    },
    "colab_type": "code",
    "executionInfo": {
     "elapsed": 34539,
     "status": "ok",
     "timestamp": 1569245424765,
     "user": {
      "displayName": "Juan Jose Manjarin",
      "photoUrl": "",
      "userId": "04910883006985787828"
     },
     "user_tz": -120
    },
    "id": "QyA47nbZuDcr",
    "outputId": "efcb8095-683f-481c-d167-d88a4ae3f214"
   },
   "outputs": [],
   "source": [
    "catdf[\"married\"].value_counts()"
   ]
  },
  {
   "cell_type": "markdown",
   "metadata": {
    "colab_type": "text",
    "id": "egSfRKGQuhb_"
   },
   "source": [
    "### 3.1.- Contingency Tables\n",
    "\n",
    "When we have more than one categorical variable and we want to summarize the frequencies of the observations fitting into all the possible combinations of categories we need a **contingency table**. \n",
    "\n",
    "In pandas we have the `crosstab()` function that finds these tables, for example, the contingency table of `female` and `married` variables is"
   ]
  },
  {
   "cell_type": "code",
   "execution_count": null,
   "metadata": {
    "colab": {
     "base_uri": "https://localhost:8080/",
     "height": 144
    },
    "colab_type": "code",
    "executionInfo": {
     "elapsed": 34523,
     "status": "ok",
     "timestamp": 1569245424770,
     "user": {
      "displayName": "Juan Jose Manjarin",
      "photoUrl": "",
      "userId": "04910883006985787828"
     },
     "user_tz": -120
    },
    "id": "kFfikwckqVwt",
    "outputId": "bc657560-bb43-4bfe-cb08-232ed1f2df54"
   },
   "outputs": [],
   "source": [
    "pd.crosstab(catdf.female, catdf.married)"
   ]
  },
  {
   "cell_type": "markdown",
   "metadata": {
    "colab_type": "text",
    "id": "U6zvmoYCvBog"
   },
   "source": [
    "which means that there are 23 people in the sample which are not-female and not-married, and so on.\n",
    "\n",
    "If we need this table in proportions, we have the `normalize` argument that let's us find the corresponding table"
   ]
  },
  {
   "cell_type": "code",
   "execution_count": null,
   "metadata": {
    "colab": {
     "base_uri": "https://localhost:8080/",
     "height": 144
    },
    "colab_type": "code",
    "executionInfo": {
     "elapsed": 34505,
     "status": "ok",
     "timestamp": 1569245424773,
     "user": {
      "displayName": "Juan Jose Manjarin",
      "photoUrl": "",
      "userId": "04910883006985787828"
     },
     "user_tz": -120
    },
    "id": "h8pCdeCdvUXz",
    "outputId": "934c908c-9477-441c-861b-c3fe63d50957"
   },
   "outputs": [],
   "source": [
    "pd.crosstab(catdf.female, catdf.married, normalize = True)"
   ]
  },
  {
   "cell_type": "markdown",
   "metadata": {
    "colab_type": "text",
    "id": "V5v_dqlMvnVU"
   },
   "source": [
    "Since the output of this function is a pandas data frame, we can use all the methods of this class, in particular we can plot it directly"
   ]
  },
  {
   "cell_type": "code",
   "execution_count": null,
   "metadata": {
    "colab": {
     "base_uri": "https://localhost:8080/",
     "height": 405
    },
    "colab_type": "code",
    "executionInfo": {
     "elapsed": 34864,
     "status": "ok",
     "timestamp": 1569245425165,
     "user": {
      "displayName": "Juan Jose Manjarin",
      "photoUrl": "",
      "userId": "04910883006985787828"
     },
     "user_tz": -120
    },
    "id": "Mhvw1eKYv4Ne",
    "outputId": "486c43dd-c705-40fc-81b9-7cf3ba05213c"
   },
   "outputs": [],
   "source": [
    "labels = [0, 1]\n",
    "\n",
    "fig, axes = plt.subplots(nrows=1, ncols=2)\n",
    "\n",
    "pd.crosstab(catdf.female, catdf.married).plot(kind = \"bar\", ax = axes[0])\n",
    "axes[0].set_xticklabels(labels, rotation = 0)\n",
    "axes[0].set_xlabel(\"Female\")\n",
    "\n",
    "pd.crosstab(catdf.female, catdf.married).plot(kind = \"bar\", ax = axes[1], stacked = True)\n",
    "axes[1].set_xticklabels(labels, rotation = 0)\n",
    "axes[1].set_xlabel(\"Female\")\n",
    "\n",
    "plt.tight_layout()\n",
    "plt.show()"
   ]
  },
  {
   "cell_type": "markdown",
   "metadata": {
    "colab_type": "text",
    "id": "G-Svhe3wvj48"
   },
   "source": [
    "In many situations we will find that we have more than one categorical variable and we want to find all the crossed frequencies, the procedure is exactly the same but passing a list as the set of classifiers, then"
   ]
  },
  {
   "cell_type": "code",
   "execution_count": null,
   "metadata": {
    "colab": {
     "base_uri": "https://localhost:8080/",
     "height": 175
    },
    "colab_type": "code",
    "executionInfo": {
     "elapsed": 34805,
     "status": "ok",
     "timestamp": 1569245425171,
     "user": {
      "displayName": "Juan Jose Manjarin",
      "photoUrl": "",
      "userId": "04910883006985787828"
     },
     "user_tz": -120
    },
    "id": "EwiIhaG0qCiv",
    "outputId": "ef7e5ebe-e725-47c5-d48a-e503f139e884"
   },
   "outputs": [],
   "source": [
    "pd.crosstab(catdf.female, [catdf.married, catdf.siblings])"
   ]
  },
  {
   "cell_type": "markdown",
   "metadata": {
    "colab_type": "text",
    "id": "5JW7fkUV0USI"
   },
   "source": [
    "so the 17 means that there are 17 people in this sample who are female, are married and have siblings.\n",
    "\n",
    "Just as before, we can plot this contingency table directly using the dataframe methods"
   ]
  },
  {
   "cell_type": "code",
   "execution_count": null,
   "metadata": {
    "colab": {
     "base_uri": "https://localhost:8080/",
     "height": 405
    },
    "colab_type": "code",
    "executionInfo": {
     "elapsed": 35507,
     "status": "ok",
     "timestamp": 1569245425915,
     "user": {
      "displayName": "Juan Jose Manjarin",
      "photoUrl": "",
      "userId": "04910883006985787828"
     },
     "user_tz": -120
    },
    "id": "0aFUcwT60lJb",
    "outputId": "835b4c2d-5e0e-4d94-9893-7dbb4f95d767"
   },
   "outputs": [],
   "source": [
    "labels = [0, 1]\n",
    "\n",
    "fig, axes = plt.subplots(nrows=1, ncols=2)\n",
    "\n",
    "pd.crosstab(catdf.female, [catdf.married, catdf.siblings]).plot(kind = \"bar\", ax = axes[0])\n",
    "axes[0].set_xticklabels(labels, rotation = 0)\n",
    "axes[0].set_xlabel(\"Female\")\n",
    "\n",
    "pd.crosstab(catdf.female, [catdf.married, catdf.siblings]).plot(kind = \"bar\", ax = axes[1], stacked = True)\n",
    "axes[1].set_xticklabels(labels, rotation = 0)\n",
    "axes[1].set_xlabel(\"Female\")\n",
    "axes[1].legend(loc = \"best\")\n",
    "\n",
    "plt.tight_layout()\n",
    "plt.show()"
   ]
  }
 ],
 "metadata": {
  "jupytext": {
   "text_representation": {
    "extension": ".md",
    "format_name": "myst",
    "format_version": 0.12,
    "jupytext_version": "1.9.1"
   }
  },
  "kernelspec": {
   "display_name": "Python 3",
   "name": "python3"
  },
  "language_info": {
   "codemirror_mode": {
    "name": "ipython",
    "version": 3
   },
   "file_extension": ".py",
   "mimetype": "text/x-python",
   "name": "python",
   "nbconvert_exporter": "python",
   "pygments_lexer": "ipython3",
   "version": "3.9.1+"
  },
  "source_map": [
   13,
   27,
   38,
   44,
   66,
   70,
   92,
   102,
   130,
   136,
   146,
   179,
   185,
   218,
   228,
   258,
   268,
   293,
   319,
   340,
   359,
   380,
   384,
   405,
   409,
   415,
   436,
   440,
   461,
   465,
   471,
   485,
   507,
   517,
   525,
   547,
   553,
   576,
   580,
   606,
   610,
   632,
   636,
   662,
   670,
   691,
   700,
   714,
   736,
   750,
   772,
   776,
   798,
   804,
   848,
   872,
   894,
   898,
   920,
   926,
   952,
   1018,
   1040,
   1054,
   1075,
   1079,
   1104,
   1108,
   1129,
   1135,
   1156,
   1164,
   1185,
   1191,
   1212,
   1216,
   1250,
   1254,
   1275,
   1281
  ]
 },
 "nbformat": 4,
 "nbformat_minor": 4
}