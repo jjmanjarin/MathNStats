{
 "cells": [
  {
   "cell_type": "markdown",
   "metadata": {
    "colab_type": "text",
    "id": "cq4vc0HDSRPn"
   },
   "source": [
    "# Probability Distribution Functions\n",
    "\n",
    "### Prof. Dr. Juanjo Manjarín\n",
    "**Statistics & Data Analysis**\n",
    "\n",
    "---\n",
    "\n",
    "In this document we are going to introduce the **scipy** package that will be essential for all the analysis with probability distribution functions. In particular we are going to explore:\n",
    "\n",
    " * Discrete Distributions:\n",
    "   * Binomial\n",
    "   * Poisson\n",
    "   * Hypergeometric\n",
    " \n",
    " * Continuous Distributions:\n",
    "   * Normal\n",
    "   * Exponential\n",
    "   * Uniform"
   ]
  },
  {
   "cell_type": "markdown",
   "metadata": {
    "colab_type": "text",
    "id": "zmCP9SjwZdXE"
   },
   "source": [
    "## 1.- Generalities of Discrete Distributions\n",
    "\n",
    "Let's review some of the properties of this type of distributions. Remember that a **discrete probability distribution** (also known as **mass function**) is an (infinite or not) set of countable values with assigned probability. \n",
    "\n",
    "\n",
    "---\n",
    "\n",
    "**Example**. Based on their previous experience, a contractor is studying the probability distribution of the number of jobs she has per month. Her data is represented in the following table\n",
    "\n",
    "| X | P(X)|\n",
    "|---|-----|\n",
    "| 0 | 0.1 |\n",
    "| 1 | 0.3 |\n",
    "| 2 | 0.4 |\n",
    "| 3 | 0.1 |\n",
    "| 4 | 0.1 |\n",
    "\n",
    "Where X is the random variable\n",
    "\n",
    "\\begin{equation}\n",
    "X = \\{\\text{Number of contracts}\\}\n",
    "\\end{equation}\n",
    "\n",
    "---\n",
    "\n",
    "Remember that at this point the onlye requirement we make for the probability distribution is that, in our context, the sum of all the probabilities over all the sampling space is equal to one\n",
    "\n",
    "\\begin{equation}\n",
    "\\sum_{i=1}^n P(X=x_i) = 1\n",
    "\\end{equation}\n",
    "\n",
    "where $n$ can be $\\infty$. Then can use this in different ways\n",
    "\n",
    " * To find the probability of a given value of the random variable: **Mass Function**\n",
    " * To find the probability of an interval of values of the random variable: **Cumulative** and **Survival Functions*\n",
    " * To find the value of the random variable for a given probability: **Percentile** and **Inverse Survival Functions**"
   ]
  },
  {
   "cell_type": "markdown",
   "metadata": {
    "colab_type": "text",
    "id": "RPYDruLacXZE"
   },
   "source": [
    "### 1.1.- The Mass Function\n",
    "\n",
    "In this case we find\n",
    "\n",
    "\\begin{equation}\n",
    "P(X=x)=a\n",
    "\\end{equation}\n",
    "\n",
    "\n",
    "---\n",
    "\n",
    "**From the Example**: Find the probability that the contractor has 3 jobs per month.\n",
    "\n",
    "\\begin{equation}\n",
    "P(X=3)=0.1\n",
    "\\end{equation}\n",
    "\n",
    "---"
   ]
  },
  {
   "cell_type": "markdown",
   "metadata": {
    "colab_type": "text",
    "id": "Hs5NZ8Fhffag"
   },
   "source": [
    "### 1.2.- Cumulative and Survival Functions\n",
    "\n",
    "These are the functions we use to find the probabilities of intervals of values of the random variable. On one hand we find the **cumulative distribution function**, defined as\n",
    "\n",
    "\\begin{equation}\n",
    "F(x) = P(X\\leq x)\n",
    "\\end{equation}\n",
    "\n",
    "and then we have the **survival distribution function**, defined as\n",
    "\n",
    "\\begin{equation}\n",
    "S(x) = 1-F(x) = 1-P(X\\leq x)=P(X>x)\n",
    "\\end{equation}\n",
    "\n",
    "\n",
    "\n",
    "---\n",
    "\n",
    "**From the Example**: Find the probability that the contractor has less than 3 contracts. Then find the probability that she has more than 3.\n",
    "\n",
    "\\begin{equation}\n",
    "P(X<3) = P(X\\leq 2) = F(2) = 0.8\n",
    "\\end{equation}\n",
    "\n",
    "and\n",
    "\n",
    "\\begin{equation}\n",
    "P(X>3) = 1 - P(X\\leq 3) = 1- F(3) = 0.1\n",
    "\\end{equation}\n",
    "\n",
    "---\n",
    "\n",
    "see that the only proble in these computations is reading *less/more* or *less/more than*, since we include or not the value. These computations can be carried using the mass function, since the events are **mutually exclusive** and then\n",
    "\n",
    "\\begin{equation}\n",
    "\\begin{array}{rcl}\n",
    "P(X\\leq x_i) & = & \\displaystyle P\\left(\\bigcup_{j=0}^i P(X=x_j)\\right)\\\\[2ex]\n",
    "& = & P(X=x_0) + \\dots + P(X=x_i)\n",
    "\\end{array}\n",
    "\\end{equation}\n",
    "\n",
    "then in our example\n",
    "\n",
    "\\begin{equation}\n",
    "\\begin{array}{rcl}\n",
    "P(X<3) & = & P(X=0) + P(X=1) + P(X=3)\\\\[2ex]\n",
    "& =& 0.1+0.3+0.4\\\\[2ex]\n",
    "& = & 0.8\n",
    "\\end{array}\n",
    "\\end{equation}\n",
    "\n",
    "This can be used to find the probability to find the random variable in a given **interval**. Given the possible combinations of inequality signs, we can have four different cases. The one that is more relevant for us is\n",
    "\n",
    "\\begin{equation}\n",
    "P(a< X \\leq b)=F(b)-F(a)\n",
    "\\end{equation}\n",
    "\n",
    "try the other options and see how to write them in terms of cumulative distribution functions."
   ]
  },
  {
   "cell_type": "markdown",
   "metadata": {
    "colab_type": "text",
    "id": "Aphe3nhIklQc"
   },
   "source": [
    "### 1.3.- Percentile and Inverse Survival Functions\n",
    "\n",
    "In this case we do not look for the proabability but the value (percentile) of that probability. Remember that a percentile represents a cumulative value. The only difference with these two cases is that in the first case we use the cumulative function and in  the second, the survival. Then\n",
    "\n",
    "---\n",
    "\n",
    "**From the Example**. If the contractor wants a probability of having a contract to be at least the 80%, find the minimum number of contracts she needs. This can be written as\n",
    "\n",
    "\\begin{equation}\n",
    "\\begin{array}{rcl}\n",
    "P(X\\leq x) \\geq 0.8\n",
    "\\end{array}\n",
    "\\end{equation}\n",
    "\n",
    "and since we only need the minimum value we easily find the value\n",
    "\n",
    "\\begin{equation}\n",
    "x = 2\n",
    "\\end{equation}\n",
    "\n",
    "---"
   ]
  },
  {
   "cell_type": "markdown",
   "metadata": {
    "colab_type": "text",
    "id": "OMCFwQ7X3Jmh"
   },
   "source": [
    "## 2.- Generalities on Continuous Distribution Functions\n",
    "\n",
    "Remember that when we move from a discrete into a continuous set the main technical point is that discrete sums become integrals. The probability distribution becomes a **density function** that must be integrated to obtain a probability.\n",
    "\n",
    "If we consider the probability to find the random variable in an interval of values we can still write the same formula as before\n",
    "\n",
    "\\begin{equation}\n",
    "P(a<X\\leq b) = F(b)-F(a)\n",
    "\\end{equation}\n",
    "\n",
    "but this is nothing less than the definition of the integral\n",
    "\n",
    "\\begin{equation}\n",
    "\\int_a^b f(x)dx = F(b)-F(a)\n",
    "\\end{equation}\n",
    "\n",
    "we will denote this $f(x)$ as the **density function** and it is such that its primitive is the **cumulative distribution function**, $F(x)$. This allows us to interpret the probability as the **area below the density function curve**. Now, as before, there must be a condition for the probability over all the sampling space\n",
    "\n",
    "\\begin{equation}\n",
    "\\int_{-\\infty}^\\infty f(x)dx=1\n",
    "\\end{equation}\n",
    "\n",
    "The fact that probabilities are integrals has some major implications. The first of them is that the **mass function is always 0**\n",
    "\n",
    "\\begin{equation}\n",
    "P(X=x)=\\int_x^x f(x)dx = 0\n",
    "\\end{equation}\n",
    "\n",
    "therefore, the probability that a continuous random variable takes one particular value is always 0.\n",
    "\n",
    "A second implication is that since the integrals extend to infinity, there may be cases in which the integrals do not yield a finite value. In these cases we say that the value we are trying to compute does not exist. This is the case when a distribution has too many outliers. This problem can be so important to the point of render quantities as the **mean** or the **standard deviation** inexisten. As surprising as it may be, this happens in real life situations, however, we will not study this any further and only come back to this in the context of the **central limit theorem**."
   ]
  },
  {
   "cell_type": "markdown",
   "metadata": {
    "colab_type": "text",
    "id": "2CwfX4s_7Ye1"
   },
   "source": [
    "## 3.- Graphical Representations\n",
    "\n",
    "In this section we are going to use the normal distribution in advance of the explanations we are going to see later. The first thing we need is to load the package that contains all the specifications of the normal distribution"
   ]
  },
  {
   "cell_type": "code",
   "execution_count": 1,
   "metadata": {
    "colab": {},
    "colab_type": "code",
    "id": "Wx24qPrcc7PO"
   },
   "outputs": [],
   "source": [
    "import pandas as pd\n",
    "import numpy as np\n",
    "import matplotlib.pyplot as plt\n",
    "\n",
    "from scipy.stats import norm\n",
    "\n",
    "plt.style.use(\"seaborn\")"
   ]
  },
  {
   "cell_type": "markdown",
   "metadata": {
    "colab_type": "text",
    "id": "AQNhwMR975U4"
   },
   "source": [
    "see that we could import all the scipy.stats as follows\n",
    "\n",
    "```python\n",
    "import scipy.stats as ss\n",
    "```\n",
    "\n",
    "and then use \n",
    "\n",
    "```python\n",
    "ss.norm()\n",
    "```\n",
    "\n",
    "when we want to use the normal distribution module but, by now let's just import the module only. We are going to use a normal distribution with mean `0` and standard deviation `1`. Then the set of graphs that correspond to the previous cases is"
   ]
  },
  {
   "cell_type": "code",
   "execution_count": 2,
   "metadata": {
    "colab": {
     "base_uri": "https://localhost:8080/",
     "height": 585
    },
    "colab_type": "code",
    "executionInfo": {
     "elapsed": 2971,
     "status": "ok",
     "timestamp": 1570454627199,
     "user": {
      "displayName": "Juan Jose Manjarin",
      "photoUrl": "",
      "userId": "04910883006985787828"
     },
     "user_tz": -120
    },
    "id": "8_VuEcSMzR4X",
    "outputId": "52af3f96-a487-4587-bb29-8bb51142eaf7"
   },
   "outputs": [
    {
     "data": {
      "image/png": "[encoded data removed]",
      "text/plain": [
       "<Figure size 576x576 with 5 Axes>"
      ]
     },
     "metadata": {
      "filenames": {
       "image/png": "/home/asilkris/Documentos/MathNStats/MathNStats/MathNStats/_build/jupyter_execute/06_Probability_Distribution_Functions_9_0.png"
      }
     },
     "output_type": "display_data"
    }
   ],
   "source": [
    "xrange = np.linspace(norm.ppf(0.001), norm.ppf(0.999), 100)\n",
    "xinv = np.arange(0,1,0.001)\n",
    "\n",
    "plt.figure(figsize = (8,8))\n",
    "plt.suptitle(\"Probability Distribution Graphs\", fontsize = 20)\n",
    "\n",
    "plt.subplot2grid((3,2), (0,0), colspan = 2, rowspan = 1)\n",
    "plt.plot(xrange, norm.pdf(xrange))\n",
    "plt.title(\"Density Function\")\n",
    "\n",
    "plt.subplot2grid((3,2), (1,0), colspan = 1, rowspan = 1)\n",
    "plt.title(\"Cumulative Function\")\n",
    "plt.plot(xrange, norm.cdf(xrange))\n",
    "plt.vlines(0,0,1, color = \"orangered\", linestyle = \"dotted\")\n",
    "\n",
    "plt.subplot2grid((3,2), (1,1), colspan = 1, rowspan = 1)\n",
    "plt.title(\"Survival Function\")\n",
    "plt.plot(xrange, 1-norm.cdf(xrange))\n",
    "plt.vlines(0,0,1, color = \"orangered\", linestyle = \"dotted\")\n",
    "\n",
    "plt.subplot2grid((3,2), (2,0), colspan = 1, rowspan = 1)\n",
    "plt.title(\"Percentile Function\")\n",
    "plt.plot(xinv, norm.ppf(xinv))\n",
    "plt.hlines(0,0,1, color = \"orangered\", linestyle = \"dotted\")\n",
    "\n",
    "plt.subplot2grid((3,2), (2,1), colspan = 1, rowspan = 1)\n",
    "plt.title(\"Inverse Survival Function\")\n",
    "plt.plot(xinv, norm.isf(xinv))\n",
    "plt.hlines(0,0,1, color = \"orangered\", linestyle = \"dotted\")\n",
    "\n",
    "plt.tight_layout(rect = (0,0,1,0.94))\n",
    "plt.show()"
   ]
  },
  {
   "cell_type": "markdown",
   "metadata": {
    "colab_type": "text",
    "id": "sapoKFewzpEi"
   },
   "source": [
    "## 4.- Discrete Distributions\n",
    "\n",
    "Remember that a discrete random variable describes experiments in which we **count number of events**. However, depending on certain cases we may use particularly well known distribution functions. Let's see them"
   ]
  },
  {
   "cell_type": "markdown",
   "metadata": {
    "colab_type": "text",
    "id": "gTXZHyMu0VxM"
   },
   "source": [
    "### 4.1.- Binomial Distribution\n",
    "\n",
    "Whenever we have a sequence of independent events with only two possible outcomes, we have what is known as a **Bernoulli Sequence** and a case for a binomial probability. Examples are:\n",
    "\n",
    "  * A flip of one single coin, or a sequence of 100 flips of one coin\n",
    "  * Passengers showing up or not to a flight\n",
    "  * A train ariving on time or not to a station\n",
    "  \n",
    "In all of these cases we will denote:\n",
    "\n",
    "  * **$p$**, as the probablity of success\n",
    "  * **$q = 1-p$**, as the probability of failure\n",
    "  * **$n$**, as the number of events\n",
    "  * **$x$**, as the number of successes in the sequence\n",
    "  \n",
    "remember that since you always have a freedom to choose the random variable, you define what a *success* is.\n",
    "\n",
    "The probability distribution function is\n",
    "\n",
    "\\begin{equation}\n",
    "P(X=x)=\\pmatrix{n \\\\ x} p^xq^{n-x}\n",
    "\\end{equation}\n",
    "\n",
    "In Python, all the methods associated with this distribution are loaded from the `binom` module"
   ]
  },
  {
   "cell_type": "code",
   "execution_count": 3,
   "metadata": {
    "colab": {},
    "colab_type": "code",
    "id": "GLXuIl0b4COv"
   },
   "outputs": [],
   "source": [
    "from scipy.stats import binom"
   ]
  },
  {
   "cell_type": "markdown",
   "metadata": {
    "colab_type": "text",
    "id": "w-HpXnum4S0V"
   },
   "source": [
    "The main methods we will use are\n",
    "\n",
    " * **`pmf`**, as the probability mass function. This function returns individual probability values. The following is the probability of 10 successes in a sequence of 50 events each with a probability of success of 0.3"
   ]
  },
  {
   "cell_type": "code",
   "execution_count": 4,
   "metadata": {
    "colab": {
     "base_uri": "https://localhost:8080/",
     "height": 35
    },
    "colab_type": "code",
    "executionInfo": {
     "elapsed": 2941,
     "status": "ok",
     "timestamp": 1570454627204,
     "user": {
      "displayName": "Juan Jose Manjarin",
      "photoUrl": "",
      "userId": "04910883006985787828"
     },
     "user_tz": -120
    },
    "id": "C9g0rd2Z6qd2",
    "outputId": "f94e3412-cd4b-4e5a-eb85-5e64d9c91cde"
   },
   "outputs": [
    {
     "data": {
      "text/plain": [
       "0.03861899068386186"
      ]
     },
     "execution_count": 4,
     "metadata": {},
     "output_type": "execute_result"
    }
   ],
   "source": [
    "binom.pmf(10, 50, 0.3)"
   ]
  },
  {
   "cell_type": "markdown",
   "metadata": {
    "colab_type": "text",
    "id": "GuEyLoA16k_j"
   },
   "source": [
    " * **`cdf`**, as the cumulative distribution function. This function returns the values of *less or equal to* probabilities. The following is the probability of a most 10 successes in a sequence of 50 events with a probability of success of 0.3"
   ]
  },
  {
   "cell_type": "code",
   "execution_count": 5,
   "metadata": {
    "colab": {
     "base_uri": "https://localhost:8080/",
     "height": 35
    },
    "colab_type": "code",
    "executionInfo": {
     "elapsed": 2929,
     "status": "ok",
     "timestamp": 1570454627221,
     "user": {
      "displayName": "Juan Jose Manjarin",
      "photoUrl": "",
      "userId": "04910883006985787828"
     },
     "user_tz": -120
    },
    "id": "6cxBpAnf7NYK",
    "outputId": "514b3cc3-a545-45ba-c141-e6f629c5f1fe"
   },
   "outputs": [
    {
     "data": {
      "text/plain": [
       "0.07885062482305628"
      ]
     },
     "execution_count": 5,
     "metadata": {},
     "output_type": "execute_result"
    }
   ],
   "source": [
    "binom.cdf(10, 50, 0.3)"
   ]
  },
  {
   "cell_type": "markdown",
   "metadata": {
    "colab_type": "text",
    "id": "xwaygZpx6mpj"
   },
   "source": [
    " * **`sf`**, as the survival function. This function returns the values of *greater to* probabilities. The following is the probability of more than 10 successes in a sequence of 50 events with probability of success of 0.3"
   ]
  },
  {
   "cell_type": "code",
   "execution_count": 6,
   "metadata": {
    "colab": {
     "base_uri": "https://localhost:8080/",
     "height": 35
    },
    "colab_type": "code",
    "executionInfo": {
     "elapsed": 2910,
     "status": "ok",
     "timestamp": 1570454627222,
     "user": {
      "displayName": "Juan Jose Manjarin",
      "photoUrl": "",
      "userId": "04910883006985787828"
     },
     "user_tz": -120
    },
    "id": "gIRgDk0_7hEb",
    "outputId": "c072046f-dad9-4aa9-e175-7a3eeeffb0b1"
   },
   "outputs": [
    {
     "data": {
      "text/plain": [
       "0.921149375176944"
      ]
     },
     "execution_count": 6,
     "metadata": {},
     "output_type": "execute_result"
    }
   ],
   "source": [
    "binom.sf(10, 50, 0.3)"
   ]
  },
  {
   "cell_type": "markdown",
   "metadata": {
    "colab_type": "text",
    "id": "B9Nvc5jL6ny3"
   },
   "source": [
    " * **`ppf`**, as the percentile point function. This function returns the percentile of a particular cumulative probability. The following is the number of successes needed for a cumulative probability of 0.5 in a sequence of 50 events if the probability of success is 0.3"
   ]
  },
  {
   "cell_type": "code",
   "execution_count": 7,
   "metadata": {
    "colab": {
     "base_uri": "https://localhost:8080/",
     "height": 35
    },
    "colab_type": "code",
    "executionInfo": {
     "elapsed": 2891,
     "status": "ok",
     "timestamp": 1570454627223,
     "user": {
      "displayName": "Juan Jose Manjarin",
      "photoUrl": "",
      "userId": "04910883006985787828"
     },
     "user_tz": -120
    },
    "id": "SdSMbKRy76GI",
    "outputId": "8a2aef28-995c-4319-caaf-eff9588f92ba"
   },
   "outputs": [
    {
     "data": {
      "text/plain": [
       "15.0"
      ]
     },
     "execution_count": 7,
     "metadata": {},
     "output_type": "execute_result"
    }
   ],
   "source": [
    "binom.ppf(0.5, 50, 0.3)"
   ]
  },
  {
   "cell_type": "markdown",
   "metadata": {
    "colab_type": "text",
    "id": "oaDe5aqW6o18"
   },
   "source": [
    " * **`isf`**, as the inverse survival function. This function returns the number of successes for a given survival probability. The following is the number of successes for a survival probability of 0.5 in a sequence of 50 events if the probability of success is 0.3"
   ]
  },
  {
   "cell_type": "code",
   "execution_count": 8,
   "metadata": {
    "colab": {
     "base_uri": "https://localhost:8080/",
     "height": 35
    },
    "colab_type": "code",
    "executionInfo": {
     "elapsed": 3229,
     "status": "ok",
     "timestamp": 1570454627579,
     "user": {
      "displayName": "Juan Jose Manjarin",
      "photoUrl": "",
      "userId": "04910883006985787828"
     },
     "user_tz": -120
    },
    "id": "932NVQev8FBd",
    "outputId": "08bc8bfa-9c8f-4a13-bc5c-a0d654e63629"
   },
   "outputs": [
    {
     "data": {
      "text/plain": [
       "15.0"
      ]
     },
     "execution_count": 8,
     "metadata": {},
     "output_type": "execute_result"
    }
   ],
   "source": [
    "binom.isf(0.5, 50, 0.3)"
   ]
  },
  {
   "cell_type": "markdown",
   "metadata": {
    "colab_type": "text",
    "id": "w8ValdDc89pK"
   },
   "source": [
    "Before going on, there is a couple of properties that we need to review of this distribution\n",
    "\n",
    "  * For a fixed number of events and successes, chaging the probability of success has a deep impact in the shape of the distribution"
   ]
  },
  {
   "cell_type": "code",
   "execution_count": 9,
   "metadata": {
    "colab": {
     "base_uri": "https://localhost:8080/",
     "height": 317
    },
    "colab_type": "code",
    "executionInfo": {
     "elapsed": 3780,
     "status": "ok",
     "timestamp": 1570454628149,
     "user": {
      "displayName": "Juan Jose Manjarin",
      "photoUrl": "",
      "userId": "04910883006985787828"
     },
     "user_tz": -120
    },
    "id": "iBXWjByaF5qE",
    "outputId": "4e82aef7-b6af-43c0-8ff6-1c5c50aa29e9"
   },
   "outputs": [
    {
     "data": {
      "image/png": "[encoded data removed]",
      "text/plain": [
       "<Figure size 720x288 with 3 Axes>"
      ]
     },
     "metadata": {
      "filenames": {
       "image/png": "/home/asilkris/Documentos/MathNStats/MathNStats/MathNStats/_build/jupyter_execute/06_Probability_Distribution_Functions_24_0.png"
      }
     },
     "output_type": "display_data"
    }
   ],
   "source": [
    "probSet = [0.2, 0.5, 0.8]\n",
    "coords = [0,1,2]\n",
    "\n",
    "fig, axes = plt.subplots(nrows=1, ncols=3, figsize = (10,4))\n",
    "\n",
    "for i,j in zip(probSet, coords):\n",
    "  pd.DataFrame({\"binom\" : binom.pmf(np.arange(0, 20, 1), 20, i)}).plot(kind = \"bar\", ax = axes[j])\n",
    "  axes[j].set_title(\"p = \" + str(i))\n",
    "  axes[j].set_xticks([])\n",
    "\n",
    "plt.tight_layout()\n",
    "plt.show()"
   ]
  },
  {
   "cell_type": "markdown",
   "metadata": {
    "colab_type": "text",
    "id": "ZveAaaoaIu--"
   },
   "source": [
    "what we see in the plots is that the distribution is only clearly symmetric when the probability of success is eaxctly or around 0.5. This makes sense because the number of successes cannot be greater than $n$ or smaller than $0$. Then for a low or a too high probability of success the distribution is skewed\n",
    "\n",
    "  * On the other hand, for large n, or much better, when both products\n",
    "  \n",
    "  \\begin{equation}\n",
    "  \\begin{array}{rcl}\n",
    "  np & \\geq & 10\\\\[2ex]\n",
    "  nq & \\geq & 10\n",
    "  \\end{array}\n",
    "  \\end{equation}\n",
    "  \n",
    "  we have a limit in which the binomial distribution tends to the normal distribution"
   ]
  },
  {
   "cell_type": "code",
   "execution_count": 10,
   "metadata": {
    "colab": {
     "base_uri": "https://localhost:8080/",
     "height": 317
    },
    "colab_type": "code",
    "executionInfo": {
     "elapsed": 4215,
     "status": "ok",
     "timestamp": 1570454628613,
     "user": {
      "displayName": "Juan Jose Manjarin",
      "photoUrl": "",
      "userId": "04910883006985787828"
     },
     "user_tz": -120
    },
    "id": "HrW9hHRo9EmZ",
    "outputId": "22f7ee4e-2fb9-442d-ca4c-8ce60d5172bc"
   },
   "outputs": [
    {
     "data": {
      "image/png": "[encoded data removed]",
      "text/plain": [
       "<Figure size 720x288 with 3 Axes>"
      ]
     },
     "metadata": {
      "filenames": {
       "image/png": "/home/asilkris/Documentos/MathNStats/MathNStats/MathNStats/_build/jupyter_execute/06_Probability_Distribution_Functions_26_0.png"
      }
     },
     "output_type": "display_data"
    }
   ],
   "source": [
    "n = [4, 10, 50]\n",
    "coords = [0,1,2]\n",
    "p = 0.42\n",
    "q = 1-p\n",
    "\n",
    "fig, axes = plt.subplots(nrows=1, ncols=3, figsize = (10,4))\n",
    "\n",
    "for i,j in zip(n, coords):\n",
    "  pd.DataFrame({\"binom\" : binom.pmf(np.arange(0, i, 1), i, p)}).plot(kind = \"bar\", ax = axes[j])\n",
    "  axes[j].set_title(\"np = \" + str(np.round(i*p,2)) + \", nq = \" + str(np.round(i*q,2)))\n",
    "  axes[j].set_xticks([])\n",
    "\n",
    "plt.tight_layout()\n",
    "plt.show()"
   ]
  },
  {
   "cell_type": "markdown",
   "metadata": {
    "colab_type": "text",
    "id": "sGboQk0mb7hu"
   },
   "source": [
    "we can easily see that the last graph looks more as the normal distribution than any of the others. The formal limits are $n\\to\\infty$, $np\\to\\infty$ and $nq\\to\\infty$, but for practical purposes we establish the limit in a minimum value around `10`.\n",
    "\n",
    "Now, as for any random variable, we can always find the central tendency, variability and shape measures of this binomial distribution. The **expected value** is \n",
    "\n",
    "\\begin{equation}\n",
    "E[X]=np\n",
    "\\end{equation}\n",
    "\n",
    "while the **variance** is\n",
    "\n",
    "\\begin{equation}\n",
    "V[X]=np(1-p)\n",
    "\\end{equation}\n",
    "\n",
    "We can find equally simple relations for the median and the IQR. However, in Python, the `binom` module contains functions to compute these values. Then the mean for a Binom(50, 0.03), which should be $50\\cdot 0.03 = 1.5$ is"
   ]
  },
  {
   "cell_type": "code",
   "execution_count": 11,
   "metadata": {
    "colab": {
     "base_uri": "https://localhost:8080/",
     "height": 35
    },
    "colab_type": "code",
    "executionInfo": {
     "elapsed": 4193,
     "status": "ok",
     "timestamp": 1570454628615,
     "user": {
      "displayName": "Juan Jose Manjarin",
      "photoUrl": "",
      "userId": "04910883006985787828"
     },
     "user_tz": -120
    },
    "id": "yJ3m08dC91aG",
    "outputId": "73ca0132-75a3-4322-d975-eef67a22f390"
   },
   "outputs": [
    {
     "data": {
      "text/plain": [
       "1.5"
      ]
     },
     "execution_count": 11,
     "metadata": {},
     "output_type": "execute_result"
    }
   ],
   "source": [
    "binom.mean(50, 0.03)"
   ]
  },
  {
   "cell_type": "markdown",
   "metadata": {
    "colab_type": "text",
    "id": "MxFOAlfYdcpu"
   },
   "source": [
    "equally, the variance, which should be $50\\cdot 0.03\\cdot 0.97 = 1.455$, is"
   ]
  },
  {
   "cell_type": "code",
   "execution_count": 12,
   "metadata": {
    "colab": {
     "base_uri": "https://localhost:8080/",
     "height": 35
    },
    "colab_type": "code",
    "executionInfo": {
     "elapsed": 4170,
     "status": "ok",
     "timestamp": 1570454628616,
     "user": {
      "displayName": "Juan Jose Manjarin",
      "photoUrl": "",
      "userId": "04910883006985787828"
     },
     "user_tz": -120
    },
    "id": "EPEFPEeEdkKu",
    "outputId": "b0ab4e50-a3e0-416d-9975-80aea07f5413"
   },
   "outputs": [
    {
     "data": {
      "text/plain": [
       "1.455"
      ]
     },
     "execution_count": 12,
     "metadata": {},
     "output_type": "execute_result"
    }
   ],
   "source": [
    "binom.var(50, 0.03)"
   ]
  },
  {
   "cell_type": "markdown",
   "metadata": {
    "colab_type": "text",
    "id": "sMMNrZpmd50-"
   },
   "source": [
    "for the median we will use the same structure"
   ]
  },
  {
   "cell_type": "code",
   "execution_count": 13,
   "metadata": {
    "colab": {
     "base_uri": "https://localhost:8080/",
     "height": 35
    },
    "colab_type": "code",
    "executionInfo": {
     "elapsed": 4154,
     "status": "ok",
     "timestamp": 1570454628617,
     "user": {
      "displayName": "Juan Jose Manjarin",
      "photoUrl": "",
      "userId": "04910883006985787828"
     },
     "user_tz": -120
    },
    "id": "hkGAU-bbdvt0",
    "outputId": "14e2f527-ef9e-41e5-cfd2-ac6f0b31bfcd"
   },
   "outputs": [
    {
     "data": {
      "text/plain": [
       "1.0"
      ]
     },
     "execution_count": 13,
     "metadata": {},
     "output_type": "execute_result"
    }
   ],
   "source": [
    "binom.median(50, 0.03)"
   ]
  },
  {
   "cell_type": "markdown",
   "metadata": {
    "colab_type": "text",
    "id": "07R39MbyeH4T"
   },
   "source": [
    "for the IQR we can use the percentile point function for 25% and 75% and then substract both."
   ]
  },
  {
   "cell_type": "markdown",
   "metadata": {
    "colab_type": "text",
    "id": "tpBNB8BLfaNf"
   },
   "source": [
    "---\n",
    "**Example (OS3.28): About 90% of American adults had chickenpox before adulthood. We now consider a random sample of 120 American adults:**\n",
    " \n",
    " * **How many people in this sample would you expect to ahve had chickepox in their childhood?**\n",
    " * **Would you be surprised if there were 105 people who have had chickepox in their childhood?**\n",
    " * **What is the probability that 105 or fewer people in this sample have had chickenpox in their childhood? How does this probability relates to the second question?**\n",
    " \n",
    "The first question is asking as for the expected value, then"
   ]
  },
  {
   "cell_type": "code",
   "execution_count": 14,
   "metadata": {
    "colab": {
     "base_uri": "https://localhost:8080/",
     "height": 35
    },
    "colab_type": "code",
    "executionInfo": {
     "elapsed": 4138,
     "status": "ok",
     "timestamp": 1570454628618,
     "user": {
      "displayName": "Juan Jose Manjarin",
      "photoUrl": "",
      "userId": "04910883006985787828"
     },
     "user_tz": -120
    },
    "id": "Qgr0G_OiZ-sv",
    "outputId": "613e6fe1-abaf-45a8-aa87-3aa490e3a67d"
   },
   "outputs": [
    {
     "data": {
      "text/plain": [
       "108.0"
      ]
     },
     "execution_count": 14,
     "metadata": {},
     "output_type": "execute_result"
    }
   ],
   "source": [
    "binom.mean(120, 0.9)"
   ]
  },
  {
   "cell_type": "markdown",
   "metadata": {
    "colab_type": "text",
    "id": "E6T83FDMaSIh"
   },
   "source": [
    "we can also find the standard deviation to complete the information"
   ]
  },
  {
   "cell_type": "code",
   "execution_count": 15,
   "metadata": {
    "colab": {
     "base_uri": "https://localhost:8080/",
     "height": 35
    },
    "colab_type": "code",
    "executionInfo": {
     "elapsed": 4122,
     "status": "ok",
     "timestamp": 1570454628619,
     "user": {
      "displayName": "Juan Jose Manjarin",
      "photoUrl": "",
      "userId": "04910883006985787828"
     },
     "user_tz": -120
    },
    "id": "bYB-UosUaY-n",
    "outputId": "023b4cce-a527-4cb7-9ce3-c19b71e50ab9"
   },
   "outputs": [
    {
     "data": {
      "text/plain": [
       "3.2863353450309964"
      ]
     },
     "execution_count": 15,
     "metadata": {},
     "output_type": "execute_result"
    }
   ],
   "source": [
    "binom.std(120, 0.9)"
   ]
  },
  {
   "cell_type": "markdown",
   "metadata": {
    "colab_type": "text",
    "id": "7AL-TulybwC3"
   },
   "source": [
    "We see that the value of `105` is closer to the mean than one standard deviation, therefore it would not be very strange if that were the numbe of people. To find the probability of the third question we write it as\n",
    "\n",
    "\\begin{equation}\n",
    "P(X\\leq 105) = F(105)\n",
    "\\end{equation}\n",
    "\n",
    "then it is just the cumulative probability"
   ]
  },
  {
   "cell_type": "code",
   "execution_count": 16,
   "metadata": {
    "colab": {
     "base_uri": "https://localhost:8080/",
     "height": 35
    },
    "colab_type": "code",
    "executionInfo": {
     "elapsed": 4107,
     "status": "ok",
     "timestamp": 1570454628621,
     "user": {
      "displayName": "Juan Jose Manjarin",
      "photoUrl": "",
      "userId": "04910883006985787828"
     },
     "user_tz": -120
    },
    "id": "rGnHAWgGbypL",
    "outputId": "26556604-c8e0-4eec-c5f0-58a198bc2f2f"
   },
   "outputs": [
    {
     "data": {
      "text/plain": [
       "0.21816335729120193"
      ]
     },
     "execution_count": 16,
     "metadata": {},
     "output_type": "execute_result"
    }
   ],
   "source": [
    "binom.cdf(105, 120, 0.9)"
   ]
  },
  {
   "cell_type": "markdown",
   "metadata": {
    "colab_type": "text",
    "id": "1fAqZG3KeMKY"
   },
   "source": [
    "---\n",
    "\n",
    "**Example: In a multiple choice quiz with 10 question and 5 choices each of them (only one right answer), a student decides to answer by randomly guessing the answer. Then find the probability that**\n",
    "\n",
    "  * **Her first right answer is the 3rd**\n",
    "  * **She gets extacly 7 or exactly 8 right answers**\n",
    "  * **She gets the majority of questions right**\n",
    "  \n",
    "The first question is the probability that the two first questions were wrong and then the third is right, then\n",
    "\n",
    "\\begin{equation}\n",
    "P(\\text{wrong}\\cap\\text{wrong}\\cap\\text{right})= P(\\text{wrong})^2\\cdot P(\\text{right})\n",
    "\\end{equation}\n",
    "\n",
    "since in each question the probability of a right answer is 1/5, we have"
   ]
  },
  {
   "cell_type": "code",
   "execution_count": 17,
   "metadata": {
    "colab": {
     "base_uri": "https://localhost:8080/",
     "height": 35
    },
    "colab_type": "code",
    "executionInfo": {
     "elapsed": 4091,
     "status": "ok",
     "timestamp": 1570454628622,
     "user": {
      "displayName": "Juan Jose Manjarin",
      "photoUrl": "",
      "userId": "04910883006985787828"
     },
     "user_tz": -120
    },
    "id": "mDKZVuGHhi_X",
    "outputId": "adcf5fe7-1be8-41ea-9700-744082bef668"
   },
   "outputs": [
    {
     "name": "stdout",
     "output_type": "stream",
     "text": [
      "The probability is: 0.128\n"
     ]
    }
   ],
   "source": [
    "prob = ((4/5)**2)*(1/5)\n",
    "print(\"The probability is: \" + str(np.round(prob,4)))"
   ]
  },
  {
   "cell_type": "markdown",
   "metadata": {
    "colab_type": "text",
    "id": "Rw7VucltiRhl"
   },
   "source": [
    "The second question is\n",
    "\n",
    "\\begin{equation}\n",
    "P(X=7\\,\\cup X=8)= P(X=7)+P(X=8)\n",
    "\\end{equation}\n",
    "\n",
    "since we are not intereseted in the order, these are two binomial probabilities, then"
   ]
  },
  {
   "cell_type": "code",
   "execution_count": 18,
   "metadata": {
    "colab": {
     "base_uri": "https://localhost:8080/",
     "height": 35
    },
    "colab_type": "code",
    "executionInfo": {
     "elapsed": 4075,
     "status": "ok",
     "timestamp": 1570454628622,
     "user": {
      "displayName": "Juan Jose Manjarin",
      "photoUrl": "",
      "userId": "04910883006985787828"
     },
     "user_tz": -120
    },
    "id": "RVyplDNOilW1",
    "outputId": "f6404ed1-cb9a-4cba-8ae9-0992b5dd3de8"
   },
   "outputs": [
    {
     "name": "stdout",
     "output_type": "stream",
     "text": [
      "The probability is: 0.0009\n"
     ]
    }
   ],
   "source": [
    "prob = binom.pmf(7, 10, 1/5) + binom.pmf(8, 10, 1/5) \n",
    "print(\"The probability is: \" + str(np.round(prob,4)))"
   ]
  },
  {
   "cell_type": "markdown",
   "metadata": {
    "colab_type": "text",
    "id": "UodZdtLPixXT"
   },
   "source": [
    "A majority of questions is 6 or more, then we are looking for a survival probability\n",
    "\n",
    "\\begin{equation}\n",
    "P(X\\geq 6) = S(5)\n",
    "\\end{equation}"
   ]
  },
  {
   "cell_type": "code",
   "execution_count": 19,
   "metadata": {
    "colab": {
     "base_uri": "https://localhost:8080/",
     "height": 35
    },
    "colab_type": "code",
    "executionInfo": {
     "elapsed": 4058,
     "status": "ok",
     "timestamp": 1570454628623,
     "user": {
      "displayName": "Juan Jose Manjarin",
      "photoUrl": "",
      "userId": "04910883006985787828"
     },
     "user_tz": -120
    },
    "id": "UQ6lfsJKi9e_",
    "outputId": "5ffe6831-7aba-4950-c388-f5a31164ed8d"
   },
   "outputs": [
    {
     "name": "stdout",
     "output_type": "stream",
     "text": [
      "The probability of getting the majority of questions right is 0.0064\n"
     ]
    }
   ],
   "source": [
    "prob = binom.sf(5, 10, 1/5)\n",
    "print(\"The probability of getting the majority of questions right is \" + str(np.round(prob,4)))"
   ]
  },
  {
   "cell_type": "markdown",
   "metadata": {
    "colab_type": "text",
    "id": "kN9kpB3xjuCI"
   },
   "source": [
    "### 4.2.- Hypergeometric Distribution\n",
    "\n",
    "Closely related to the binomial distribution we have the **hypergeometric distribution** which arises when (in the conditions of the binomial) the population size is comparable to the sample size and/or the sampling is done without replacement. The distribution function is\n",
    "\n",
    "\\begin{equation}\n",
    "P(X=k)=\\frac{\\pmatrix{K\\\\k}\\pmatrix{N-K\\\\n-k}}{\\pmatrix{N\\\\n}}\n",
    "\\end{equation}\n",
    "\n",
    "where\n",
    "\n",
    "  * **$N$** is the population size\n",
    "  * **$K$** is the number of elements in the population that can be classified as success\n",
    "  * **$n$** is the sample size\n",
    "  * **$k$** is the number of elements in the sample that can be classifid as success\n",
    "  \n",
    "The Python methods we have seen for the binomial distribution apply the same in this case with the corresponding modifications for the new parameters: take a look at the documentation for the order of these parameters in the functions, but in general they are (in our notation)\n",
    "\n",
    "```python\n",
    "hypergeom.pmf(k, N, K, n)\n",
    "```\n",
    "\n",
    "be careful because in the Python documentation you can see that symbols encoding they have chosen is not the standard and can be really confusing.\n",
    "\n",
    "The only thing we need is to import the `hypergeom` module into our workspace"
   ]
  },
  {
   "cell_type": "code",
   "execution_count": 20,
   "metadata": {
    "colab": {},
    "colab_type": "code",
    "id": "IPDBYcajoaDw"
   },
   "outputs": [],
   "source": [
    "from scipy.stats import hypergeom"
   ]
  },
  {
   "cell_type": "markdown",
   "metadata": {
    "colab_type": "text",
    "id": "5XKGHehZnkxa"
   },
   "source": [
    "---\n",
    "\n",
    "**Example: A deck of cards contains 30 cards: 21 red cards and 9 black cards. If 7 cards are drawn randomly without replacement**\n",
    "\n",
    "  * **What is the probability that exactly 5 black cards are drawn?**\n",
    "  * **And exactly 6 red cards?**\n",
    "  \n",
    "In this case we have:\n",
    "\n",
    "  * For the first question: $N=30$, $n=7$, $K=9$, $k=5$\n",
    "  * For the second question: $N=30$, $n=7$, $K=21$, $k=6$\n",
    "  \n",
    "the let's find the mass functions"
   ]
  },
  {
   "cell_type": "code",
   "execution_count": 21,
   "metadata": {
    "colab": {
     "base_uri": "https://localhost:8080/",
     "height": 53
    },
    "colab_type": "code",
    "executionInfo": {
     "elapsed": 4038,
     "status": "ok",
     "timestamp": 1570454628626,
     "user": {
      "displayName": "Juan Jose Manjarin",
      "photoUrl": "",
      "userId": "04910883006985787828"
     },
     "user_tz": -120
    },
    "id": "1Z_GLJpKoXkS",
    "outputId": "fb16c0c5-906a-46bd-d74e-171d829c1795"
   },
   "outputs": [
    {
     "name": "stdout",
     "output_type": "stream",
     "text": [
      "The probability of exactly 5 black cards is:  0.013\n",
      "The probability of exactly 6 red cards is:  0.3084\n"
     ]
    }
   ],
   "source": [
    "p1 = hypergeom.pmf(5, 30, 9, 7)\n",
    "p2 = hypergeom.pmf(5, 30, 21, 6)\n",
    "\n",
    "print(\"The probability of exactly 5 black cards is: \", str(np.round(p1, 4)))\n",
    "print(\"The probability of exactly 6 red cards is: \", str(np.round(p2, 4)))"
   ]
  },
  {
   "cell_type": "markdown",
   "metadata": {
    "colab_type": "text",
    "id": "6kKHAT8CxsRH"
   },
   "source": [
    "---\n",
    "**Example: In a firm they supply components in boxes of 400 units. In the quality control they take random samples of 25 of those items per box and. Then, if they know that the 2% of the items are defective**\n",
    "\n",
    "  * **Find the probability that they find more than 5 defective units**\n",
    "  * **Find the probability that they find bewteen 2 and 5 defective units**\n",
    "  \n",
    "In this case we have $N=400$, $K=0.02\\cdot 400 = 8$ and $n=25$\n",
    "\n",
    "  * The first question is the survival probability $P(X>5)=S(5)$\n",
    "  * The second question is the $P(2<X\\leq 5)=F(5)-F(2)$"
   ]
  },
  {
   "cell_type": "code",
   "execution_count": 22,
   "metadata": {
    "colab": {
     "base_uri": "https://localhost:8080/",
     "height": 53
    },
    "colab_type": "code",
    "executionInfo": {
     "elapsed": 4021,
     "status": "ok",
     "timestamp": 1570454628627,
     "user": {
      "displayName": "Juan Jose Manjarin",
      "photoUrl": "",
      "userId": "04910883006985787828"
     },
     "user_tz": -120
    },
    "id": "V_iYu-eCuoLO",
    "outputId": "fa3acd9e-9613-4748-dc1e-1b9d4e5b2feb"
   },
   "outputs": [
    {
     "name": "stdout",
     "output_type": "stream",
     "text": [
      "The probability of more than 5 defective units is  8e-07\n",
      "The probability of between 2 and 5 defective units is  0.0098\n"
     ]
    }
   ],
   "source": [
    "p1 = hypergeom.sf(5, 400, 8, 25)\n",
    "p2 = hypergeom.cdf(5, 400, 8, 25)-hypergeom.cdf(2, 400, 8, 25) \n",
    "\n",
    "print(\"The probability of more than 5 defective units is \", str(np.round(p1,7)))\n",
    "print(\"The probability of between 2 and 5 defective units is \", str(np.round(p2,4)))"
   ]
  },
  {
   "cell_type": "markdown",
   "metadata": {
    "colab_type": "text",
    "id": "Ll0H9JvZjx46"
   },
   "source": [
    "### 4.3.- Poisson Distribution\n",
    "\n",
    "The **Poisson distribution** arises when we deal with **Poisson processes**, in which we have a sequence of events such that they are:\n",
    "\n",
    "  * **Stationary**, meaning that given a time interval, the probability of a number of events just depends on the interval size\n",
    "  * **Independent**, meaning that the number of events per time interval does not depend on what happens on any other interval\n",
    "  * **Ordinary**, meaning that we consider that the events occur one by one and not simultaneously\n",
    "  \n",
    "Many real life situations fall into this type of processes: arrival times of customers at a service center, radioactive decay, time between blocks in the bitcoin blockchain or poistions of flaws in materials are some cases.\n",
    "\n",
    "The Poisson distribution only has one parameter, known as *lambda*, $\\lambda$, and its probability distribution is\n",
    "\n",
    "\\begin{equation}\n",
    "P(X=x)=e^{-\\lambda}\\frac{\\lambda^x}{x!}\n",
    "\\end{equation}\n",
    "\n",
    "with the property that\n",
    "\n",
    "\\begin{equation}\n",
    "E[X] = V[X] = \\lambda\n",
    "\\end{equation}\n",
    "\n",
    "Finally, in Python we have to import the `poisson` module into our workspace and all the methods for discrete random variables are available again"
   ]
  },
  {
   "cell_type": "code",
   "execution_count": 23,
   "metadata": {
    "colab": {},
    "colab_type": "code",
    "id": "XpqDoafmKucu"
   },
   "outputs": [],
   "source": [
    "from scipy.stats import poisson"
   ]
  },
  {
   "cell_type": "markdown",
   "metadata": {
    "colab_type": "text",
    "id": "44nclHaiJLpd"
   },
   "source": [
    "---\n",
    "**Example (OS 3.43): A coffee shop serves an average of 75 custormers per hour during the morning rush**\n",
    "\n",
    "  * **Which distribution is most appropiate for calculating the probability of a given number of customers arriving ithin one hour this time of day?**\n",
    "  * **What are the mean and the standard deviation of the number of customers this coffee shop server in oone hour during this time of day?**\n",
    "  * **Would it be considered unsually low if only 60 customers showed up to this coffee shop in one hour during this time of the day?**\n",
    "  * **Calculate the probability that this coffee shop serves 70 customers in one hour during this time of day**\n",
    "  \n",
    "This is a case for Poisson distribution with $\\lambda=75$, then \n",
    "\n",
    "\\begin{equation}\n",
    "E[X]=75,\\quad sd[X]=\\sqrt{75}= 8.66\n",
    "\\end{equation}\n",
    "\n",
    "since lies within 2 standard deviations of the mean it cannot be considered as unsual, but it is not going to be quite common either.\n",
    "\n",
    "Finally, since we are asked for an exact value, we use the mass function"
   ]
  },
  {
   "cell_type": "code",
   "execution_count": 24,
   "metadata": {
    "colab": {
     "base_uri": "https://localhost:8080/",
     "height": 35
    },
    "colab_type": "code",
    "executionInfo": {
     "elapsed": 3998,
     "status": "ok",
     "timestamp": 1570454628627,
     "user": {
      "displayName": "Juan Jose Manjarin",
      "photoUrl": "",
      "userId": "04910883006985787828"
     },
     "user_tz": -120
    },
    "id": "8EKFDdMBKPOU",
    "outputId": "9f731fa7-30e0-4945-b2a0-73afa7c4edca"
   },
   "outputs": [
    {
     "name": "stdout",
     "output_type": "stream",
     "text": [
      "The probability of serving exactly 70 customers is  0.0402\n"
     ]
    }
   ],
   "source": [
    "prob = poisson.pmf(70, 75)\n",
    "\n",
    "print(\"The probability of serving exactly 70 customers is \", str(np.round(prob, 4)))"
   ]
  },
  {
   "cell_type": "markdown",
   "metadata": {
    "colab_type": "text",
    "id": "8MmKhcvZj0nt"
   },
   "source": [
    "## 5.- Continuous Distributions\n",
    "\n",
    "Let's move on now to the continuous distributions. Remember that as we mentioned above, there is no mass function (it is zero in every point) and this is *replaced* by the **density distribution function**"
   ]
  },
  {
   "cell_type": "markdown",
   "metadata": {
    "colab_type": "text",
    "id": "jycnppOPj371"
   },
   "source": [
    "### 5.1.- Uniform Distribution\n",
    "\n",
    "This function is defined as the distribution such that the probability is constant in an interval of values and zero everywhere else. We write this as\n",
    "\n",
    "\\begin{equation}\n",
    "f(x)=\\left\\{\n",
    "\\begin{array}{cl}\n",
    "\\displaystyle \\frac{1}{b-a}& \\text{, for } a\\leq x\\leq b\\\\[2ex]\n",
    "0, & \\text{, otherwise}\n",
    "\\end{array}\n",
    "\\right.\n",
    "\\end{equation}\n",
    "\n",
    "in its normalized form both, height and interval width are set to 1\n",
    "\n",
    "\\begin{equation}\n",
    "f(x)=\\left\\{\n",
    "\\begin{array}{cl}\n",
    "1& \\text{, for } 0\\leq x\\leq 1\\\\[2ex]\n",
    "0, & \\text{, otherwise}\n",
    "\\end{array}\n",
    "\\right.\n",
    "\\end{equation}\n",
    "\n",
    "In Python we have to import the `uniform` module to the workspace"
   ]
  },
  {
   "cell_type": "code",
   "execution_count": 25,
   "metadata": {
    "colab": {},
    "colab_type": "code",
    "id": "IJ-h5i_GyhrD"
   },
   "outputs": [],
   "source": [
    "from scipy.stats import uniform"
   ]
  },
  {
   "cell_type": "markdown",
   "metadata": {
    "colab_type": "text",
    "id": "3hgp09Vq0Mfz"
   },
   "source": [
    "let's make a plot to see how this distribution looks like"
   ]
  },
  {
   "cell_type": "code",
   "execution_count": 26,
   "metadata": {
    "colab": {
     "base_uri": "https://localhost:8080/",
     "height": 320
    },
    "colab_type": "code",
    "executionInfo": {
     "elapsed": 4406,
     "status": "ok",
     "timestamp": 1570454629058,
     "user": {
      "displayName": "Juan Jose Manjarin",
      "photoUrl": "",
      "userId": "04910883006985787828"
     },
     "user_tz": -120
    },
    "id": "3FrtVQVm0m5p",
    "outputId": "484df38d-7c1b-4e39-dd94-be2b18b517ef"
   },
   "outputs": [
    {
     "data": {
      "image/png": "[encoded data removed]",
      "text/plain": [
       "<Figure size 720x360 with 1 Axes>"
      ]
     },
     "metadata": {
      "filenames": {
       "image/png": "/home/asilkris/Documentos/MathNStats/MathNStats/MathNStats/_build/jupyter_execute/06_Probability_Distribution_Functions_60_0.png"
      }
     },
     "output_type": "display_data"
    }
   ],
   "source": [
    "x = np.arange(-1,2,0.01)\n",
    "\n",
    "plt.figure(figsize = (10,5))\n",
    "plt.plot(x, uniform.pdf(x))\n",
    "plt.show()"
   ]
  },
  {
   "cell_type": "markdown",
   "metadata": {
    "colab_type": "text",
    "id": "aYXSiirf1wox"
   },
   "source": [
    "so, by default Python returns the standarized uniform distribution, then if we need some other limits we have to use the `loc` and `scale` arguments, such that we will have a uniform distribution in\n",
    "\n",
    "\\begin{equation}\n",
    "[\\text{loc},\\,\\text{loc}+\\text{scale}]\n",
    "\\end{equation}\n",
    "\n",
    "then"
   ]
  },
  {
   "cell_type": "code",
   "execution_count": 27,
   "metadata": {
    "colab": {
     "base_uri": "https://localhost:8080/",
     "height": 324
    },
    "colab_type": "code",
    "executionInfo": {
     "elapsed": 4388,
     "status": "ok",
     "timestamp": 1570454629060,
     "user": {
      "displayName": "Juan Jose Manjarin",
      "photoUrl": "",
      "userId": "04910883006985787828"
     },
     "user_tz": -120
    },
    "id": "BT8xObpm2NEi",
    "outputId": "2e7b3d38-57b9-4d54-f298-d205adbca5ac"
   },
   "outputs": [
    {
     "data": {
      "image/png": "[encoded data removed]",
      "text/plain": [
       "<Figure size 720x360 with 1 Axes>"
      ]
     },
     "metadata": {
      "filenames": {
       "image/png": "/home/asilkris/Documentos/MathNStats/MathNStats/MathNStats/_build/jupyter_execute/06_Probability_Distribution_Functions_62_0.png"
      }
     },
     "output_type": "display_data"
    }
   ],
   "source": [
    "x = np.arange(-1,10,0.01)\n",
    "\n",
    "plt.figure(figsize = (10,5))\n",
    "plt.plot(x, uniform.pdf(x, loc = 1, scale = 6))\n",
    "plt.show()"
   ]
  },
  {
   "cell_type": "markdown",
   "metadata": {
    "colab_type": "text",
    "id": "Z10EE5bJ2aQe"
   },
   "source": [
    "this last distribution is\n",
    "\n",
    "\\begin{equation}\n",
    "f(x)=\\left\\{\n",
    "\\begin{array}{cl}\n",
    "\\displaystyle \\frac{1}{6}& \\text{, for } 1\\leq x\\leq 7\\\\[2ex]\n",
    "0, & \\text{, otherwise}\n",
    "\\end{array}\n",
    "\\right.\n",
    "\\end{equation}"
   ]
  },
  {
   "cell_type": "markdown",
   "metadata": {
    "colab_type": "text",
    "id": "8SC9xLcv2--4"
   },
   "source": [
    "---\n",
    "\n",
    "**Example: A retailer has estimated that they can sell between 10 and 20 units of one of their goods with equal probability. Find**\n",
    "\n",
    " * **The expected number of items sold daily**\n",
    " * **The standard deviation in this expected value**\n",
    " * **The probability that they sell at least 18 units**\n",
    " \n",
    "For the first and second questions we just use the methods `mean` and `std`, then"
   ]
  },
  {
   "cell_type": "code",
   "execution_count": 28,
   "metadata": {
    "colab": {
     "base_uri": "https://localhost:8080/",
     "height": 53
    },
    "colab_type": "code",
    "executionInfo": {
     "elapsed": 4371,
     "status": "ok",
     "timestamp": 1570454629064,
     "user": {
      "displayName": "Juan Jose Manjarin",
      "photoUrl": "",
      "userId": "04910883006985787828"
     },
     "user_tz": -120
    },
    "id": "Wq6-019J3lnw",
    "outputId": "3bc307ec-e1b6-4008-ec83-2b955599b28a"
   },
   "outputs": [
    {
     "name": "stdout",
     "output_type": "stream",
     "text": [
      "The expected number of items sold is:  15.0\n",
      "The standard deviation in the expected number of items sold is:  2.8868\n"
     ]
    }
   ],
   "source": [
    "mean = uniform.mean(10, 10)\n",
    "sd = uniform.std(10, 10)\n",
    "\n",
    "print(\"The expected number of items sold is: \", str(np.round(mean, 4)))\n",
    "print(\"The standard deviation in the expected number of items sold is: \", str(np.round(sd, 4)))"
   ]
  },
  {
   "cell_type": "markdown",
   "metadata": {
    "colab_type": "text",
    "id": "W_KggDDx361D"
   },
   "source": [
    "for the next question, we are asked for\n",
    "\n",
    "\\begin{equation}\n",
    "P(X\\geq 18) = S(17)\n",
    "\\end{equation}\n",
    "\n",
    "i.e. it is the survival function for 17 items, then"
   ]
  },
  {
   "cell_type": "code",
   "execution_count": 29,
   "metadata": {
    "colab": {
     "base_uri": "https://localhost:8080/",
     "height": 35
    },
    "colab_type": "code",
    "executionInfo": {
     "elapsed": 4651,
     "status": "ok",
     "timestamp": 1570454629363,
     "user": {
      "displayName": "Juan Jose Manjarin",
      "photoUrl": "",
      "userId": "04910883006985787828"
     },
     "user_tz": -120
    },
    "id": "Ua_8Je6g4Hr8",
    "outputId": "bf895cf1-b975-4c4e-f918-d4fc4cb7b5e9"
   },
   "outputs": [
    {
     "name": "stdout",
     "output_type": "stream",
     "text": [
      "The probability of selling 17 or more items is:  0.30000000000000004\n"
     ]
    }
   ],
   "source": [
    "spr = uniform.sf(17, 10, 10)\n",
    "print(\"The probability of selling 17 or more items is: \", str(spr))"
   ]
  },
  {
   "cell_type": "markdown",
   "metadata": {
    "colab_type": "text",
    "id": "ewCRpqjpj6nr"
   },
   "source": [
    "### 5.2.- Normal Distribution\n",
    "\n",
    "We have already found the normal distribution in different examples and codes along these notes. Here we are going to see how to actually work with this distribution.\n",
    "\n",
    "First let's import the `norm` module to our workspace in order to have all the different methods available for it"
   ]
  },
  {
   "cell_type": "code",
   "execution_count": 30,
   "metadata": {
    "colab": {},
    "colab_type": "code",
    "id": "D3b082u2yuOa"
   },
   "outputs": [],
   "source": [
    "from scipy.stats import norm"
   ]
  },
  {
   "cell_type": "markdown",
   "metadata": {
    "colab_type": "text",
    "id": "vO5g9Q4b6XZf"
   },
   "source": [
    "The first thing we have to mention is that, as usual, the definition of the density function is in its standarized form, i.e. with mean 0 and standard deviation 1. If we need other values we have to use the values for `loc` and `scale` as if they were the mean and standard deviation respectively.\n",
    "\n",
    "Just as the mean does not have any effect in the shape of the distribution, but just on the location of the center of the distribution, The standard deviation makes the distribution thicker or thinner depending on its value. This last always keeping fixed the total are below the curve which must always be one, then"
   ]
  },
  {
   "cell_type": "code",
   "execution_count": 31,
   "metadata": {
    "colab": {
     "base_uri": "https://localhost:8080/",
     "height": 320
    },
    "colab_type": "code",
    "executionInfo": {
     "elapsed": 5555,
     "status": "ok",
     "timestamp": 1570454630290,
     "user": {
      "displayName": "Juan Jose Manjarin",
      "photoUrl": "",
      "userId": "04910883006985787828"
     },
     "user_tz": -120
    },
    "id": "jkt6bpts7aKS",
    "outputId": "3c914e2b-c5a6-4f85-f60d-dcaf2b578e0b"
   },
   "outputs": [
    {
     "data": {
      "image/png": "[encoded data removed]",
      "text/plain": [
       "<Figure size 720x360 with 2 Axes>"
      ]
     },
     "metadata": {
      "filenames": {
       "image/png": "/home/asilkris/Documentos/MathNStats/MathNStats/MathNStats/_build/jupyter_execute/06_Probability_Distribution_Functions_71_0.png"
      }
     },
     "output_type": "display_data"
    }
   ],
   "source": [
    "means = [-3, 0, 3]\n",
    "sds = [0.5, 1, 2]\n",
    "x = np.arange(-8, 10, 0.001)\n",
    "\n",
    "plt.figure(figsize = (10,5))\n",
    "\n",
    "plt.subplot(121)\n",
    "for i in means:\n",
    "  plt.plot(x, norm.pdf(x,i,1), label = (\"mean = \" + str(i)))\n",
    "  plt.legend(loc = \"best\")\n",
    "  \n",
    "plt.subplot(122)\n",
    "for i in sds:\n",
    "  plt.plot(x, norm.pdf(x,1,i), label = (\"stdev = \" + str(i)))\n",
    "  plt.legend(loc = \"best\")"
   ]
  },
  {
   "cell_type": "markdown",
   "metadata": {
    "colab_type": "text",
    "id": "JIZw7g7a-eC_"
   },
   "source": [
    "In most of the normal probability problems we will have to use  either the cumulative form or the percent point function, where this last one returns the point of the random variable such that the cumulative probability is whichever we impose. \n",
    "\n",
    "Let's see a graphical representation of a cumulative probability. Suppose the following situation: \n",
    "\n",
    "*The return of a portfolio can be approximately described as normally distributed with mean \\$300 and a standard deviation of \\$100. Find the probability that the return is between \\$100 and \\$200*"
   ]
  },
  {
   "cell_type": "code",
   "execution_count": 32,
   "metadata": {
    "colab": {
     "base_uri": "https://localhost:8080/",
     "height": 389
    },
    "colab_type": "code",
    "executionInfo": {
     "elapsed": 6044,
     "status": "ok",
     "timestamp": 1570454630807,
     "user": {
      "displayName": "Juan Jose Manjarin",
      "photoUrl": "",
      "userId": "04910883006985787828"
     },
     "user_tz": -120
    },
    "id": "0JUka0uIM9Ir",
    "outputId": "62d9fbb2-6b25-470f-e8a8-a5ad04eb85ac"
   },
   "outputs": [
    {
     "data": {
      "image/png": "[encoded data removed]",
      "text/plain": [
       "<Figure size 864x360 with 3 Axes>"
      ]
     },
     "metadata": {
      "filenames": {
       "image/png": "/home/asilkris/Documentos/MathNStats/MathNStats/MathNStats/_build/jupyter_execute/06_Probability_Distribution_Functions_73_0.png"
      }
     },
     "output_type": "display_data"
    }
   ],
   "source": [
    "v1 = 100\n",
    "v2 = 200\n",
    "mu  = 300\n",
    "s   = 100\n",
    "minX = mu - 3.5*s\n",
    "maxX = mu + 3.5*s\n",
    "\n",
    "x = np.linspace(minX, maxX, 100)\n",
    "px1 = x[x<v1]\n",
    "px2 = x[x<v2]\n",
    "x3 = np.arange(v1,v2, 0.01)\n",
    "\n",
    "y = norm.pdf(x=x, loc=mu, scale=s)\n",
    "\n",
    "\n",
    "plt.figure(figsize=(12,5))\n",
    "\n",
    "ax1 = plt.subplot(131)\n",
    "ax1.plot(x,y)\n",
    "ax1.fill_between(x=px1, y1=0, y2=norm.pdf(px1,mu,s))\n",
    "ax1.vlines(x=v1, ymin=0, ymax=norm.pdf(v1,mu,s), linestyle='dotted')\n",
    "ax1.set_title(\"p(x <\" + str(v1) + \") =\" + str(np.round(norm.cdf(v1, mu, s),3)))\n",
    "\n",
    "\n",
    "ax2 = plt.subplot(132)\n",
    "ax2.plot(x,y)\n",
    "ax2.fill_between(x=px2, y1=0, y2=norm.pdf(px2,mu,s))\n",
    "ax2.vlines(x=v2, ymin=0, ymax=norm.pdf(v2,mu,s), linestyle='dotted')\n",
    "ax2.set_title(\"p(x <\" + str(v2) + \") =\" + str(np.round(norm.cdf(v2, mu, s),3)))\n",
    "\n",
    "\n",
    "ax3 = plt.subplot(133)\n",
    "ax3.plot(x,y)\n",
    "ax3.fill_between(x=x3, y1=0, y2=norm.pdf(x3,mu,s))\n",
    "ax3.vlines(x=v2, ymin=0, ymax=norm.pdf(v2,mu,s), linestyle='dotted')\n",
    "ax3.vlines(x=v1, ymin=0, ymax=norm.pdf(v1,mu,s), linestyle='dotted')\n",
    "ax3.set_title(\"p(\" + str(v1) + \"< x <\" + str(v2) + \") =\" + str(np.round(norm.cdf(v2, mu, s)-norm.cdf(v1, mu, s),3)))\n",
    "\n",
    "plt.tight_layout()\n",
    "plt.show()"
   ]
  },
  {
   "cell_type": "markdown",
   "metadata": {
    "colab_type": "text",
    "id": "AIj823EBUYZW"
   },
   "source": [
    "in the three previous graphs we have found the area below the curves for different intervals of values of the random variable. This could be done the other way around. Suppose that we want to know in our portfolio, the return from which we will find the 15% of the higher returns, i.e.\n",
    "\n",
    "\\begin{equation}\n",
    "S(x)=0.15\\quad\\text{or}\\quad P(X\\leq x) = 0.85\n",
    "\\end{equation}\n",
    "\n",
    "we can use either the percent point function or the inverse survival function, then"
   ]
  },
  {
   "cell_type": "code",
   "execution_count": 33,
   "metadata": {
    "colab": {
     "base_uri": "https://localhost:8080/",
     "height": 53
    },
    "colab_type": "code",
    "executionInfo": {
     "elapsed": 6028,
     "status": "ok",
     "timestamp": 1570454630810,
     "user": {
      "displayName": "Juan Jose Manjarin",
      "photoUrl": "",
      "userId": "04910883006985787828"
     },
     "user_tz": -120
    },
    "id": "MP4ObaGTVXJd",
    "outputId": "ddb7f02a-0956-46a6-f396-5fb429e52643"
   },
   "outputs": [
    {
     "name": "stdout",
     "output_type": "stream",
     "text": [
      "Using the Percent Point the value is 403.64\n",
      "Using the Inverse Survival the value is 403.64\n"
     ]
    }
   ],
   "source": [
    "pp = norm.ppf(0.85, 300, 100)\n",
    "isf = norm.isf(0.15, 300, 100)\n",
    "\n",
    "print(\"Using the Percent Point the value is \" + str(np.round(pp,2)))\n",
    "print(\"Using the Inverse Survival the value is \" + str(np.round(isf,2)))"
   ]
  },
  {
   "cell_type": "markdown",
   "metadata": {
    "colab_type": "text",
    "id": "ng79KjMC-11l"
   },
   "source": [
    "#### 5.2.1.- Normal Plots\n",
    "\n",
    "In many situations we will approximate the available data to a normal distribution. In order to evaluate the goodness of this modelization we have a powerful visual tool at our disposal: the **normal plots**. These are\n",
    "\n",
    " * The quantile-quantile plot: **qq-plot**, where we graph the theoretical quantiles against the experimental quantiles\n",
    " * The probability-probability plot: **pp-plot**, where we graph the theoretical cumulative probability agains the experimental cumulative probability.\n",
    " \n",
    "We will mainly use the **qq-plots** which are obtained from the `probplot` of `scipy.stats` or the `qqplot` from `statsmodels.graphics.gofplots`"
   ]
  },
  {
   "cell_type": "code",
   "execution_count": 34,
   "metadata": {
    "colab": {},
    "colab_type": "code",
    "id": "srl8ffzmBUsN"
   },
   "outputs": [],
   "source": [
    "import scipy.stats as ss"
   ]
  },
  {
   "cell_type": "markdown",
   "metadata": {
    "colab_type": "text",
    "id": "oWJRwc_mBVF_"
   },
   "source": [
    "Let's generate a random set of normal values and find its qq-plot"
   ]
  },
  {
   "cell_type": "code",
   "execution_count": 35,
   "metadata": {
    "colab": {
     "base_uri": "https://localhost:8080/",
     "height": 376
    },
    "colab_type": "code",
    "executionInfo": {
     "elapsed": 6016,
     "status": "ok",
     "timestamp": 1570454630818,
     "user": {
      "displayName": "Juan Jose Manjarin",
      "photoUrl": "",
      "userId": "04910883006985787828"
     },
     "user_tz": -120
    },
    "id": "eNrRA7wfAwV1",
    "outputId": "60b75cfc-59a4-4127-92b6-381727e70a85"
   },
   "outputs": [
    {
     "data": {
      "image/png": "[encoded data removed]",
      "text/plain": [
       "<Figure size 576x396 with 1 Axes>"
      ]
     },
     "metadata": {
      "filenames": {
       "image/png": "/home/asilkris/Documentos/MathNStats/MathNStats/MathNStats/_build/jupyter_execute/06_Probability_Distribution_Functions_79_0.png"
      }
     },
     "output_type": "display_data"
    }
   ],
   "source": [
    "mydf = pd.DataFrame({\"norm\": np.random.normal(1, 0.5, 150)})\n",
    "\n",
    "ss.probplot(mydf.norm, plot = plt)\n",
    "plt.show()"
   ]
  },
  {
   "cell_type": "markdown",
   "metadata": {
    "colab_type": "text",
    "id": "7dvvLX6mBzjP"
   },
   "source": [
    "the most basic intuition from the graph is that the closer that the points are to the line, the best the normal model is since the theoretical and the observed quantiles will be closer.\n",
    "\n",
    "There are, however, many different situations that may arise: from skewed distributions to high or heavy tails going through n-modal distributions. How do we see all of them in these plots? Let's see a general graph"
   ]
  },
  {
   "cell_type": "code",
   "execution_count": 36,
   "metadata": {
    "colab": {
     "base_uri": "https://localhost:8080/",
     "height": 534
    },
    "colab_type": "code",
    "executionInfo": {
     "elapsed": 7500,
     "status": "ok",
     "timestamp": 1570454632320,
     "user": {
      "displayName": "Juan Jose Manjarin",
      "photoUrl": "",
      "userId": "04910883006985787828"
     },
     "user_tz": -120
    },
    "id": "nlv1dW9JBKds",
    "outputId": "6e0d245b-9fb6-4051-99ac-6c96e91ce9a7"
   },
   "outputs": [
    {
     "data": {
      "image/png": "[encoded data removed]",
      "text/plain": [
       "<Figure size 720x720 with 6 Axes>"
      ]
     },
     "metadata": {
      "filenames": {
       "image/png": "/home/asilkris/Documentos/MathNStats/MathNStats/MathNStats/_build/jupyter_execute/06_Probability_Distribution_Functions_81_0.png"
      }
     },
     "output_type": "display_data"
    }
   ],
   "source": [
    "x = np.arange(-4,4,0.1)\n",
    "plt.figure(figsize = (10,10))\n",
    "\n",
    "plt.subplot(331)\n",
    "ss.probplot(np.random.normal(0,1,150), plot = plt)\n",
    "plt.title(\"Normal\", fontsize = 15)\n",
    "\n",
    "plt.subplot(332)\n",
    "ss.probplot(ss.skewnorm.rvs(10, size = 150), plot = plt)\n",
    "plt.title(\"Right-skewed\", fontsize = 15)\n",
    "\n",
    "plt.subplot(333)\n",
    "ss.probplot(ss.skewnorm.rvs(-10, size = 150), plot = plt)\n",
    "plt.title(\"Left-skewed\", fontsize = 15)\n",
    "\n",
    "plt.subplot(334)\n",
    "ss.probplot(ss.powerlaw.rvs(0.7, size = 150), plot = plt)\n",
    "plt.title(\"Light tails\", fontsize = 15)\n",
    "\n",
    "plt.subplot(335)\n",
    "ss.probplot(ss.t.rvs(1, size = 150), plot = plt)\n",
    "plt.title(\"Heavy tails\", fontsize = 15)\n",
    "\n",
    "plt.subplot(336)\n",
    "ss.probplot(norm.pdf(x,-2,0.5) + norm.pdf(x,2,0.5), plot = plt)\n",
    "plt.title(\"Bimodal\", fontsize = 15)\n",
    "\n",
    "plt.tight_layout()\n",
    "plt.show()"
   ]
  },
  {
   "cell_type": "markdown",
   "metadata": {
    "colab_type": "text",
    "id": "EsUMYseVJ7wz"
   },
   "source": [
    "think that in any real life situation we are going to have some deviations from the perfect behaviour. This is not problematic as long as the points follow the line and do not show a behaviour as the ones in the other figures"
   ]
  },
  {
   "cell_type": "markdown",
   "metadata": {
    "colab_type": "text",
    "id": "4er2iGRij9mW"
   },
   "source": [
    "### 5.3.- Exponential Distribution\n",
    "\n",
    "The last distribution we are going to study here is the **exponential distribution** which can be seen as the continuous counterpart of the Poisson distribution. In fact, if in a Poisson setup we counted the number of events per time interval, in this case we deal with the time between events.\n",
    "\n",
    "The **density probability function** is\n",
    "\n",
    "\\begin{equation}\n",
    "f(t)= \\lambda e^{-\\lambda t}\n",
    "\\end{equation}\n",
    "\n",
    "from where we can easily obtain the **cumulative probabitliy function** as\n",
    "\n",
    "\\begin{equation}\n",
    "P(T\\leq t)= 1-e^{-\\lambda t} \n",
    "\\end{equation}\n",
    "\n",
    "In Python we have to import the `expon` module as usual"
   ]
  },
  {
   "cell_type": "code",
   "execution_count": 37,
   "metadata": {
    "colab": {},
    "colab_type": "code",
    "id": "zrqJtfMnyxSz"
   },
   "outputs": [],
   "source": [
    "from scipy.stats import expon"
   ]
  },
  {
   "cell_type": "markdown",
   "metadata": {
    "colab_type": "text",
    "id": "_M7vzkcxessU"
   },
   "source": [
    "And again we must take into account that the default density function is the standarized one\n",
    "\n",
    "\\begin{equation}\n",
    "f(x) = e^{-x}\n",
    "\\end{equation}\n",
    "\n",
    "the way to obtain the function in terms of $\\lambda$ is through the `scale` parameter setting\n",
    "\n",
    "\\begin{equation}\n",
    "{\\text{scale}} = \\frac{1}{\\lambda}\n",
    "\\end{equation}\n",
    "\n",
    "in all the calls of our functions.\n",
    "\n",
    "Due to the relation with a Poisson, in this type of problems we will also be given a value for an average number of events per time interval. We must, then be careful in the following sense: the time interval and the time we will be asked about will not generally coincide and we must proceed to a rescaling either of $\\lambda$ or of the time given. Let's see it with an example"
   ]
  },
  {
   "cell_type": "markdown",
   "metadata": {
    "colab_type": "text",
    "id": "ldl-x4tietLT"
   },
   "source": [
    "---\n",
    "\n",
    "**Example: The patients arrive at a hospital at a rate of 6 per hour. Then**\n",
    "\n",
    "  * **Find the probability that exactly 4 arrive each 15 minutes**\n",
    "  * **Find the probability that 5 or more arrive each 30 minutes**\n",
    "  * **If one patient arrives at 11:00, find the probability that another will arrive before 11:45**\n",
    "  \n",
    "The random variable we deal with is\n",
    "\n",
    "\\begin{equation}\n",
    "X=\\{\\text{number of patients each hour}\\}\n",
    "\\end{equation}\n",
    "\n",
    "then we are dealing with a Poisson process with an average of\n",
    "\n",
    "\\begin{equation}\n",
    "\\lambda = 6\n",
    "\\end{equation}\n",
    "\n",
    "with a time interval in hours. Now, the two first questions correspond to Poisson events but in a time interval different from our base hour. Then we must proceed to the rescaling.\n",
    "\n",
    "For the first question we have $6$ per hour are\n",
    "\n",
    "\\begin{equation}\n",
    "\\lambda = 6 \\cdot\\frac{15}{60} = 1.5\n",
    "\\end{equation}\n",
    "\n",
    "then the question for \n",
    "\n",
    "\\begin{equation}\n",
    "P(X=4)\n",
    "\\end{equation}\n",
    "\n",
    "is"
   ]
  },
  {
   "cell_type": "code",
   "execution_count": 38,
   "metadata": {
    "colab": {
     "base_uri": "https://localhost:8080/",
     "height": 35
    },
    "colab_type": "code",
    "executionInfo": {
     "elapsed": 7481,
     "status": "ok",
     "timestamp": 1570454632324,
     "user": {
      "displayName": "Juan Jose Manjarin",
      "photoUrl": "",
      "userId": "04910883006985787828"
     },
     "user_tz": -120
    },
    "id": "Yf-x0M6A4BvA",
    "outputId": "44f3b67b-08a0-4f73-cd9f-918f3dec1a29"
   },
   "outputs": [
    {
     "data": {
      "text/plain": [
       "0.04706651815630941"
      ]
     },
     "execution_count": 38,
     "metadata": {},
     "output_type": "execute_result"
    }
   ],
   "source": [
    "poisson.pmf(4,1.5)"
   ]
  },
  {
   "cell_type": "markdown",
   "metadata": {
    "colab_type": "text",
    "id": "f6Tuyd-94g6A"
   },
   "source": [
    "for the second case, the rescaling changes as\n",
    "\n",
    "\\begin{equation}\n",
    "\\lambda = 6\\cdot \\frac{30}{60}=3\n",
    "\\end{equation}\n",
    "\n",
    "then\n",
    "\n",
    "\\begin{equation}\n",
    "P(X\\geq 5) = S(4)\n",
    "\\end{equation}\n",
    "\n",
    "is"
   ]
  },
  {
   "cell_type": "code",
   "execution_count": 39,
   "metadata": {
    "colab": {
     "base_uri": "https://localhost:8080/",
     "height": 35
    },
    "colab_type": "code",
    "executionInfo": {
     "elapsed": 7470,
     "status": "ok",
     "timestamp": 1570454632324,
     "user": {
      "displayName": "Juan Jose Manjarin",
      "photoUrl": "",
      "userId": "04910883006985787828"
     },
     "user_tz": -120
    },
    "id": "BZ1UP77d40xd",
    "outputId": "f32b15c0-9451-465b-9a67-5f23d08061ef"
   },
   "outputs": [
    {
     "data": {
      "text/plain": [
       "0.18473675547622787"
      ]
     },
     "execution_count": 39,
     "metadata": {},
     "output_type": "execute_result"
    }
   ],
   "source": [
    "poisson.sf(4,3)"
   ]
  },
  {
   "cell_type": "markdown",
   "metadata": {
    "colab_type": "text",
    "id": "ax7G4_4s483c"
   },
   "source": [
    "Finally, the last one considers the probability of time between events, then it is a problem for an exponential distribution. Since the time interval changes, we rescale as\n",
    "\n",
    "\\begin{equation}\n",
    "\\lambda = 6\\cdot\\frac{45}{60} = 4.5\n",
    "\\end{equation}\n",
    "\n",
    "then we find the cumulative probability\n",
    "\n",
    "\\begin{equation}\n",
    "P(T\\leq 1)\n",
    "\\end{equation}\n",
    "\n",
    "where we use the `1` because the scaling has been done so that the new $\\lambda$ is defined each `45` minutes. Then"
   ]
  },
  {
   "cell_type": "code",
   "execution_count": 40,
   "metadata": {
    "colab": {
     "base_uri": "https://localhost:8080/",
     "height": 35
    },
    "colab_type": "code",
    "executionInfo": {
     "elapsed": 7458,
     "status": "ok",
     "timestamp": 1570454632326,
     "user": {
      "displayName": "Juan Jose Manjarin",
      "photoUrl": "",
      "userId": "04910883006985787828"
     },
     "user_tz": -120
    },
    "id": "DuXz_9iM5jUX",
    "outputId": "f254718f-8bbe-4a97-f790-78e522320cd9"
   },
   "outputs": [
    {
     "data": {
      "text/plain": [
       "0.9888910034617577"
      ]
     },
     "execution_count": 40,
     "metadata": {},
     "output_type": "execute_result"
    }
   ],
   "source": [
    "aver = 1/4.5\n",
    "expon.cdf(1, scale = aver)"
   ]
  },
  {
   "cell_type": "markdown",
   "metadata": {
    "colab_type": "text",
    "id": "l-W_gAZG5qGc"
   },
   "source": [
    "remember that the scale is $1/\\lambda$! \n",
    "\n",
    "We can see this from the formula as\n",
    "\n",
    "\\begin{equation}\n",
    "P(T\\leq 1) = 1 - e^{- 1\\cdot 4.5} \n",
    "\\end{equation}\n",
    "\n",
    "which gives the same result. The other option we have is the rescaling of the time interval, this means that we write the 45 minutes in fractions of the hour, i.e. \n",
    "\n",
    "\\begin{equation}\n",
    "45\\text{ minutes} = \\frac{3}{4}\\text{ hour}\n",
    "\\end{equation}\n",
    "\n",
    "then we write\n",
    "\n",
    "\\begin{equation}\n",
    "\\displaystyle P(T\\leq 3/4) = 1-e^{-6\\cdot \\frac{3}{4}}\n",
    "\\end{equation}\n",
    "\n",
    "which, in Python is"
   ]
  },
  {
   "cell_type": "code",
   "execution_count": 41,
   "metadata": {
    "colab": {
     "base_uri": "https://localhost:8080/",
     "height": 35
    },
    "colab_type": "code",
    "executionInfo": {
     "elapsed": 7446,
     "status": "ok",
     "timestamp": 1570454632326,
     "user": {
      "displayName": "Juan Jose Manjarin",
      "photoUrl": "",
      "userId": "04910883006985787828"
     },
     "user_tz": -120
    },
    "id": "fytGxVG26knM",
    "outputId": "bedb84b9-73eb-4cde-ef07-820262089779"
   },
   "outputs": [
    {
     "data": {
      "text/plain": [
       "0.9888910034617577"
      ]
     },
     "execution_count": 41,
     "metadata": {},
     "output_type": "execute_result"
    }
   ],
   "source": [
    "aver = 1/6\n",
    "time = 3/4\n",
    "expon.cdf(time, scale = aver)"
   ]
  },
  {
   "cell_type": "markdown",
   "metadata": {
    "colab_type": "text",
    "id": "PiPdQBn89Gp7"
   },
   "source": [
    "Exactly the same result."
   ]
  }
 ],
 "metadata": {
  "jupytext": {
   "text_representation": {
    "extension": ".md",
    "format_name": "myst",
    "format_version": 0.12,
    "jupytext_version": "1.9.1"
   }
  },
  "kernelspec": {
   "display_name": "Python 3",
   "language": "python",
   "name": "python3"
  },
  "language_info": {
   "codemirror_mode": {
    "name": "ipython",
    "version": 3
   },
   "file_extension": ".py",
   "mimetype": "text/x-python",
   "name": "python",
   "nbconvert_exporter": "python",
   "pygments_lexer": "ipython3",
   "version": "3.9.1+"
  },
  "source_map": [
   14,
   35,
   74,
   97,
   158,
   183,
   217,
   223,
   237,
   253,
   305,
   311,
   338,
   346,
   352,
   373,
   377,
   398,
   402,
   423,
   427,
   448,
   453,
   474,
   480,
   512,
   527,
   561,
   579,
   600,
   604,
   625,
   629,
   650,
   654,
   666,
   687,
   691,
   712,
   722,
   743,
   761,
   783,
   793,
   815,
   823,
   845,
   872,
   880,
   898,
   923,
   936,
   961,
   987,
   995,
   1015,
   1038,
   1044,
   1072,
   1080,
   1084,
   1109,
   1119,
   1144,
   1157,
   1169,
   1194,
   1204,
   1226,
   1234,
   1242,
   1248,
   1283,
   1291,
   1351,
   1361,
   1386,
   1397,
   1405,
   1409,
   1433,
   1439,
   1488,
   1492,
   1512,
   1520,
   1538,
   1578,
   1599,
   1615,
   1636,
   1652,
   1674,
   1698,
   1721
  ]
 },
 "nbformat": 4,
 "nbformat_minor": 4
}