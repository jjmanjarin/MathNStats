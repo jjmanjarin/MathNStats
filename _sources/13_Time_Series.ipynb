{
 "cells": [
  {
   "cell_type": "markdown",
   "metadata": {
    "id": "V0C8pzNtheNG"
   },
   "source": [
    "# Time Series"
   ]
  },
  {
   "cell_type": "markdown",
   "metadata": {
    "id": "KvlI7gzKhfo5"
   },
   "source": [
    "Let's give a brief introduction to the analysis of time series. We will not enter into the Gauss-Markov conditions this time and just deal with the basic properties of this type of data. However, we should keep in mind that in this context we seem to be loosing one of the main ideas in Stats, that of randomness: the sample we take is not random, but a series of values indexed by time. \n",
    "\n",
    "Then we must think of our collection of data as one of the possible outcomes of a stochastic process over time, i.e. each of the values in the time series is the result of a random process and it is only one of the possible outcomes of that process."
   ]
  },
  {
   "cell_type": "markdown",
   "metadata": {
    "id": "dGb6j9QVhlao"
   },
   "source": [
    "## Components of a Time Series\n",
    "\n",
    "A general times series can be thought of as been composed by four different parts:\n",
    "\n",
    "  * The **trend**: it is the long-run smooth and regular movement of the series\n",
    "  * The **cycle**: it is the oscillatory part of the the trend that represents a smooth and continuous evolution in the long-run (repeated each certain years)\n",
    "  * The **seasonality**: it is the systematic repeated pattern observed \"yearly\" in the series\n",
    "  * The **irregular component**: it is represented by the random errors\n",
    "\n",
    "Note that since the cycle is sometimes assumed to be part of the trend, since both represent the long-run and then trend consists in a *pure trend* part and the *oscillatory trend*.\n",
    "\n",
    "There are three different ways in which we may combine the different components into just one single time series, but in general we may say that the response $y_i$ is a function\n",
    "\n",
    "\\begin{equation}\n",
    "y_i = f(T_i,\\,C_i,,S_i,\\,I_i)\n",
    "\\end{equation}\n",
    "\n",
    "  This function may represent one of the following three schemes\n",
    "  \n",
    "  * **Additive scheme**: This is the case in which the components are represented in terms of a linear combination\n",
    "  \n",
    "  \\begin{equation}\n",
    "  y_i = T_i + C_i + S_i + I_i\n",
    "  \\end{equation}\n",
    "  \n",
    "  this case is used whenever there is not a high variability of the series along time. The series in case is known as **linear** or **arithmetic**.\n",
    "  \n",
    "  * **Multiplicative scheme**: In this case we represent the output as the product of all the components, then\n",
    "  \n",
    "  \\begin{equation}\n",
    "  y_i = T_i\\cdot C_i \\cdot S_i\\cdot I_i\n",
    "  \\end{equation}\n",
    "  \n",
    "  this scheme is used when it is much better to represent the changes in terms of percentages than in absolute terms. Generally, whenever the varaibility of the series is not constant long time. The series in case is known as **exponential** or **geometric**.\n",
    "  \n",
    "  * **Mixed scheme**: In this case we typically have the trend, cycle and seasonality in a multiplicative scheme and the irregular component in addicitve scheme\n",
    "  \n",
    "  \\begin{equation}\n",
    "  y_i = (T_i \\cdot C_i \\cdot S_i) + I_i\n",
    "  \\end{equation}\n",
    "  \n",
    "  this scheme is relevant when the variability of the seasonal oscillations can be assumed to be constant but their magnitude grows with time.\n",
    "\n",
    "Whenever we have a multiplicative scheme, it will always be transformed into an additive one by means of a logarithmic transformation\n",
    "\n",
    "  \\begin{equation}\n",
    "  \\log(y_i) = \\log(T_i) + \\log(C_i) +\\log(S_i) + \\log(I_i)\n",
    "  \\end{equation}\n",
    "\n",
    "then whatever techinque that may be applied to the additive scheme can be applied to the multiplicative one if it has been transformed already."
   ]
  },
  {
   "cell_type": "markdown",
   "metadata": {
    "id": "6QkFbxlzhUcD"
   },
   "source": [
    "## Detection of the Scheme\n",
    "\n",
    "There are different ways to determine the proper scheme of a time series. Here we are only going to deal with the method of the **seasonal differences and ratios**. In this case we consider the set of differences and ratios of the observations with one seasonal lag of difference\n",
    "\n",
    "\\begin{equation}\n",
    "\\begin{array}{rcl}\n",
    "d_{i,t} & = &  y_{i,t} - y_{i,t-1} \\\\\n",
    "r_{i,t} & = & \\displaystyle\\frac{y_{i,t}}{y_{i,t-1}}\n",
    "\\end{array}\n",
    "\\end{equation}\n",
    "\n",
    "i.e. we consider the differences and ratios of, for example, the same month in lagged consecutive moments, for example, January_2018 and January_2019. Then both, differences and ratios, will be two distributions of values in which we can compute the mean and the standard deviation such that we determine the **coefficients of variation** as\n",
    "\n",
    "\\begin{equation}\n",
    "CV(d) = \\frac{\\bar d}{sd_d},\\qquad CV(r) = \\frac{\\bar r}{sd_r}\n",
    "\\end{equation}\n",
    "\n",
    "then the criteria are the following\n",
    "\n",
    " * If $CV(d)<CV(r)$ then the scheme is additive\n",
    " * If $CV(d)>CV(r)$ then the scheme is multiplicative\n",
    "\n",
    "i.e. we consider the scheme corresponding to the distribution with the smallest variability."
   ]
  },
  {
   "cell_type": "markdown",
   "metadata": {
    "id": "50KxV9SyhsXL"
   },
   "source": [
    "### Examples of Time Series Models\n",
    "\n",
    "There are many different models we may consider but from one perspective we consider a first classification with respect to the moment in which the variables of interest affect the response. In this sense we will find\n",
    "\n",
    "  * **Static Models**, in which we model contemporaneous variables, for example the *static Phillips curve* that relates the inflation with the unemployment\n",
    "  \n",
    "  \\begin{equation}\n",
    "  \\text{inf}_t = \\beta_0 + \\beta_1\\,\\text{unem}_t + u_t\n",
    "  \\end{equation}\n",
    "  \n",
    "  which assumes a constant natural rate of unemployment and constant inflationary expectations\n",
    "  \n",
    "  * **Finite Distributed Lag Models**, where we allow for some *x*'s variables to affect the response with a lag, as could be that the interest rate is a function of contemporaneous inflation rate and also of the inflation rate in two previous years\n",
    "  \n",
    "  \\begin{equation}\n",
    "  \\text{int}_t = \\beta_0 + \\beta_1\\,\\text{inf}_t + \\beta_2\\,\\text{inf}_{t-1}+ \\beta_3\\,\\text{inf}_{t-2} + u_t\n",
    "  \\end{equation}\n",
    "  \n",
    "  in this case, we know $\\beta_1$ as the **impact propensity** or the **short-run elasticity** if it is a log-log model and $\\beta_1+\\beta_2+\\beta_3$ as the **long-run propensity** or **long-run elasticity** in log-log models. In Python we can create this lagged variables as `df['laginf'] = df['inf'].shift(-1)`, where the number in the shift method is the amount of lags we are going to compute."
   ]
  },
  {
   "cell_type": "markdown",
   "metadata": {
    "id": "WlafJOvchv03"
   },
   "source": [
    "## Time Series in Python\n",
    "\n",
    "Let's begin, as usual, by loading all the modules we may need at some point or another of the study"
   ]
  },
  {
   "cell_type": "code",
   "execution_count": 1,
   "metadata": {
    "id": "hiXV34dLhUcI"
   },
   "outputs": [],
   "source": [
    "import numpy as np\n",
    "import pandas as pd\n",
    "import matplotlib.pylab as plt\n",
    "import statsmodels.api as sm\n",
    "\n",
    "from matplotlib.pylab import rcParams\n",
    "rcParams['figure.figsize'] = 15, 6\n",
    "\n",
    "from datetime import datetime\n",
    "\n",
    "from statsmodels.formula.api import ols\n",
    "from statsmodels.tsa.stattools import adfuller\n",
    "from statsmodels.tsa.seasonal import seasonal_decompose\n",
    "from statsmodels.tsa.stattools import acf, pacf\n",
    "from statsmodels.tsa.arima_model import ARIMA\n",
    "\n",
    "from statsmodels.graphics.tsaplots import plot_acf\n",
    "from statsmodels.graphics.tsaplots import plot_pacf"
   ]
  },
  {
   "cell_type": "markdown",
   "metadata": {
    "id": "ovey9OnIhUcX"
   },
   "source": [
    "In this document we are going to use the well known dataset \"AirPassengers\" from Box, G. E. P., Jenkins, G. M. and Reinsel, G. C. (1976) *Time Series Analysis, Forecasting and Control.* Third Edition. Holden-Day. Series G. which can be downloaded [here](https://www.analyticsvidhya.com/wp-content/uploads/2016/02/AirPassengers.csv) and which contains the values of the monthly totals of international airline passengers from 1949 to 1960. Once downloaded we can load it as"
   ]
  },
  {
   "cell_type": "code",
   "execution_count": 2,
   "metadata": {
    "colab": {
     "base_uri": "https://localhost:8080/"
    },
    "executionInfo": {
     "elapsed": 22016,
     "status": "ok",
     "timestamp": 1604057033159,
     "user": {
      "displayName": "Juan Jose Manjarin",
      "photoUrl": "https://lh3.googleusercontent.com/a-/AOh14GgROm1G9L6BfG7PCIlE0tJxJJ2QITgE4QN52iI2=s64",
      "userId": "04910883006985787828"
     },
     "user_tz": -60
    },
    "id": "Qv4_Sga7keHX",
    "outputId": "83f58f88-b98b-44d0-c959-f5294b45651f"
   },
   "outputs": [
    {
     "ename": "ModuleNotFoundError",
     "evalue": "No module named 'google'",
     "output_type": "error",
     "traceback": [
      "\u001b[0;31m---------------------------------------------------------------------------\u001b[0m",
      "\u001b[0;31mModuleNotFoundError\u001b[0m                       Traceback (most recent call last)",
      "\u001b[0;32m<ipython-input-2-9910662a8b8a>\u001b[0m in \u001b[0;36m<module>\u001b[0;34m\u001b[0m\n\u001b[0;32m----> 1\u001b[0;31m \u001b[0;32mfrom\u001b[0m \u001b[0mgoogle\u001b[0m\u001b[0;34m.\u001b[0m\u001b[0mcolab\u001b[0m \u001b[0;32mimport\u001b[0m \u001b[0mdrive\u001b[0m\u001b[0;34m\u001b[0m\u001b[0;34m\u001b[0m\u001b[0m\n\u001b[0m\u001b[1;32m      2\u001b[0m \u001b[0mdrive\u001b[0m\u001b[0;34m.\u001b[0m\u001b[0mmount\u001b[0m\u001b[0;34m(\u001b[0m\u001b[0;34m'mydrive'\u001b[0m\u001b[0;34m)\u001b[0m\u001b[0;34m\u001b[0m\u001b[0;34m\u001b[0m\u001b[0m\n",
      "\u001b[0;31mModuleNotFoundError\u001b[0m: No module named 'google'"
     ]
    }
   ],
   "source": [
    "from google.colab import drive\n",
    "drive.mount('mydrive')"
   ]
  },
  {
   "cell_type": "code",
   "execution_count": null,
   "metadata": {
    "colab": {
     "base_uri": "https://localhost:8080/",
     "height": 206
    },
    "executionInfo": {
     "elapsed": 2081,
     "status": "ok",
     "timestamp": 1604057036718,
     "user": {
      "displayName": "Juan Jose Manjarin",
      "photoUrl": "https://lh3.googleusercontent.com/a-/AOh14GgROm1G9L6BfG7PCIlE0tJxJJ2QITgE4QN52iI2=s64",
      "userId": "04910883006985787828"
     },
     "user_tz": -60
    },
    "id": "8WhhmgYwhUca",
    "outputId": "d8f5a18f-7838-43b8-c370-a85e6d798ef2"
   },
   "outputs": [],
   "source": [
    "mydata = pd.read_csv('/content/mydrive/My Drive/IEXL - Bootcamp - Math&Stats 20-21 September/data/AirPassengers.csv')\n",
    "mydata.head()"
   ]
  },
  {
   "cell_type": "code",
   "execution_count": null,
   "metadata": {
    "colab": {
     "base_uri": "https://localhost:8080/",
     "height": 72
    },
    "executionInfo": {
     "elapsed": 735,
     "status": "ok",
     "timestamp": 1603790273842,
     "user": {
      "displayName": "Juan Jose Manjarin",
      "photoUrl": "https://lh3.googleusercontent.com/a-/AOh14GgROm1G9L6BfG7PCIlE0tJxJJ2QITgE4QN52iI2=s64",
      "userId": "04910883006985787828"
     },
     "user_tz": -60
    },
    "id": "Cf55n614hUcs",
    "outputId": "ce0daf2c-4d13-4288-ce83-e820cbdff1de"
   },
   "outputs": [],
   "source": [
    "print(mydata.dtypes)"
   ]
  },
  {
   "cell_type": "code",
   "execution_count": null,
   "metadata": {
    "colab": {
     "base_uri": "https://localhost:8080/",
     "height": 424
    },
    "executionInfo": {
     "elapsed": 623,
     "status": "ok",
     "timestamp": 1603798157785,
     "user": {
      "displayName": "Juan Jose Manjarin",
      "photoUrl": "https://lh3.googleusercontent.com/a-/AOh14GgROm1G9L6BfG7PCIlE0tJxJJ2QITgE4QN52iI2=s64",
      "userId": "04910883006985787828"
     },
     "user_tz": -60
    },
    "id": "CV3M2CY9WgPu",
    "outputId": "cd8832d3-29ff-4362-cc95-b9a4808bd9d7"
   },
   "outputs": [],
   "source": [
    "idx = pd.to_datetime([datetime.strptime(i, '%Y-%m') for i in mydata['Month']])\n",
    "mydata.set_index(idx, inplace=True)\n",
    "mydata.drop('Month', axis = 1, inplace=True)\n",
    "mydata"
   ]
  },
  {
   "cell_type": "markdown",
   "metadata": {
    "id": "ExRSXlgGhUc2"
   },
   "source": [
    "See, however, that the object is not a time series because the *Month* column does not have a time-consistent format. To change it, we do"
   ]
  },
  {
   "cell_type": "code",
   "execution_count": null,
   "metadata": {
    "colab": {
     "base_uri": "https://localhost:8080/",
     "height": 74
    },
    "executionInfo": {
     "elapsed": 689,
     "status": "ok",
     "timestamp": 1603798164013,
     "user": {
      "displayName": "Juan Jose Manjarin",
      "photoUrl": "https://lh3.googleusercontent.com/a-/AOh14GgROm1G9L6BfG7PCIlE0tJxJJ2QITgE4QN52iI2=s64",
      "userId": "04910883006985787828"
     },
     "user_tz": -60
    },
    "id": "JT0bUwhqhUc4",
    "outputId": "b43f06d8-a4fb-453a-e65e-6b267c7d6c8e"
   },
   "outputs": [],
   "source": [
    "dateparse = lambda dates : pd.datetime.strptime(dates, '%Y-%m')\n",
    "mydata = pd.read_csv('/content/mydrive/My Drive/IEXL - Bootcamp - Math&Stats 20-21 September/data/AirPassengers.csv', \n",
    "                     parse_dates = ['Month'], \n",
    "                     index_col = 'Month', \n",
    "                     date_parser = dateparse)"
   ]
  },
  {
   "cell_type": "markdown",
   "metadata": {
    "id": "o3NEhSGwhUc_"
   },
   "source": [
    "What this code does is: specify the column with the time information with **parse_dates**, then specify the index of the pandas dataframe with **index_column** and finally  use an annonymous function stored in *dateparse* to convert the string year-month into a date with the year-month-day format"
   ]
  },
  {
   "cell_type": "code",
   "execution_count": null,
   "metadata": {
    "colab": {
     "base_uri": "https://localhost:8080/",
     "height": 238
    },
    "executionInfo": {
     "elapsed": 562,
     "status": "ok",
     "timestamp": 1603798170088,
     "user": {
      "displayName": "Juan Jose Manjarin",
      "photoUrl": "https://lh3.googleusercontent.com/a-/AOh14GgROm1G9L6BfG7PCIlE0tJxJJ2QITgE4QN52iI2=s64",
      "userId": "04910883006985787828"
     },
     "user_tz": -60
    },
    "id": "yBDAOr5ThUdB",
    "outputId": "5bc3933d-cdf5-4f0c-a4b4-0a05f5a76bbe"
   },
   "outputs": [],
   "source": [
    "mydata.head()"
   ]
  },
  {
   "cell_type": "markdown",
   "metadata": {
    "id": "bFaOVMKEhUdH"
   },
   "source": [
    "if we print the index of the set"
   ]
  },
  {
   "cell_type": "code",
   "execution_count": null,
   "metadata": {
    "id": "OuGADTpzhUdM"
   },
   "outputs": [],
   "source": [
    "mydata.index"
   ]
  },
  {
   "cell_type": "markdown",
   "metadata": {
    "id": "2AUopZZmhUdT"
   },
   "source": [
    "we can see that the **dtype** is now a **datetime** type and so, it is a Time Series.\n",
    "\n",
    "An interesting point with these time series is that we may subset with respect to the year as"
   ]
  },
  {
   "cell_type": "code",
   "execution_count": null,
   "metadata": {
    "id": "fr1XPQLdhUdU"
   },
   "outputs": [],
   "source": [
    "mydata['1949']"
   ]
  },
  {
   "cell_type": "markdown",
   "metadata": {
    "id": "Yf6OtQuOrQmf"
   },
   "source": [
    "## Measures of Dependence\n",
    "\n",
    "The complete description of a time series may need the following joint probability distribution \n",
    "\n",
    "\\begin{equation}\n",
    "F_{t_1t_2\\dots t_n}(c_1,c_2,\\dots,c_n)=P(x_{t_1}\\leq c_1,\\dots x_{t_n}\\leq c_n)\n",
    "\\end{equation}\n",
    "\n",
    "extendend to arbitrary time points with $n$ arbitrary random variables. However, this distribution is an unwidly tool for describing the time series. In this situation it is much better to work with the marginal distributions \n",
    "\n",
    "\\begin{equation}\n",
    "F_t(x)=P(x_t\\leq x)\n",
    "\\end{equation}\n",
    "\n",
    "which, when they exist, offer valuable marginal information of the series. One of the main functions we are going to define in this context is the **Autocovariance Function**\n",
    "\n",
    "\\begin{equation}\n",
    "\\gamma_x(s,t)=E[(x_s-\\mu_s)(x_t-\\mu_t)]\n",
    "\\end{equation}\n",
    "\n",
    "defined for all times $s$ and $t$ and which measures the *linear* dependence between two points on the same series at different times.\n",
    "\n",
    "This function is, therefore, measuring if observations at *any* moment of the series are still affecting distant in time observations. Note that smooth series will exhibit an autocorrelation high when $s$ and $t$ are far appart while choppy series will have autocorrelations close to 0 (remember that as usual there may still be other types of relationships).\n",
    "\n",
    "As an example, consider a three-point moving average of white noise (mean 0 and variance $\\sigma_w^2$)\n",
    "\n",
    "\\begin{equation}\n",
    "v_t = \\frac{1}{3}(w_{t-1} + w_t + w_{t+1})\n",
    "\\end{equation}\n",
    "\n",
    "it is easy to check that the autocorrelation function is\n",
    "\n",
    "\\begin{equation}\n",
    "\\gamma_v(s,t)=\\left\\{\\begin{array}{ll} \\frac{3}{9}\\sigma_w^2, & s=t\\\\\\frac{2}{9}\\sigma_w^2,  & |s-t|=1\\\\\\frac{1}{9}\\sigma_w^2,  & |s-t|=2\\\\0, & |s-t|>2\\end{array}\\right.\n",
    "\\end{equation}\n",
    "\n",
    "Now, as usual, we need should introduce the **Autocorrelation Function**, ACF, which measures the *strength* of the dependency\n",
    "\n",
    "\\begin{equation}\n",
    "\\rho_{xy}(s,t)=\\frac{\\gamma(s,t)}{\\sqrt{\\gamma(s,s)\\gamma(t,t)}}\n",
    "\\end{equation}\n",
    "\n",
    "which, as with the usual correlation, is a number between $[-1,1]$ due to the Cauchy-Schwarz inequality and which measures the linear predictabiity of the series at time $t$, $x_t$, using only the value $x_s$. Later we will define another function, the **Partial Autocorrelation Function**."
   ]
  },
  {
   "cell_type": "markdown",
   "metadata": {
    "id": "AjZDUJYuhUdc"
   },
   "source": [
    "### Stationarity\n",
    "\n",
    "different models that we may consider in the Time Series context which may be divided into **stationary** and **non-stationary**. A process is known as stationary if its statistical characteristics do not change over time, i.e. if, for example, its mean or its standard deviation are constant along the whole process. \n",
    "\n",
    "Formally it can be seen that stationarity has to do with the joint distribution of the process as it evolves in time. Then we say that a series is **strictly stationary** if \n",
    "\n",
    "\\begin{equation}\n",
    "P(x_{t_1}\\leq c_1,\\dots x_{t_n}\\leq c_n)=P(x_{t_1+h}\\leq c_1,\\dots x_{t_n+h}\\leq c_n)\n",
    "\\end{equation}\n",
    "\n",
    "however, requiring this condition is too much for most applications\n",
    "\n",
    "\n",
    "and joint distributions can be described as dependent or independent. In this context we can find\n",
    "\n",
    "  * **(Highly) Persistent** (strongly dependent) time series, when an infinitesimal shock affects future time values. The longer the persistence, the longer the *memory* of the system.\n",
    "  * **Weakly Dependent** time series, when both, the mean value is constant and does not depend on time and the autocovariance function depends only in the difference between the time moments, $|s-t|$, and not on the location of the two points. \n",
    "\n",
    "From now on, whenever we say *stationary* we actually mean *weakly dependent*. \n",
    "\n",
    "For our case before of the three-point moving average white noise, we can find that the mean is 0, because it is white noise and the moving average does not change this, while the autocorrelation function is\n",
    "\n",
    "\\begin{equation}\n",
    "\\rho_v(h)=\\left\\{\\begin{array}{ll} 1, & h=0\\\\\\frac{2}{3},  & h=\\pm 1\\\\\\frac{1}{3},  & h=\\pm 2\\\\0, & |h|>2\\end{array}\\right.\n",
    "\\end{equation}\n",
    "\n",
    "which only depends on the lag. We can plot it as follows"
   ]
  },
  {
   "cell_type": "code",
   "execution_count": null,
   "metadata": {
    "colab": {
     "base_uri": "https://localhost:8080/",
     "height": 414
    },
    "executionInfo": {
     "elapsed": 965,
     "status": "ok",
     "timestamp": 1604057069905,
     "user": {
      "displayName": "Juan Jose Manjarin",
      "photoUrl": "https://lh3.googleusercontent.com/a-/AOh14GgROm1G9L6BfG7PCIlE0tJxJJ2QITgE4QN52iI2=s64",
      "userId": "04910883006985787828"
     },
     "user_tz": -60
    },
    "id": "TLCUAeIbHUKT",
    "outputId": "ef48f244-65ee-402b-e833-9bd01c039fa0"
   },
   "outputs": [],
   "source": [
    "acf = pd.DataFrame({'ACF': [0, 1/3, 2/3, 1, 2/3, 1/3, 0],\n",
    "                    'LAG': [-3, -2, -1, 0, 1, 2, 3]})\n",
    "\n",
    "plt.bar(acf['LAG'], acf['ACF'], width = 0.05)\n",
    "plt.title(\"3-Point Moving Average Autocorrelation\", fontsize = 20)\n",
    "plt.xlabel(\"LAG\", fontsize = 15)\n",
    "plt.ylabel(\"ACF\", fontsize = 15)\n",
    "plt.show()"
   ]
  },
  {
   "cell_type": "markdown",
   "metadata": {
    "id": "sLuFnQAmHXrv"
   },
   "source": [
    "Let's work out our example of the Flight Passengers. To see if our dataset describes a stationary process, we can just plot the number of passengers as a function of time"
   ]
  },
  {
   "cell_type": "code",
   "execution_count": null,
   "metadata": {
    "id": "NwifpySXhUdd"
   },
   "outputs": [],
   "source": [
    "plt.plot(mydata['#Passengers'])\n",
    "\n",
    "plt.xlabel('Year', fontsize = 15)\n",
    "plt.ylabel('Number of Passengers', fontsize = 15)\n",
    "plt.title('Passengers per Year', fontsize = 20)\n",
    "plt.show()"
   ]
  },
  {
   "cell_type": "markdown",
   "metadata": {
    "id": "WfP2xy2chUdm"
   },
   "source": [
    "From where we may inmediately see that the values do not distribute around a constant average number of passengers, but it shows a general increasing trend. There are ways to actually test if there is stationarity or not, for example the Dickey-Fuller test, where the null hypothesis is **non-stationarity**"
   ]
  },
  {
   "cell_type": "code",
   "execution_count": null,
   "metadata": {
    "id": "XvW6E8IzhUdn"
   },
   "outputs": [],
   "source": [
    "print('Results of Dickey-Fuller Test:')\n",
    "dftest = adfuller(mydata['#Passengers'], autolag='AIC')\n",
    "dfoutput = pd.Series(dftest[0:4], index = ['Test Statistic','p-value','Number of Lags Used','Number of Observations Used'])\n",
    "for key,value in dftest[4].items():\n",
    "    dfoutput['Critical Value (%s)'%key] = value\n",
    "print(dfoutput)"
   ]
  },
  {
   "cell_type": "markdown",
   "metadata": {
    "id": "pnpAkKw9hUdt"
   },
   "source": [
    "we obtain a p-value of $0.99$ which implies that we fail to reject the null hypothesis and conclude that there is no evidence against non-stationarity.\n",
    "\n",
    "Graphically we may compute the **Moving Averages** and/or the **Moving Standard Deviations** which are procedures to smooth-out the time series that let us see how the data behaves in order to see if it is stationary or not. Let's compute these two quantitites using a window of $12$ observations, i.e. the equivalent to one year"
   ]
  },
  {
   "cell_type": "code",
   "execution_count": null,
   "metadata": {
    "id": "vZIZ_uBNhUdv"
   },
   "outputs": [],
   "source": [
    "m_aver = mydata.rolling(12).mean()\n",
    "std_aver = mydata.rolling(12).std()"
   ]
  },
  {
   "cell_type": "markdown",
   "metadata": {
    "id": "0uE5BgwkhUd0"
   },
   "source": [
    "Now we can plot the three different time series together in one single graph using"
   ]
  },
  {
   "cell_type": "code",
   "execution_count": null,
   "metadata": {
    "id": "0xTNczwIhUd2"
   },
   "outputs": [],
   "source": [
    "orig = plt.plot(mydata, color='blue',label='Original')\n",
    "mean = plt.plot(m_aver, color='red', label='Moving Average')\n",
    "std = plt.plot(std_aver, color='black', label = 'Moving Standard Deviation')\n",
    "plt.legend(loc='best')\n",
    "plt.title('Moving Average & Standard Deviation - Original Data')\n",
    "plt.show(block=False)"
   ]
  },
  {
   "cell_type": "markdown",
   "metadata": {
    "id": "NMSTdVvIMAAw"
   },
   "source": [
    "From the graph we can inmediately see the same behaviour we found with the test, a general tendency to increase the number of passengers and a slightly changing variability."
   ]
  },
  {
   "cell_type": "markdown",
   "metadata": {
    "id": "gh-S9XJjHrFp"
   },
   "source": [
    "## Times Series as a Linear Model\n",
    "\n",
    "Let's begin the analysis by dealing with the time series variable as if we were using a linear model. In this case all the particularities of the series (trend and seasonality) may be described using a series of categorical variables.\n",
    "\n",
    "In the plot before we identify some of the basic components of a time series: trend and seasonality. To deal with them and remove their non-stationarity we have to understand these components a bit more in depth"
   ]
  },
  {
   "cell_type": "markdown",
   "metadata": {
    "id": "kh5ln_ZJhUd_"
   },
   "source": [
    "### Trend\n",
    "\n",
    "**Trend** is the general idea that the series have a common tendency over the time. The simplest way to deal with trends is just include a time variable (a sort of index) in our model. As we know, we may be involved in a **linear** or an **exponential** scheme in which case we must be careful with the interpreations. The linear case is\n",
    " \n",
    " \\begin{equation}\n",
    " y_t = \\alpha_0 + \\alpha_1 t + u_t\n",
    " \\end{equation}\n",
    " \n",
    " such that the **slope** measures the arithmetic change in the response from one time period to the next one, holding everything else fixed. In an exponential behaviour we will write the response as\n",
    " \n",
    " \\begin{equation}\n",
    " \\log(y_t) = \\alpha_0 + \\alpha_1 t + u_t\n",
    " \\end{equation}\n",
    " \n",
    " where now the **slope** measures the growth rate from one time period to another.\n",
    " \n",
    " Note that **NOT** including the trend time variable may lead to the discovery of spurious correlations just because the variables included in the model do follow the same trend. \n",
    " \n",
    " Also, note that there are trends that are not so straightforward to detect and remove (we do not just see a steady constant evolution of the time series) and then we must deal with, for example, quadratic trends\n",
    "\n",
    " \\begin{equation}\n",
    " \\log(y_t) = \\alpha_0 + \\alpha_1 t + \\alpha_2t^2+ u_t\n",
    " \\end{equation}\n",
    " \n",
    " where we capture the not constant elasticity of the response, or any other functional form.\n",
    " \n",
    " In general, the trend variable must be understood as containing all the effects correlated with the response that we do not consider in the regressors explicitely included in the model and that affect its behaviour."
   ]
  },
  {
   "cell_type": "markdown",
   "metadata": {
    "id": "J4it3xOMME--"
   },
   "source": [
    "#### Spurious Correlation: an Example\n",
    "\n",
    "As a side example, take the following case: the data set we are going to use is that of the housing investment in the USA from 1947 to 1988"
   ]
  },
  {
   "cell_type": "code",
   "execution_count": null,
   "metadata": {
    "colab": {
     "base_uri": "https://localhost:8080/",
     "height": 206
    },
    "executionInfo": {
     "elapsed": 1714,
     "status": "ok",
     "timestamp": 1604057117783,
     "user": {
      "displayName": "Juan Jose Manjarin",
      "photoUrl": "https://lh3.googleusercontent.com/a-/AOh14GgROm1G9L6BfG7PCIlE0tJxJJ2QITgE4QN52iI2=s64",
      "userId": "04910883006985787828"
     },
     "user_tz": -60
    },
    "id": "4Jnq4pT0hUeB",
    "outputId": "36d2c1f3-5171-4f09-fb64-875b90c2d96c"
   },
   "outputs": [],
   "source": [
    "housing = pd.read_csv('/content/mydrive/My Drive/IEXL - Bootcamp - Math&Stats 20-21 September/data/hseinv.csv')\n",
    "housing.head()"
   ]
  },
  {
   "cell_type": "markdown",
   "metadata": {
    "id": "YxZVymQAhUeS"
   },
   "source": [
    "Let's take a look at the shape of the log transformed investment and price variables"
   ]
  },
  {
   "cell_type": "code",
   "execution_count": null,
   "metadata": {
    "colab": {
     "base_uri": "https://localhost:8080/",
     "height": 384
    },
    "executionInfo": {
     "elapsed": 1140,
     "status": "ok",
     "timestamp": 1604057128879,
     "user": {
      "displayName": "Juan Jose Manjarin",
      "photoUrl": "https://lh3.googleusercontent.com/a-/AOh14GgROm1G9L6BfG7PCIlE0tJxJJ2QITgE4QN52iI2=s64",
      "userId": "04910883006985787828"
     },
     "user_tz": -60
    },
    "id": "7tCxN8xqhUeV",
    "outputId": "c9c57a69-4ec8-4357-9a95-ef03f9aac983"
   },
   "outputs": [],
   "source": [
    "fig, ax = plt.subplots()\n",
    "ax2 = ax.twinx()\n",
    "\n",
    "ax.plot(housing.linvpc, color = 'blue', label = 'Log(investment)')\n",
    "ax2.plot(housing.lprice, color = 'red', label = 'Log(price)')\n",
    "\n",
    "ax.set_xlabel('Years')\n",
    "ax.set_ylabel('Log(investment)')\n",
    "ax2.set_ylabel('Log(price)')\n",
    "\n",
    "plt.show(block=False)"
   ]
  },
  {
   "cell_type": "markdown",
   "metadata": {
    "id": "9vqfGTiwhUeb"
   },
   "source": [
    "from the graph we may identify that there exists some degree of positive correlation between both variables since they seem to behave more or less in the same way, i.e. when one increases the other increases with some minor differences in certain periods.\n",
    "\n",
    "This may lead us to find the model\n",
    "\n",
    "\\begin{equation}\n",
    "\\log(\\text{investment}) = \\beta_0 + \\beta_1\\,\\log(\\text{price})\n",
    "\\end{equation}\n",
    "\n",
    "as"
   ]
  },
  {
   "cell_type": "code",
   "execution_count": null,
   "metadata": {
    "colab": {
     "base_uri": "https://localhost:8080/"
    },
    "executionInfo": {
     "elapsed": 835,
     "status": "ok",
     "timestamp": 1604057136494,
     "user": {
      "displayName": "Juan Jose Manjarin",
      "photoUrl": "https://lh3.googleusercontent.com/a-/AOh14GgROm1G9L6BfG7PCIlE0tJxJJ2QITgE4QN52iI2=s64",
      "userId": "04910883006985787828"
     },
     "user_tz": -60
    },
    "id": "RHVgnx6FhUec",
    "outputId": "7be6e715-c35f-482c-8f58-e1d947bcc158"
   },
   "outputs": [],
   "source": [
    "model = ols('linvpc ~ lprice', data = housing).fit()\n",
    "print(model.summary())"
   ]
  },
  {
   "cell_type": "markdown",
   "metadata": {
    "id": "F_JC53k2hUej"
   },
   "source": [
    "which allow us to write the model as\n",
    "\n",
    "\\begin{equation}\n",
    "\\log(\\text{investment}) = -0.5502 + 1.2409\\,\\log(\\text{price})\n",
    "\\end{equation}\n",
    "\n",
    "with an adjusted $\\bar R^2 = 0.189$. Then even though the explanatory power of the model is only the 18.9%, we can identify that the price variable is actually individually relevant and that it has a positive impact in the increase of the housing price with respect to the investment, in fact, for each 1% increase in the price, the investment increases 1.2409%.\n",
    "\n",
    "Now, let's see what happens when we add the time variable to our model. For that we first create the time order variable as"
   ]
  },
  {
   "cell_type": "code",
   "execution_count": null,
   "metadata": {
    "colab": {
     "base_uri": "https://localhost:8080/",
     "height": 226
    },
    "executionInfo": {
     "elapsed": 884,
     "status": "ok",
     "timestamp": 1604057167313,
     "user": {
      "displayName": "Juan Jose Manjarin",
      "photoUrl": "https://lh3.googleusercontent.com/a-/AOh14GgROm1G9L6BfG7PCIlE0tJxJJ2QITgE4QN52iI2=s64",
      "userId": "04910883006985787828"
     },
     "user_tz": -60
    },
    "id": "3LGicqbEhUel",
    "outputId": "17b09494-b603-46b5-e568-8dfce29d9773"
   },
   "outputs": [],
   "source": [
    "housing['time'] = housing.index + 1\n",
    "housing.head()"
   ]
  },
  {
   "cell_type": "markdown",
   "metadata": {
    "id": "T5f2HvGmhUeq"
   },
   "source": [
    "and now we run the second model as"
   ]
  },
  {
   "cell_type": "code",
   "execution_count": null,
   "metadata": {
    "colab": {
     "base_uri": "https://localhost:8080/"
    },
    "executionInfo": {
     "elapsed": 845,
     "status": "ok",
     "timestamp": 1604057179155,
     "user": {
      "displayName": "Juan Jose Manjarin",
      "photoUrl": "https://lh3.googleusercontent.com/a-/AOh14GgROm1G9L6BfG7PCIlE0tJxJJ2QITgE4QN52iI2=s64",
      "userId": "04910883006985787828"
     },
     "user_tz": -60
    },
    "id": "-zKg1_0XhUes",
    "outputId": "7ce80df0-8ecc-4bf8-efd2-d84baaf3c605"
   },
   "outputs": [],
   "source": [
    "model2 = ols('linvpc ~ lprice + time', data = housing).fit()\n",
    "print(model2.summary())"
   ]
  },
  {
   "cell_type": "markdown",
   "metadata": {
    "id": "lw45xl07hUey"
   },
   "source": [
    "which allow us to write the model as\n",
    "\n",
    "\\begin{equation}\n",
    "\\log(\\text{investment}) = -0.9131 -(0.3810)\\,\\log(\\text{price}) + 0.0098\\,t\n",
    "\\end{equation}\n",
    "\n",
    "with an adjusted $\\bar R^2 = 0.307$. Then the explanatory power of the model has increased but there are two major changes: the price variable has become individually irrelevant to explain the behaviour of the investment, but even more, its impact has changed the sign, so now we may say that for each 1% increase in the price, the investment decreases 0.381%."
   ]
  },
  {
   "cell_type": "markdown",
   "metadata": {
    "id": "I9C_B0KEIIOc"
   },
   "source": [
    "### Seasonality\n",
    "\n",
    "**Seasonality** is the idea that some property of the time series is repeated in constant steps, for example a decrese in unemployment or an increase in the number of passengers in summer. To deal with seasonalities, we include dummy variables for the different \"seasons\", known as **seasonal dummy variables** we are interested on, for example\n",
    " \n",
    " \\begin{equation}\n",
    " y = \\beta_0 + \\beta_1\\,x_1 + \\beta_2\\,x_2+\\delta_1\\,\\text{summer}+\\delta_2\\,\\text{winter}+\\delta_3\\,\\text{spring}\n",
    " \\end{equation}\n",
    "\n",
    "\n",
    "Many time series exhibit a clear correlation in the evolution of their time series, see [this](https://www.tylervigen.com/spurious-correlations) link for some examples that show that in most of these cases what we are actually seeing is a spurious correlation."
   ]
  },
  {
   "cell_type": "markdown",
   "metadata": {
    "id": "wUhVrl99hUez"
   },
   "source": [
    "### Removing Trend and Seasonality\n",
    "\n",
    "There are many different procedures to remove trends and seasonalities from a time series. Here we are only going to consider two of them:\n",
    "\n",
    " * Analytic method: here we explicitely add the trend variable (as mentioned above)\n",
    " * Differences method: considering lagged variables\n",
    "\n",
    "Appart from these, we will see how to find the decomposition of the time series on its basic components."
   ]
  },
  {
   "cell_type": "markdown",
   "metadata": {
    "id": "BedfSOioMUxk"
   },
   "source": [
    "#### Analytic method: The linear model\n",
    "\n",
    "As we have already mentioned, the trend variable must be understood as containing all the effects correlated with the response that we do not consider in the regressors explicitely included in the model and that affect its behaviour. Then, once we add this variable we are **detrending** the time series. The interpretation of this detrending is the following. Suppose we have the estimated detrended model\n",
    "\n",
    "\\begin{equation}\n",
    "\\hat y_t = \\hat\\beta_0 + \\hat\\beta_1\\,x_{1,t} + \\hat\\beta_2\\,x_{2,t} + \\hat\\beta_3\\,t\n",
    "\\end{equation}\n",
    "\n",
    "The estimation of the coefficients in this detrended time series can be obtained in the following way. \n",
    "\n",
    "  * First regress all the variables involved in the model on a constant and the time only and obtain the residuals for each of these models (in our case we only have the response, so we may just need one set of residuals). The residuals must be thought as being *linearly detrended*, since they are\n",
    "  \n",
    "  \\begin{equation}\n",
    "  \\hat e_{y,t} = y_t - \\hat\\alpha_0 - \\hat\\alpha_1t \n",
    "  \\end{equation}\n",
    "  \n",
    "  i.e. we are substracting the trend.\n",
    "  \n",
    "  * Next we run the regression of the residuals on the residuals (without constant term now). The estimates of the slopes of this model are precisely\n",
    "  \n",
    "  \\begin{equation}\n",
    "  \\hat e_{y,t} = \\hat\\beta_1\\hat e_{x_1,t} +\\hat\\beta_2\\hat e_{x_2,t} + \\dots\n",
    "  \\end{equation}\n",
    "\n",
    "How should we understand this result? First, we conclude that if the trend variable is relevant in our model, we should not trust the results without the trend. Second, that as soon as any of th independent variables shows is trending we should add the trend even if the response is not trending. Third, that if we do not add the trend we may see that one or more variables are related to the response wimply because they exhibit a trend."
   ]
  },
  {
   "cell_type": "markdown",
   "metadata": {
    "id": "a4ECYSDKMYy1"
   },
   "source": [
    "#### Differences method\n",
    "\n",
    "This section let us introduce an operator, the **back-shift** operator by considering a method that is specific to Time Series: the method of the differences. \n",
    "\n",
    "The *back-shift operator*, $B$, is defined as\n",
    "\n",
    "\\begin{equation}\n",
    "B^kx_t= x_{t-k}\n",
    "\\end{equation}\n",
    "\n",
    "i.e. it is the operator that returns the lagged variable of order $k$. Then it can be used to define the **differences of order $d$** as\n",
    "\n",
    "\\begin{equation}\n",
    "\\nabla^d = (1-B)^d\n",
    "\\end{equation}\n",
    "\n",
    "The first difference is an example of what is known as a **linear filter**, applied to remove the trend of a series. Then for a model with trend\n",
    "\n",
    "\\begin{equation}\n",
    "x_t = \\mu_t + y_t\n",
    "\\end{equation}\n",
    "\n",
    "where $y_t$ is a stationary process, it can be proved that \n",
    "\n",
    "\\begin{equation}\n",
    "\\nabla x_t = x_t - x_{t-1}\n",
    "\\end{equation}\n",
    "\n",
    "has an autocovariance depending only on the lags and is, therefore, stationary.\n",
    "\n",
    "Let's apply this method to the Passengers dataset, however, since from the graph of our original series we can detect an exponential scheme, let's first add the logarithm of the time series"
   ]
  },
  {
   "cell_type": "code",
   "execution_count": null,
   "metadata": {
    "id": "dBPo38ObhUe1"
   },
   "outputs": [],
   "source": [
    "mydata['lpassengers'] = np.log(mydata['#Passengers'])"
   ]
  },
  {
   "cell_type": "markdown",
   "metadata": {
    "id": "bgS8g07nhUe7"
   },
   "source": [
    "If we plot this logarithmically transformed variable"
   ]
  },
  {
   "cell_type": "code",
   "execution_count": null,
   "metadata": {
    "id": "lZ0zb5FMhUe8"
   },
   "outputs": [],
   "source": [
    "plt.plot(mydata['lpassengers'])\n",
    "\n",
    "plt.xlabel('Year', fontsize = 15)\n",
    "plt.ylabel('Log(Number of Passengers)', fontsize = 15)\n",
    "plt.title('Passengers per Year (Additive)', fontsize = 20)\n",
    "\n",
    "plt.show()"
   ]
  },
  {
   "cell_type": "markdown",
   "metadata": {
    "id": "GB4yfC8rhUfB"
   },
   "source": [
    "we see that, as promised, once we take the logs and penalyze the large and small values of the time series, the scheme is arithmetic.\n",
    "\n",
    "In the **differences** method we consider the difference between the time series at time $t$ and at time $t-1$, which gives rise to the following time series\n",
    "\n",
    "\\begin{equation}\n",
    "z_t = y_{t} - y_{t-1}\n",
    "\\end{equation}\n",
    "\n",
    "The idea is that now we can see if $z_t$ increases, decreases or is ocillating. In the last case, we may say that we have detrended the series. If we were in the first case then we should find the differences of $z_t$ and $z_{t-1}$ and so on.\n",
    "\n",
    "This method is not free from problems:\n",
    "\n",
    "  * we lose observations, and\n",
    "  * since we do not identify the trend, forecasting is rather difficult after it"
   ]
  },
  {
   "cell_type": "code",
   "execution_count": null,
   "metadata": {
    "id": "4lNFfdRUhUfC"
   },
   "outputs": [],
   "source": [
    "difference = mydata['lpassengers'] - mydata['lpassengers'].shift()"
   ]
  },
  {
   "cell_type": "markdown",
   "metadata": {
    "id": "YCfy3JwbhUfJ"
   },
   "source": [
    "just as before we can plot the moving averages and moving standard deviations along with the difference time series"
   ]
  },
  {
   "cell_type": "code",
   "execution_count": null,
   "metadata": {
    "id": "su6iokrZhUfL"
   },
   "outputs": [],
   "source": [
    "dm_aver = difference.rolling(12).mean()\n",
    "dstd_aver = difference.rolling(12).std()\n",
    "\n",
    "orig = plt.plot(difference, color='blue',label='Original')\n",
    "mean = plt.plot(dm_aver, color='red', label='Moving Average')\n",
    "std = plt.plot(dstd_aver, color='black', label = 'Moving Std')\n",
    "plt.legend(loc='best')\n",
    "plt.title('Moving Average & Standard Deviation')\n",
    "plt.show(block=False)"
   ]
  },
  {
   "cell_type": "markdown",
   "metadata": {
    "id": "TwO_pVLuhUfS"
   },
   "source": [
    "from where we see a reasonably constant behaviour of the series. However, we can perform the formal test. Then let's use the Dickey-Fuller test for this difference as"
   ]
  },
  {
   "cell_type": "code",
   "execution_count": null,
   "metadata": {
    "id": "f9d_IzTPhUfV"
   },
   "outputs": [],
   "source": [
    "print('Results of Dickey-Fuller Test:')\n",
    "dftest = adfuller(difference.dropna(), autolag='AIC')\n",
    "dfoutput = pd.Series(dftest[0:4], index = ['Test Statistic', 'p-value', 'Number of Lags Used', 'Number of Observations Used'])\n",
    "for key,value in dftest[4].items():\n",
    "    dfoutput['Critical Value (%s)'%key] = value\n",
    "print(dfoutput)"
   ]
  },
  {
   "cell_type": "markdown",
   "metadata": {
    "id": "xJy7oac5Md2M"
   },
   "source": [
    "from where we see that for a 10% of significance level, we can't detect any non-stationarity."
   ]
  },
  {
   "cell_type": "markdown",
   "metadata": {
    "id": "RzjJ4ppghUff"
   },
   "source": [
    "## Scheme Decomposition\n",
    "\n",
    "Another approach that we can use is to model the **decomposition** of the time series on its basic components, i.e. in the trend, seasonality and residuals. For that we instantiate a decomposition of the logarithmic data"
   ]
  },
  {
   "cell_type": "code",
   "execution_count": null,
   "metadata": {
    "id": "YmGwUpSvhUfj"
   },
   "outputs": [],
   "source": [
    "decomposition = seasonal_decompose(mydata['lpassengers'])"
   ]
  },
  {
   "cell_type": "markdown",
   "metadata": {
    "id": "IYnWWySChUfp"
   },
   "source": [
    "from this model decomposition we can obtain the **trend**, the **seasonality** and the **residuals**"
   ]
  },
  {
   "cell_type": "code",
   "execution_count": null,
   "metadata": {
    "id": "7pvhCgVShUfq"
   },
   "outputs": [],
   "source": [
    "trend = decomposition.trend\n",
    "seasonal = decomposition.seasonal\n",
    "residual = decomposition.resid"
   ]
  },
  {
   "cell_type": "markdown",
   "metadata": {
    "id": "pZ1YpM81hUfu"
   },
   "source": [
    "which can be represented as"
   ]
  },
  {
   "cell_type": "code",
   "execution_count": null,
   "metadata": {
    "id": "KTcb8iYGhUfw"
   },
   "outputs": [],
   "source": [
    "plt.suptitle('Model Decomposition', fontsize = 20)\n",
    "\n",
    "plt.subplot(411)\n",
    "plt.plot(mydata['lpassengers'], label='Original')\n",
    "plt.legend(loc='best')\n",
    "\n",
    "plt.subplot(412)\n",
    "plt.plot(trend, label='Trend')\n",
    "plt.legend(loc='best')\n",
    "\n",
    "plt.subplot(413)\n",
    "plt.plot(seasonal,label='Seasonality')\n",
    "plt.legend(loc='best')\n",
    "\n",
    "plt.subplot(414)\n",
    "plt.plot(residual, label='Residuals')\n",
    "plt.legend(loc='best')\n",
    "\n",
    "plt.tight_layout(rect = (0,0,1,0.94))\n",
    "plt.show()"
   ]
  },
  {
   "cell_type": "markdown",
   "metadata": {
    "id": "iHXZiNgGhUf0"
   },
   "source": [
    "Now, since the conditions are on the residuals of this decomposition, then let's test for non-stationarity in the residuals of the model"
   ]
  },
  {
   "cell_type": "code",
   "execution_count": null,
   "metadata": {
    "id": "V7xiodxAhUf0"
   },
   "outputs": [],
   "source": [
    "print('Results of Dickey-Fuller Test:')\n",
    "dftest = adfuller(residual.dropna(), autolag='AIC')\n",
    "dfoutput = pd.Series(dftest[0:4], index = ['Test Statistic', 'p-value', 'Number of Lags Used', 'Number of Observations Used'])\n",
    "for key,value in dftest[4].items():\n",
    "    dfoutput['Critical Value (%s)'%key] = value\n",
    "print(dfoutput)"
   ]
  },
  {
   "cell_type": "markdown",
   "metadata": {
    "id": "tBoD2HclhUhV"
   },
   "source": [
    "## Box-Jenkins Methodology\n",
    "\n",
    "Let's now make a summary of the general Box-Jenkins methodology for ARIMA models:\n",
    "\n",
    " * **Collect the data**: Box and Jenkins recommend a minimum of 50 observations and, when working with monthly series have between 6 and 10 years of information (similar bounds for other seasonal periods).\n",
    " * **Represent the series**: Always make the graphical representation of the series. This may let us identify different properties as schemes, trends or stationarity. An interesting tool is that of the moving averages or standard deviations to detect if the statistical properties are changing with time.\n",
    " * **Transform the series**: If the series is not stationary or we detect a precise scheme we should always consider the transformation of variables. Typically into logarithms, but we can do a more general Box-Cox type transformation.\n",
    " * **Remove trends**: By decomposition or by direct observation of the graph we can detect the existence and type of a trend. There are different ways to remove it: differences or analytically. In the ARIMA model we can consider that if the trend is **linear** then we take d=1 and for a non-linear trend we use d=2 (the python function does not allow for higher values of d).\n",
    " * **Identify the model**: Identify the order of the autorregressive and moving averages of the regular and seasonal components. In absence of any other guide, take $(p, q)\\in[1,2]$ with all their combinations. These values should be found by means of the autocorrelation or partial correlation functions and graphs (take a look at the **acf** and **pacf** functions from **statsmodels.tsa.stattools** module as well as to the **plot_acf** and **plot_pacf** from statsmodels.graphics.tsaplots) as well as by minimization of the different information criteria. If we have doubts with respect to which model we should take, estimate some of them and compare later (with respect to this, see if the ARIMA(2,1,2) would be better than the ARIMA(3,1,3) we have found before)\n",
    " * **Estimate the coefficients**: Usual estimation process.\n",
    " * **Validate the model**: There are many different tests that can be made to validate the model. One option similar to one that we have covered in linear regression is that when the model does not actully fit the observed series, the residuals will be autocorrelated values. In this case we should use **Durbin-Watson** for first order autocorrelation or **Wallis** for fourth order autocorrelations.\n",
    " * **Analyize the errors**: This is the usual residuals study, mostly looking for high residual points (outliers) where the difference between the prediction and the observed values is too different\n",
    " * **Select the model**: In view of the previous steps, select one of the models.\n",
    " * **Forecasting**: Once we have the model we can use it as the basis for forecasting."
   ]
  },
  {
   "cell_type": "markdown",
   "metadata": {
    "id": "ijZYNcMJMvbk"
   },
   "source": [
    "from where we inmediately see that the p-value is significant for a $10^{-6}\\%$ and we can then assume non-stationarity."
   ]
  },
  {
   "cell_type": "markdown",
   "metadata": {
    "id": "Bg9JPVMVhUf9"
   },
   "source": [
    "## Predictions\n",
    "\n",
    "One of the key points in any modelization of a time series is to have the ability to predict future values from known data. In this context we are going to see two different approaches\n",
    "\n",
    "  * ARIMA models, developed by Box and Jenkins, whose name means Autorregresive (AR) Integrated (I) Moving Averages (MA) where we use the estimation of an explicit linear model under the idea that it should contain all the needed elements but only the minimum of them (with the recommendation of at least 50 observations)\n",
    "  \n",
    "  * Facebook's Prophet, developed by Facebook, using a Bayesian approach."
   ]
  },
  {
   "cell_type": "markdown",
   "metadata": {
    "id": "mClOjQYv1cRc"
   },
   "source": [
    "## ARIMA models\n",
    "\n",
    "The **ARMA** and **ARIMA Models**, developed by Box and Jenkins, where the names stand for *AutoRegressive Moving Averages* and *AutoRegressive Integrated Moving Averages*, are weakly dependent models we will use for forecasting. Let's study each of the components separatedly."
   ]
  },
  {
   "cell_type": "markdown",
   "metadata": {
    "id": "OXeR09f3M_eT"
   },
   "source": [
    "### MA(q)\n",
    "\n",
    "To write the general form of the **Moving Average processes of order q**, MA(q) or ARIMA(0,0,q), we are going to introduce the **moving average operator**\n",
    "\n",
    "\\begin{equation}\n",
    "\\alpha(B)=1+\\alpha_1B+\\alpha_2B^2+\\dots\\alpha_qB^q\n",
    "\\end{equation}\n",
    "\n",
    "then the model can be written generally as\n",
    "\n",
    "\\begin{equation}\n",
    "y_t = \\alpha(B)e_t = e_t - \\alpha_1\\,e_{t-1} - \\alpha_2\\,e_{t-2} -\\dots - \\alpha_p\\,e_{t-p}\n",
    "\\end{equation}\n",
    "  \n",
    "in particular, for $q=1$, the model MA(1) or ARIMA(0,0,1) is\n",
    "\n",
    "\\begin{equation}\n",
    "y_t = e_t + \\alpha\\,e_{t-1}\n",
    "\\end{equation}\n",
    "  \n",
    "where the moving averages are lagged forecast errors in the prediction equation. The number $q$ represents the number of terms to be included in the equation (the equation we have written is a case for MA(1). This model MA(1) is a stationary, weakly dependent sequence).\n",
    "  \n",
    "  For our log of the number of passengers we can find the MA(1) model as"
   ]
  },
  {
   "cell_type": "code",
   "execution_count": null,
   "metadata": {
    "id": "4-Q7mLe-hUf-"
   },
   "outputs": [],
   "source": [
    "ma_model = ARIMA(mydata['lpassengers'], order=(0, 0, 1)).fit()  \n",
    "print(ma_model.summary())"
   ]
  },
  {
   "cell_type": "markdown",
   "metadata": {
    "id": "BXkO99C5hUgB"
   },
   "source": [
    "We can plot the previously detrended difference time series with the fitted values of this model to compare the results"
   ]
  },
  {
   "cell_type": "code",
   "execution_count": null,
   "metadata": {
    "id": "Km4ISRzghUgD"
   },
   "outputs": [],
   "source": [
    "plt.plot(difference, color = \"DeepSkyBlue\", label = 'Difference')\n",
    "plt.plot(ma_model.fittedvalues, color='OrangeRed', label = 'MA Fitted')\n",
    "plt.legend(loc = 'best')\n",
    "plt.xlabel('Year', fontsize = 15)\n",
    "plt.title('Detrended Series (MA(1))', fontsize = 20)\n",
    "plt.show()"
   ]
  },
  {
   "cell_type": "markdown",
   "metadata": {
    "id": "d6-2e65YhUgH"
   },
   "source": [
    "from where we see a close behaviour even though different in magnitude"
   ]
  },
  {
   "cell_type": "markdown",
   "metadata": {
    "id": "A5E1f0JahUgI"
   },
   "source": [
    "### AR(p)\n",
    "\n",
    "These **autoregressive processes of order p**, AR(p) or ARIMA(p,0,0), models are written generally as\n",
    "\n",
    "  \\begin{equation}\n",
    "  x_t = \\rho_1 x_{t-1} + \\rho_2 x_{t-2} + \\dots+ \\rho_q x_{t-q} + e_t\n",
    "  \\end{equation}\n",
    "  \n",
    "  and for $p=1$ we have the AR(1) or ARIMA(1,0,0) as\n",
    "  \n",
    "  \\begin{equation}\n",
    "  x_t = \\rho x_{t-1} + e_t\n",
    "  \\end{equation}\n",
    "  \n",
    "  where the autoregressive terms are lags of the dependent variable. The number $p$ represents, again the number of terms to be included in the equation, so the previous is an AR(1) model."
   ]
  },
  {
   "cell_type": "code",
   "execution_count": null,
   "metadata": {
    "id": "p9fW_anIhUgM"
   },
   "outputs": [],
   "source": [
    "ar_model = ARIMA(mydata['lpassengers'], order=(1, 0, 0)).fit()\n",
    "print(ar_model.summary())"
   ]
  },
  {
   "cell_type": "code",
   "execution_count": null,
   "metadata": {
    "id": "SCLtyHHYhUgS"
   },
   "outputs": [],
   "source": [
    "plt.plot(difference, color = \"DeepSkyBlue\", label = 'Difference')\n",
    "plt.plot(ar_model.fittedvalues, color='OrangeRed', label = 'AR Fitted')\n",
    "plt.legend(loc = 'best')\n",
    "plt.xlabel('Year', fontsize = 15)\n",
    "plt.title('Detrended Series (AR(1))', fontsize = 20)\n",
    "plt.show()"
   ]
  },
  {
   "cell_type": "markdown",
   "metadata": {
    "id": "9KuURty_h3gL"
   },
   "source": [
    "If $\\rho=1$ this model is known as a **random walk**"
   ]
  },
  {
   "cell_type": "markdown",
   "metadata": {
    "id": "EX5khNcyhUgV"
   },
   "source": [
    "### ARMA(p,q)\n",
    "\n",
    "With the two pieces we have just seen we may find the **ARMA** model (without the Integrated component), so that ARMA(p,q) is equivalent to ARIMA(p,0,q). For us this would simply mean that we put the integrated value to 0, then"
   ]
  },
  {
   "cell_type": "code",
   "execution_count": null,
   "metadata": {
    "id": "paFnFiVThUgW"
   },
   "outputs": [],
   "source": [
    "arma_model = ARIMA(mydata['lpassengers'], order=(1, 0, 1)).fit()\n",
    "print(arma_model.summary())"
   ]
  },
  {
   "cell_type": "markdown",
   "metadata": {
    "id": "w5fodLvbhUgc"
   },
   "source": [
    "we may see a graphical comparison of the three models"
   ]
  },
  {
   "cell_type": "code",
   "execution_count": null,
   "metadata": {
    "id": "ulZryYdqhUgg"
   },
   "outputs": [],
   "source": [
    "plt.plot(ar_model.fittedvalues, color='blue', label = 'AR(1) model')\n",
    "plt.plot(ma_model.fittedvalues, color='red', label = 'MA(1) model')\n",
    "plt.plot(arma_model.fittedvalues, color='green', label = 'ARMA(1,1) model')\n",
    "\n",
    "plt.title('Comparison of Models', fontsize = 20)\n",
    "plt.xlabel('Year', fontsize = 15)\n",
    "plt.legend(loc = 'best')\n",
    "plt.show()"
   ]
  },
  {
   "cell_type": "markdown",
   "metadata": {
    "id": "hEiCo_u2Nt7S"
   },
   "source": [
    "We see that the three of them give the same behaviour but AR and ARMA are closer to each other. In fact, if the model is AR or ARMA, the ACF does not tell us too much about the dependency. In this case we need to introduce the **Partial Autocorrelation Function**, PACF, defined as\n",
    "\n",
    "\\begin{equation}\n",
    "\\rho_{xy|z} = corr(x - \\hat x, y - \\hat y)\n",
    "\\end{equation}\n",
    "\n",
    "where we compute the correlation between $x$ and $y$ with the linear effect of $z$ removed. note that $\\hat x$ and $\\hat y$ are the regressions of $x$ and $y$ on $z$."
   ]
  },
  {
   "cell_type": "markdown",
   "metadata": {
    "id": "ed-bm6XR6Zww"
   },
   "source": [
    "### ACF and PACF Plots\n",
    "\n",
    "There is a series of plots made from the **Autocorrelation Function** and the **Partial Autocorrelation Function** that will be of help when we want to decide the order of the model. These functions (and the plots) are found for an arbitrary large number of lags. The behaviour of these functions is the following\n",
    "\n",
    "<br>\n",
    "<table>\n",
    "<tr>\n",
    "<th></th><th> AR(p) </th><th> MA(q) </th><th> ARMA(p,q) </th>\n",
    "</tr>\n",
    "<tr>\n",
    "<td> ACF </td><td> Tails Off </td><td> Cuts off after lag q </td><td> Tails off </td>\n",
    "</tr>\n",
    "<tr>\n",
    "<td> PACF </td><td> Cuts off after lag p </td><td> Tails off </td><td> Tails off </td>\n",
    "</tr>\n",
    "</table>\n",
    "<br>"
   ]
  },
  {
   "cell_type": "code",
   "execution_count": null,
   "metadata": {
    "id": "NHvlbAMq7-q0"
   },
   "outputs": [],
   "source": [
    "plt.figure(figsize = (12,6))\n",
    "plt.subplot(211)\n",
    "plot_acf(mydata['lpassengers'], lags = 80, ax = plt.gca())\n",
    "plt.ylabel('ACF')\n",
    "\n",
    "plt.subplot(212)\n",
    "plot_pacf(mydata['lpassengers'], lags = 80, ax = plt.gca())\n",
    "plt.ylabel('PACF')\n",
    "plt.xlabel('Lags', fontsize = 15)\n",
    "\n",
    "plt.tight_layout(rect = (0,0,1,0.94))\n",
    "plt.show()"
   ]
  },
  {
   "cell_type": "markdown",
   "metadata": {
    "id": "d4JgtyM9831E"
   },
   "source": [
    "In these graphs we see that the autocorrelations are significant for a high number of lags (13!!) However, from the PACF we see that probably this is due to propagation of autocorrelation, and only the 2 first lags seem relevant, and then it just cuts off. This seems to imply that a good model is just **AR(1)**!! (plus a difference of order 1, note however, that the MA(1) coefficient in the model was actually relevant)\n",
    "\n",
    "There is, however, a function in the `pmdarima` package that is very helpful since it iterates over all the possible models and tells you which is the optimum one. The instruction would be (Try it!!)\n",
    "\n",
    "```python\n",
    "from pmdarima.arima import auto_arima\n",
    "Arima_model = auto_arima(mydata['lpassengers'], \n",
    "                       start_p=1, \n",
    "                       start_q=1, \n",
    "                       max_p=8, \n",
    "                       max_q=8, \n",
    "                       start_P=0, \n",
    "                       start_Q=0, \n",
    "                       max_P=8, \n",
    "                       max_Q=8, \n",
    "                       m=12, \n",
    "                       seasonal=True, \n",
    "                       trace=True, \n",
    "                       d=1, \n",
    "                       D=1, \n",
    "                       error_action='warn', \n",
    "                       suppress_warnings=True, \n",
    "                       random_state = 20, \n",
    "                       n_fits=30)\n",
    "print(Arima_model.summary())\n",
    "```"
   ]
  },
  {
   "cell_type": "markdown",
   "metadata": {
    "id": "7M7Fh_GHhUgj"
   },
   "source": [
    "### I(d)\n",
    "\n",
    "The **Integrated processes of order d**, I(d) or ARIMA(0, d, 0), is a time series that becomes white noise (pure random process) once it is differentiated $p$ times. It may be written generally as\n",
    "  \n",
    "  \\begin{equation}\n",
    "  (1-B)^dx_t =  e_t\n",
    "  \\end{equation}\n",
    "  \n",
    "  the case of I(1) corresponds to the usual difference time series, since $B$ is the back-shift operator, then\n",
    "  \n",
    "  \\begin{equation}\n",
    "  (1-B)x_t = x_t - x_{t-1} = e_t\n",
    "  \\end{equation}\n",
    "  \n",
    "  this is why we where comparing the different AR, MA and ARMA models with the differences. \n",
    "  \n",
    "Altogether we can write the equation of a general ARIMA(p,q,d) model as\n",
    "\n",
    "\\begin{equation}\n",
    "\\left(1-\\sum_{i=1}^p\\rho_iB^i\\right)(1-B)^d y_t = \\left(1-\\sum_{i=1}^q\\alpha_iB^i\\right)e_t\n",
    "\\end{equation}\n",
    "\n",
    "where we have used the decomposition of the $y_t$ variable only, but we can always add any number of independent variables to the right hand side of this equation.\n",
    "\n",
    "The ARIMA(1,1,1) model for our case before is"
   ]
  },
  {
   "cell_type": "code",
   "execution_count": null,
   "metadata": {
    "id": "9QjKUguxhUgk"
   },
   "outputs": [],
   "source": [
    "arima_model = ARIMA(mydata['lpassengers'], order=(1, 1, 1)).fit()\n",
    "print(arima_model.summary())"
   ]
  },
  {
   "cell_type": "markdown",
   "metadata": {
    "id": "h-K2i9dthUgp"
   },
   "source": [
    "note that the impact of the AR coefficient changes completely (even its sign). Let's write the algebraic equation in view of the coefficients:\n",
    "\n",
    "\\begin{equation}\n",
    "\\text{lpass}_t + 0.4174\\,\\text{lpass}_{t-1} -0.5826\\,\\text{lpass}_{t-2} = 0.0098 + \\hat e_t - 0.8502\\,\\hat e_{t-1}\n",
    "\\end{equation}\n",
    "\n",
    "where we have made $\\rho_1 = -0.5826$, $\\alpha_1=0.8502$ and $p$, $d$ and $q$ equal to 1. We can now represent this model against the difference time series as"
   ]
  },
  {
   "cell_type": "code",
   "execution_count": null,
   "metadata": {
    "id": "9pvoayZEhUgw"
   },
   "outputs": [],
   "source": [
    "plt.plot(difference, color = \"DeepSkyBlue\", label = 'Difference')\n",
    "plt.plot(arima_model.fittedvalues, color='OrangeRed', label = 'ARIMA Fitted')\n",
    "\n",
    "plt.legend(loc = 'best')\n",
    "plt.xlabel('Year', fontsize = 15)\n",
    "plt.title('Detrended Series (ARIMA(1,1,1))', fontsize = 20)\n",
    "\n",
    "plt.show()"
   ]
  },
  {
   "cell_type": "markdown",
   "metadata": {
    "id": "dYwp7ePbhUgz"
   },
   "source": [
    "This is clearly not a close model. Then the usual question that arises is how can we choose the values of $p$, $d$ and $q$. We cannot go into the details since we have not defined in any moment of the course the different **Information Criteria**, but if we write the **Akaike Information Criterion** (AIC) as\n",
    "\n",
    "\\begin{equation}\n",
    "AIC = -2\\log(L) + 2(p+d+q) \n",
    "\\end{equation}\n",
    "\n",
    "where $L$ is the log likelihood of the data, i.e. the logarithm of the probability of the observed data coming from the estimated model. We may choose the values of the iterations by imposing that this quantity is a minimum, i.e.\n",
    "\n",
    "\\begin{equation}\n",
    "(p,d,q) = \\text{argmin}(AIC)\n",
    "\\end{equation}\n",
    "\n",
    "In our case we see that ARIMA(3,1,3) has a lower AIC than ARIMA(1,1,1) and then would be a better model."
   ]
  },
  {
   "cell_type": "code",
   "execution_count": null,
   "metadata": {
    "id": "FPvqm6RVhUg2"
   },
   "outputs": [],
   "source": [
    "arima313_model = ARIMA(mydata['lpassengers'], order=(3,1,3)).fit()\n",
    "print(arima313_model.summary())"
   ]
  },
  {
   "cell_type": "markdown",
   "metadata": {
    "id": "LrY-_4MghUg6"
   },
   "source": [
    "from the plots"
   ]
  },
  {
   "cell_type": "code",
   "execution_count": null,
   "metadata": {
    "id": "7HRaR350hUg-"
   },
   "outputs": [],
   "source": [
    "plt.plot(difference, color = 'SkyBlue', label = 'Difference')\n",
    "plt.plot(arima_model.fittedvalues, color='OrangeRed', label = 'ARIMA(1,1,1)')\n",
    "plt.plot(arima313_model.fittedvalues, color='ForestGreen', label = 'ARIMA(3,1,3)')\n",
    "\n",
    "plt.xlabel('Year', fontsize = 15)\n",
    "plt.legend(loc = 'best')\n",
    "plt.show()"
   ]
  },
  {
   "cell_type": "markdown",
   "metadata": {
    "id": "a7wbBdRAu0c3"
   },
   "source": [
    "we see that, effectively, the ARIMA(3,1,3) is closer to the differences than the ARIMA(1,1,1)."
   ]
  },
  {
   "cell_type": "markdown",
   "metadata": {
    "id": "GtQF2_L4hUhD"
   },
   "source": [
    "### ARIMA Predictions\n",
    "\n",
    "The last graph showed that the model follows reasonably well the detrended model, then we can try to find the predictions of the model in the usual way from the fitted values"
   ]
  },
  {
   "cell_type": "code",
   "execution_count": null,
   "metadata": {
    "id": "DZFLOgPyhUhF"
   },
   "outputs": [],
   "source": [
    "predictions_ARIMA = pd.Series(arima313_model.fittedvalues, copy=True)\n",
    "print(predictions_ARIMA.head())"
   ]
  },
  {
   "cell_type": "markdown",
   "metadata": {
    "id": "s3Y_tBp4hUhK"
   },
   "source": [
    "however, we see that it does not begin exactly in the same time as the original series, but one month later due to the 1-lag we have used in the shift method. Now, to obtain the predictions on the oringal (exponentiated) variable, we can do the following:\n",
    "\n",
    "  * First consider the cumulative sum of the predictions\n",
    "  * Add to the previously defined *lpassengers* variable this cumulative sum\n",
    "  * Take the exponential of this series"
   ]
  },
  {
   "cell_type": "code",
   "execution_count": null,
   "metadata": {
    "id": "BL63VYBqhUhN"
   },
   "outputs": [],
   "source": [
    "predictions_ARIMA_cumsum = predictions_ARIMA.cumsum()\n",
    "predictions_ARIMA_log = pd.Series(mydata['lpassengers'].iloc[0], index = mydata['lpassengers'].index)\n",
    "predictions_ARIMA_log = predictions_ARIMA_log.add(predictions_ARIMA_cumsum, fill_value=0)\n",
    "predictions_ARIMA_log.head()"
   ]
  },
  {
   "cell_type": "code",
   "execution_count": null,
   "metadata": {
    "id": "8lz_9q5UhUhR"
   },
   "outputs": [],
   "source": [
    "predictions_ARIMA = np.exp(predictions_ARIMA_log)\n",
    "plt.plot(mydata['#Passengers'], label = 'Original')\n",
    "plt.plot(predictions_ARIMA, label = 'ARIMA(3,1,3)')\n",
    "\n",
    "plt.xlabel('Year', fontsize = 15)\n",
    "plt.ylabel('Passengers', fontsize = 15)\n",
    "plt.title('Number of Passengers per Year', fontsize = 20)\n",
    "plt.legend(loc = 'best')\n",
    "\n",
    "plt.show()"
   ]
  },
  {
   "cell_type": "markdown",
   "metadata": {
    "id": "Yt-XHgqh4xJ_"
   },
   "source": [
    "We see that the prediction follows the known time series rather closely."
   ]
  },
  {
   "cell_type": "markdown",
   "metadata": {
    "id": "1gTYO1AH4zZT"
   },
   "source": [
    "## SARIMA Models\n",
    "\n",
    "As we have seen, the ARIMA models do not consider the seasonality questions. There is, however, an extension of this model that allow us to consider it: the SARIMA models (Seasonal AutoRegressive Integrated Moving Averages), whose implementation in Python is done with the `SARIMAX` function in `statsmodels`. \n",
    "\n",
    "Now, apart from the usual three parameters $(p,d,q)$ we also have:\n",
    "\n",
    " * **P**: seasonal autoregressive order\n",
    " * **D**: seasonal differences order\n",
    " * **Q**: seasonal moving average order\n",
    " * **m**: the number of steps in one single period\n",
    "\n",
    "The way to decide this parameters follows closely the ACF and PACF arguments, but now it must be done with the deseasonalized series: Then we should find the differences of a shift of 12 in the log transformed variables differences of a shift of 1 (**we leave this as an exercise**). In this case we will use $P=0$, $D=1$, $Q=1$ and $m=12$ in an ARIMA(1,1,1)"
   ]
  },
  {
   "cell_type": "code",
   "execution_count": null,
   "metadata": {
    "id": "lKLqGlxGGiQE"
   },
   "outputs": [],
   "source": [
    "sarima011 = sm.tsa.SARIMAX(mydata['lpassengers'], order = (0,1,1), seasonal_order = (0,1,1,12)).fit()\n",
    "print(sarima011.summary())"
   ]
  },
  {
   "cell_type": "markdown",
   "metadata": {
    "id": "ryEB5gGx1XDM"
   },
   "source": [
    "In this case there is a function to have some relevant plots for the diagnostics of the model: `plot_diagnostics`"
   ]
  },
  {
   "cell_type": "code",
   "execution_count": null,
   "metadata": {
    "id": "SXnT9IMuz3xE"
   },
   "outputs": [],
   "source": [
    "sarima011.plot_diagnostics()\n",
    "plt.tight_layout(rect = (0,0,1,0.94))\n",
    "plt.show()"
   ]
  },
  {
   "cell_type": "markdown",
   "metadata": {
    "id": "XFsUk6u54tYr"
   },
   "source": [
    "From these graphs we see that the residuals of the model behave as they should."
   ]
  },
  {
   "cell_type": "code",
   "execution_count": null,
   "metadata": {
    "id": "lADQ5KMEIXSM"
   },
   "outputs": [],
   "source": [
    "prediction = pd.DataFrame(sarima011.predict(n_periods=185), index = mydata['lpassengers'].index)\n",
    "prediction.columns = ['Number of Passengers']"
   ]
  },
  {
   "cell_type": "code",
   "execution_count": null,
   "metadata": {
    "id": "7ofB9ptG73dC"
   },
   "outputs": [],
   "source": [
    "plt.figure(figsize=(15,10))\n",
    "plt.plot(mydata['#Passengers'], label='Original')\n",
    "plt.plot(np.exp(prediction), label='SARIMA(0,1,1)(0,1,1)12')\n",
    "\n",
    "plt.legend(loc = 'best')\n",
    "plt.show()"
   ]
  },
  {
   "cell_type": "markdown",
   "metadata": {
    "id": "NOCz_Av89KTQ"
   },
   "source": [
    "Apart from the strange prediction in 1950, we see that this model follows very closely the original series. Way better than a pure ARIMA."
   ]
  },
  {
   "cell_type": "markdown",
   "metadata": {
    "id": "2xdoyxNl4qZn"
   },
   "source": [
    "## Facebook's Prophet\n",
    "\n",
    "The first thing we need is the library installed (follow the instructions in their webpage), then we call it as"
   ]
  },
  {
   "cell_type": "code",
   "execution_count": null,
   "metadata": {
    "id": "4UoINxR--jSQ"
   },
   "outputs": [],
   "source": [
    "!pip install fbprophet"
   ]
  },
  {
   "cell_type": "code",
   "execution_count": null,
   "metadata": {
    "id": "ZgBdB9mbhUhV"
   },
   "outputs": [],
   "source": [
    "from fbprophet import Prophet"
   ]
  },
  {
   "cell_type": "markdown",
   "metadata": {
    "id": "WiKCu7m7hUha"
   },
   "source": [
    "Now we create an instance of the Prophet model object"
   ]
  },
  {
   "cell_type": "code",
   "execution_count": null,
   "metadata": {
    "id": "MoJqVJxNhUha"
   },
   "outputs": [],
   "source": [
    "prophet_model = Prophet(interval_width=0.95)"
   ]
  },
  {
   "cell_type": "markdown",
   "metadata": {
    "id": "zM1-dvYNhUhg"
   },
   "source": [
    "and fit it using the original dataset (be careful with not include the column with the log transformed series)"
   ]
  },
  {
   "cell_type": "code",
   "execution_count": null,
   "metadata": {
    "id": "mnOjLZHkhUhh"
   },
   "outputs": [],
   "source": [
    "df = pd.read_csv('/content/mydrive/My Drive/IE Bootcamp - Math & Stats /data/AirPassengers.csv')\n",
    "df['Month'] = pd.DatetimeIndex(df['Month'])\n",
    "\n",
    "df = df.rename(columns = {'Month': 'ds',\n",
    "                          '#Passengers': 'y'})\n",
    "df.head()"
   ]
  },
  {
   "cell_type": "code",
   "execution_count": null,
   "metadata": {
    "id": "hIHQDA0qAGBH"
   },
   "outputs": [],
   "source": [
    "prophet_model.fit(df)"
   ]
  },
  {
   "cell_type": "markdown",
   "metadata": {
    "id": "HyhJWA_lhUhj"
   },
   "source": [
    "the forescast procedure needs a dataframe with a date series where we will store the predictions (mean value and confidence intervals, see that the model has been instanciated with a 95% interval width)"
   ]
  },
  {
   "cell_type": "code",
   "execution_count": null,
   "metadata": {
    "id": "0JjujUuYhUhk"
   },
   "outputs": [],
   "source": [
    "future_dates = prophet_model.make_future_dataframe(periods=12, freq='MS')\n",
    "future_dates.head()"
   ]
  },
  {
   "cell_type": "markdown",
   "metadata": {
    "id": "oDBsIHlZhUhn"
   },
   "source": [
    "Now we can find the predictions of the model in the usual way (predict function)"
   ]
  },
  {
   "cell_type": "code",
   "execution_count": null,
   "metadata": {
    "id": "6Yh8TiOWhUho"
   },
   "outputs": [],
   "source": [
    "forecast = prophet_model.predict(future_dates)\n",
    "forecast[['ds', 'yhat', 'yhat_lower', 'yhat_upper']].head()"
   ]
  },
  {
   "cell_type": "markdown",
   "metadata": {
    "id": "NeyFzJXDhUh0"
   },
   "source": [
    "To see the predictions, we can just make a plot of them"
   ]
  },
  {
   "cell_type": "code",
   "execution_count": null,
   "metadata": {
    "id": "SL-5U74ihUh1"
   },
   "outputs": [],
   "source": [
    "prophet_model.plot(forecast,\n",
    "                   uncertainty=True)"
   ]
  },
  {
   "cell_type": "markdown",
   "metadata": {
    "id": "s4If8qOGhUh4"
   },
   "source": [
    "We could make a joint plot with the original time series, the ARIMA model and the Prophet model in order to compare the performance of both methods"
   ]
  },
  {
   "cell_type": "code",
   "execution_count": null,
   "metadata": {
    "id": "lW-_uuK5A65o"
   },
   "outputs": [],
   "source": [
    "forecast = forecast.set_index('ds')"
   ]
  },
  {
   "cell_type": "code",
   "execution_count": null,
   "metadata": {
    "id": "X618fCSXhUh5"
   },
   "outputs": [],
   "source": [
    "plt.plot(mydata['#Passengers'], label = 'Original')\n",
    "plt.plot(np.exp(prediction), label = 'SARIMA(0,1,1)(0,1,1)12')\n",
    "plt.plot(forecast['yhat'], label = 'Prophet')\n",
    "\n",
    "plt.legend(loc = 'best')\n",
    "plt.show()"
   ]
  },
  {
   "cell_type": "markdown",
   "metadata": {
    "id": "kHnLSt-2MgOy"
   },
   "source": [
    "From the graph we see that both models make a good work in fitting the original data, although the SARIMA is closer to the dataset values."
   ]
  }
 ],
 "metadata": {
  "jupytext": {
   "text_representation": {
    "extension": ".md",
    "format_name": "myst",
    "format_version": 0.12,
    "jupytext_version": "1.9.1"
   }
  },
  "kernelspec": {
   "display_name": "Python 3",
   "language": "python",
   "name": "python3"
  },
  "language_info": {
   "codemirror_mode": {
    "name": "ipython",
    "version": 3
   },
   "file_extension": ".py",
   "mimetype": "text/x-python",
   "name": "python",
   "nbconvert_exporter": "python",
   "pygments_lexer": "ipython3",
   "version": "3.9.1+"
  },
  "source_map": [
   14,
   18,
   25,
   78,
   105,
   128,
   134,
   157,
   161,
   181,
   202,
   222,
   245,
   249,
   273,
   277,
   297,
   301,
   307,
   313,
   319,
   365,
   395,
   422,
   426,
   437,
   441,
   452,
   458,
   465,
   469,
   480,
   484,
   492,
   522,
   528,
   549,
   553,
   583,
   595,
   615,
   627,
   648,
   652,
   672,
   682,
   695,
   706,
   734,
   768,
   774,
   778,
   790,
   807,
   813,
   817,
   831,
   835,
   846,
   850,
   856,
   862,
   866,
   874,
   878,
   903,
   907,
   918,
   936,
   940,
   951,
   957,
   983,
   990,
   994,
   1005,
   1009,
   1027,
   1034,
   1045,
   1049,
   1055,
   1062,
   1066,
   1079,
   1089,
   1109,
   1126,
   1155,
   1183,
   1190,
   1200,
   1213,
   1229,
   1236,
   1240,
   1252,
   1256,
   1262,
   1269,
   1277,
   1286,
   1301,
   1305,
   1320,
   1327,
   1331,
   1339,
   1343,
   1350,
   1361,
   1365,
   1371,
   1377,
   1383,
   1387,
   1393,
   1397,
   1408,
   1414,
   1418,
   1425,
   1429,
   1436,
   1440,
   1447,
   1451,
   1457,
   1468
  ]
 },
 "nbformat": 4,
 "nbformat_minor": 4
}