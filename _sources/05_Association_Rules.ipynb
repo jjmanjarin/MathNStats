{
 "cells": [
  {
   "cell_type": "markdown",
   "metadata": {
    "id": "3urCWef6f683"
   },
   "source": [
    "# <font color = \"0061c7\">Association Rules </font>\n",
    "\n",
    "**Association Rule Mining** is a case of **Unsupervised Learning** where we look for probabilities of joint events. Here we look for frequent patterns, associations or correlations among the items of a set in transaction databases. The idea is to understand customer habits by finding the links between the objects in their “shopping baskets” although this is not the only possible application: cross-marketing, catalog design, fraud detecion or medical treatments are some of the possibilities\n",
    "\n",
    "In the **Basket Market Data Analysis**, given a dataset of customer transactions we find groups of items which are frequently purchased together. Usually justified with the mythical example of “beers and diapers”. A rule, in this context is an **implication**: A → B, read as “If A then B”, where A is the **antecedent** and B the **consequent** through the computation of different sets of probabilities."
   ]
  },
  {
   "cell_type": "markdown",
   "metadata": {
    "id": "iIwnnRLpf69B"
   },
   "source": [
    "## <font color = \"4587cd\"> Apriori algorithm </font>\n",
    "\n",
    "This algorithm let us simplify the computation of the association rules. The main idea is to use a threshold in different stages by assuming that all subsets of a frequent item set must be frequent and, therefore, that for any infrequent item, all its supersubsets must be infrequent.\n",
    "\n",
    "Through the algorithm we will compute the different probabilities of all the combinations of different items in all the different transactions. Note that during the algorithm we are not interested on the number of items contained in each\n",
    "transaction, but only on whether it occurs or not. This implies that at any point of the process we need to turn the dataset into a binary or binary logical set."
   ]
  },
  {
   "cell_type": "markdown",
   "metadata": {
    "id": "8l-nQgeBf69G"
   },
   "source": [
    "## <font color = \"4587cd\">Important Metrics</font>"
   ]
  },
  {
   "cell_type": "markdown",
   "metadata": {
    "id": "ucwQdykVf69J"
   },
   "source": [
    "### <font color = \"red\">Support</font>\n",
    "\n",
    "The **Support**, T(B), is the probability of a given event, either individual or joint in the set of transactions. The support of the antecedent is known as **coverage**\n",
    "\n",
    "\\begin{equation}\n",
    "cov(A) = T(A) = P(A)\n",
    "\\end{equation}\n",
    "\n",
    "The support of a rule is given by the probability of the **intersection**\n",
    "\n",
    "\\begin{equation}\n",
    "T(A \\to B) = P(A \\cap B)\n",
    "\\end{equation}\n",
    "\n",
    " * It reflects the **popularity** of an item or of a rule\n",
    " * We will consider support **thresholds**, implying the minimum proportion to be significant in the set of transactions\n",
    " * Sometimes you will see it written as $P(A \\cup B)$ which is not formally right"
   ]
  },
  {
   "cell_type": "markdown",
   "metadata": {
    "id": "gtTi2lt3f69M"
   },
   "source": [
    "### <font color = \"red\">Confidence</font>\n",
    "\n",
    "The **Confidence**, $C(A \\to B)$ is an estimation of the conditional probability\n",
    "\n",
    "\\begin{equation}\n",
    "C(A \\to B) = \\frac{T(A \\to B)}{T(A)} = \\frac{P(A\\cap B)}{P(A)} = P(B|A)\n",
    "\\end{equation}\n",
    "\n",
    " * We will also consider confidence thresholds as minimum values of likeliness of a rule\n",
    " * Sometimes you will see it as $P(A \\cup B)/P(A)$, which is formally wrong\n",
    " * Since it only considers the popularity of item A, then if both, A and B, are more or less equally likely or the consequent is more likely, this confidence will be very high and does not give a reliable value"
   ]
  },
  {
   "cell_type": "markdown",
   "metadata": {
    "id": "mj_TkXiOf69Q"
   },
   "source": [
    "### <font color = \"red\">Lift</font>\n",
    "\n",
    "The **Lift**, $L(A \\to B)$ is a measure of the independency of the items in a transaction\n",
    "\n",
    "\\begin{equation}\n",
    "L(A \\to B) = \\frac{C(A \\to B)}{T(B)} = \\frac{P(A \\cap B)}{P(A) \\cdot P(B)}\n",
    "\\end{equation}\n",
    "\n",
    " * It focuses in **less frequent** terms, since the denominator makes the value more sensitive to items with a low coverage.\n",
    " * It ranges in $[0,\\infty)$, where $\\infty$ is probably never obtained\n",
    " * If it is 1 it suggest **no association** between the items \n",
    " * If it is greater than 1 it means that item B is likely to be bought if A is bought (**Positive correlation**).\n",
    " * If it is smaller than 1 it means that item B is not likely to be bought if A is bought (**Negative correlation**). In short this implies that one item is a substitute of the other."
   ]
  },
  {
   "cell_type": "markdown",
   "metadata": {
    "id": "-Slok7Aqf69S"
   },
   "source": [
    "### <font color = \"red\">Leverage</font>\n",
    "\n",
    "The **Leverage**, $Lev(A \\to B)$ is another measure of the independency of the items\n",
    "\n",
    "\\begin{equation}\n",
    "Lev(A \\to B) = T(A \\to B) − T(A) \\cdot T(B) = P(A \\cap B) − P(A) \\cdot P(B)\n",
    "\\end{equation}\n",
    "\n",
    " * It is the difference between the probability of the rule and the expected probability if the items where independent\n",
    " * If **lift** finds strong associations for **less frequent** terms, **leverage** priorizes items with **high support** in the dataset\n",
    " * It ranges between [−1, 1], but it can never be greater than the support\n",
    " * If it is 0 it suggest **no association** between the items \n",
    " * If it is greater than 0 it means that item B is likely to be bought if A is bought (**Positive correlation**).\n",
    " * If it is smaller than 0 it means that item B is not likely to be bought if A is bought (**Negative correlation**)."
   ]
  },
  {
   "cell_type": "markdown",
   "metadata": {
    "id": "B1e2mslvf69W"
   },
   "source": [
    "### <font color = \"red\">Conviction</font>\n",
    "\n",
    "The **Conviction**, $L(A \\to B)$ is the rate between the expected error rate assuming independency and the observed error rate\n",
    "\n",
    "\\begin{equation}\n",
    "L(A \\to B) = \\frac{1 − T(B)}{1 − C(A \\to B)} = \\frac{P(A) \\cdot P(B)}{P(A) − P(A\\cap B)}\n",
    "\\end{equation}\n",
    "\n",
    " * It is an unbounded quantity: runs in $[0,\\infty)$\n",
    " * If it is 1, it implies that the measured error rate equals the expected error rate if the items are independent, then we take the items as independent and so, **unrelated**\n",
    " * Values $>1$ indicate that the error when we consider the items as independent is greater than the expected error, then the higher the value the greater the strength of the association.\n",
    "\n",
    "For example, a value of 1.5 implies that the rule $A\\to B$ would be incorrect 1.5 times more often if the association between $A$ and $B$ was purely random chance"
   ]
  },
  {
   "cell_type": "markdown",
   "metadata": {
    "id": "y4HpyXDLf69Y"
   },
   "source": [
    "## <font color = \"4587cd\">Case Study</font>\n",
    "\n",
    "Let's import the needed libraries"
   ]
  },
  {
   "cell_type": "code",
   "execution_count": 1,
   "metadata": {
    "executionInfo": {
     "elapsed": 1634,
     "status": "ok",
     "timestamp": 1605699521844,
     "user": {
      "displayName": "Juan Jose Manjarin",
      "photoUrl": "https://lh3.googleusercontent.com/a-/AOh14GgROm1G9L6BfG7PCIlE0tJxJJ2QITgE4QN52iI2=s64",
      "userId": "04910883006985787828"
     },
     "user_tz": -60
    },
    "id": "4aS-noGmf69a"
   },
   "outputs": [],
   "source": [
    "import numpy as np\n",
    "import pandas as pd\n",
    "\n",
    "from mlxtend.frequent_patterns import apriori\n",
    "from mlxtend.frequent_patterns import association_rules\n",
    "from mlxtend.preprocessing import TransactionEncoder"
   ]
  },
  {
   "cell_type": "markdown",
   "metadata": {
    "id": "3RwMfNrMf69i"
   },
   "source": [
    "The **apriori** algorithm as well as the **association rules** are contained in the so-called modules of `mlxtend.frequent_patterns`. Let's see how to find the association rules given a set of transactions."
   ]
  },
  {
   "cell_type": "markdown",
   "metadata": {
    "id": "z2bOjzJyaSy3"
   },
   "source": [
    "### <font color = \"red\"> First Approach </font>\n",
    "\n",
    "In this case we are going to store the dataset in a **multidimensional list** in which each of the arrays corresponds to one of the transactions"
   ]
  },
  {
   "cell_type": "code",
   "execution_count": 2,
   "metadata": {
    "id": "QUAwtPeJf69m"
   },
   "outputs": [],
   "source": [
    "transactions = [['Bread','Milk','Butter','Jam','Biscuits'],\n",
    "                ['Bread', 'Milk', 'Beer', 'Chips'],\n",
    "                ['Jam', 'Soda', 'Milk'],\n",
    "                ['Soda', 'Chips', 'Beer'],\n",
    "                ['Chips', 'Bread', 'Beer', 'Milk'],\n",
    "                ['Jam', 'Beer', 'Soda', 'Milk']]"
   ]
  },
  {
   "cell_type": "markdown",
   "metadata": {
    "id": "nR9sHHo2f69s"
   },
   "source": [
    "now we use the `TransactionEncoder` function. The idea is that we first need to instanciate the object (allocate it in memory) in order to use it later."
   ]
  },
  {
   "cell_type": "code",
   "execution_count": 3,
   "metadata": {
    "id": "UR7uU-1Yf69v"
   },
   "outputs": [],
   "source": [
    "te = TransactionEncoder()"
   ]
  },
  {
   "cell_type": "markdown",
   "metadata": {
    "id": "QGiWqiAif690"
   },
   "source": [
    "Now we apply this encoder to our list of transactions by first fitting and then transforming"
   ]
  },
  {
   "cell_type": "code",
   "execution_count": 4,
   "metadata": {
    "colab": {
     "base_uri": "https://localhost:8080/",
     "height": 126
    },
    "executionInfo": {
     "elapsed": 1516,
     "status": "ok",
     "timestamp": 1601020339799,
     "user": {
      "displayName": "Juan Jose Manjarin",
      "photoUrl": "",
      "userId": "04910883006985787828"
     },
     "user_tz": -120
    },
    "id": "bu2jwAqXf692",
    "outputId": "c0f61694-1e6c-4f28-c710-e2897e31b801"
   },
   "outputs": [
    {
     "data": {
      "text/plain": [
       "array([[False,  True,  True,  True, False,  True,  True, False],\n",
       "       [ True, False,  True, False,  True, False,  True, False],\n",
       "       [False, False, False, False, False,  True,  True,  True],\n",
       "       [ True, False, False, False,  True, False, False,  True],\n",
       "       [ True, False,  True, False,  True, False,  True, False],\n",
       "       [ True, False, False, False, False,  True,  True,  True]])"
      ]
     },
     "execution_count": 4,
     "metadata": {},
     "output_type": "execute_result"
    }
   ],
   "source": [
    "te_ary = te.fit(transactions).transform(transactions)\n",
    "te_ary"
   ]
  },
  {
   "cell_type": "markdown",
   "metadata": {
    "id": "CZHQ5yoVf69-"
   },
   "source": [
    "This methods transform the information into a logical set of arrays where *True* implies that the object is in the transaction and *False* otherwise. Now, let's create the dataframe with these encoded transactions"
   ]
  },
  {
   "cell_type": "code",
   "execution_count": 5,
   "metadata": {
    "colab": {
     "base_uri": "https://localhost:8080/",
     "height": 237
    },
    "executionInfo": {
     "elapsed": 2552,
     "status": "ok",
     "timestamp": 1601020355660,
     "user": {
      "displayName": "Juan Jose Manjarin",
      "photoUrl": "",
      "userId": "04910883006985787828"
     },
     "user_tz": -120
    },
    "id": "AEiyblGsf69_",
    "outputId": "a75d89b9-d7a4-4c3a-9b5e-02088c7219dd"
   },
   "outputs": [
    {
     "data": {
      "text/html": [
       "<div>\n",
       "<style scoped>\n",
       "    .dataframe tbody tr th:only-of-type {\n",
       "        vertical-align: middle;\n",
       "    }\n",
       "\n",
       "    .dataframe tbody tr th {\n",
       "        vertical-align: top;\n",
       "    }\n",
       "\n",
       "    .dataframe thead th {\n",
       "        text-align: right;\n",
       "    }\n",
       "</style>\n",
       "<table border=\"1\" class=\"dataframe\">\n",
       "  <thead>\n",
       "    <tr style=\"text-align: right;\">\n",
       "      <th></th>\n",
       "      <th>Beer</th>\n",
       "      <th>Biscuits</th>\n",
       "      <th>Bread</th>\n",
       "      <th>Butter</th>\n",
       "      <th>Chips</th>\n",
       "      <th>Jam</th>\n",
       "      <th>Milk</th>\n",
       "      <th>Soda</th>\n",
       "    </tr>\n",
       "  </thead>\n",
       "  <tbody>\n",
       "    <tr>\n",
       "      <th>0</th>\n",
       "      <td>False</td>\n",
       "      <td>True</td>\n",
       "      <td>True</td>\n",
       "      <td>True</td>\n",
       "      <td>False</td>\n",
       "      <td>True</td>\n",
       "      <td>True</td>\n",
       "      <td>False</td>\n",
       "    </tr>\n",
       "    <tr>\n",
       "      <th>1</th>\n",
       "      <td>True</td>\n",
       "      <td>False</td>\n",
       "      <td>True</td>\n",
       "      <td>False</td>\n",
       "      <td>True</td>\n",
       "      <td>False</td>\n",
       "      <td>True</td>\n",
       "      <td>False</td>\n",
       "    </tr>\n",
       "    <tr>\n",
       "      <th>2</th>\n",
       "      <td>False</td>\n",
       "      <td>False</td>\n",
       "      <td>False</td>\n",
       "      <td>False</td>\n",
       "      <td>False</td>\n",
       "      <td>True</td>\n",
       "      <td>True</td>\n",
       "      <td>True</td>\n",
       "    </tr>\n",
       "    <tr>\n",
       "      <th>3</th>\n",
       "      <td>True</td>\n",
       "      <td>False</td>\n",
       "      <td>False</td>\n",
       "      <td>False</td>\n",
       "      <td>True</td>\n",
       "      <td>False</td>\n",
       "      <td>False</td>\n",
       "      <td>True</td>\n",
       "    </tr>\n",
       "    <tr>\n",
       "      <th>4</th>\n",
       "      <td>True</td>\n",
       "      <td>False</td>\n",
       "      <td>True</td>\n",
       "      <td>False</td>\n",
       "      <td>True</td>\n",
       "      <td>False</td>\n",
       "      <td>True</td>\n",
       "      <td>False</td>\n",
       "    </tr>\n",
       "    <tr>\n",
       "      <th>5</th>\n",
       "      <td>True</td>\n",
       "      <td>False</td>\n",
       "      <td>False</td>\n",
       "      <td>False</td>\n",
       "      <td>False</td>\n",
       "      <td>True</td>\n",
       "      <td>True</td>\n",
       "      <td>True</td>\n",
       "    </tr>\n",
       "  </tbody>\n",
       "</table>\n",
       "</div>"
      ],
      "text/plain": [
       "    Beer  Biscuits  Bread  Butter  Chips    Jam   Milk   Soda\n",
       "0  False      True   True    True  False   True   True  False\n",
       "1   True     False   True   False   True  False   True  False\n",
       "2  False     False  False   False  False   True   True   True\n",
       "3   True     False  False   False   True  False  False   True\n",
       "4   True     False   True   False   True  False   True  False\n",
       "5   True     False  False   False  False   True   True   True"
      ]
     },
     "execution_count": 5,
     "metadata": {},
     "output_type": "execute_result"
    }
   ],
   "source": [
    "dataset = pd.DataFrame(te_ary, columns = te.columns_)\n",
    "dataset"
   ]
  },
  {
   "cell_type": "markdown",
   "metadata": {
    "id": "_d-B8Igdf6-H"
   },
   "source": [
    "It is to this dataframe where we apply the `apriori` algorithm, then"
   ]
  },
  {
   "cell_type": "code",
   "execution_count": 6,
   "metadata": {
    "colab": {
     "base_uri": "https://localhost:8080/",
     "height": 206
    },
    "executionInfo": {
     "elapsed": 1056,
     "status": "ok",
     "timestamp": 1601020382248,
     "user": {
      "displayName": "Juan Jose Manjarin",
      "photoUrl": "",
      "userId": "04910883006985787828"
     },
     "user_tz": -120
    },
    "id": "4FLQxGLcf6-I",
    "outputId": "7de6816f-5c8e-4d21-8466-e152d47c2a06"
   },
   "outputs": [
    {
     "data": {
      "text/html": [
       "<div>\n",
       "<style scoped>\n",
       "    .dataframe tbody tr th:only-of-type {\n",
       "        vertical-align: middle;\n",
       "    }\n",
       "\n",
       "    .dataframe tbody tr th {\n",
       "        vertical-align: top;\n",
       "    }\n",
       "\n",
       "    .dataframe thead th {\n",
       "        text-align: right;\n",
       "    }\n",
       "</style>\n",
       "<table border=\"1\" class=\"dataframe\">\n",
       "  <thead>\n",
       "    <tr style=\"text-align: right;\">\n",
       "      <th></th>\n",
       "      <th>support</th>\n",
       "      <th>itemsets</th>\n",
       "    </tr>\n",
       "  </thead>\n",
       "  <tbody>\n",
       "    <tr>\n",
       "      <th>0</th>\n",
       "      <td>0.666667</td>\n",
       "      <td>(Beer)</td>\n",
       "    </tr>\n",
       "    <tr>\n",
       "      <th>1</th>\n",
       "      <td>0.166667</td>\n",
       "      <td>(Biscuits)</td>\n",
       "    </tr>\n",
       "    <tr>\n",
       "      <th>2</th>\n",
       "      <td>0.500000</td>\n",
       "      <td>(Bread)</td>\n",
       "    </tr>\n",
       "    <tr>\n",
       "      <th>3</th>\n",
       "      <td>0.166667</td>\n",
       "      <td>(Butter)</td>\n",
       "    </tr>\n",
       "    <tr>\n",
       "      <th>4</th>\n",
       "      <td>0.500000</td>\n",
       "      <td>(Chips)</td>\n",
       "    </tr>\n",
       "  </tbody>\n",
       "</table>\n",
       "</div>"
      ],
      "text/plain": [
       "    support    itemsets\n",
       "0  0.666667      (Beer)\n",
       "1  0.166667  (Biscuits)\n",
       "2  0.500000     (Bread)\n",
       "3  0.166667    (Butter)\n",
       "4  0.500000     (Chips)"
      ]
     },
     "execution_count": 6,
     "metadata": {},
     "output_type": "execute_result"
    }
   ],
   "source": [
    "frequent_itemsets = apriori(dataset, min_support = 0.01, use_colnames = True)\n",
    "frequent_itemsets.head()"
   ]
  },
  {
   "cell_type": "markdown",
   "metadata": {
    "id": "3zN3xQASf6-R"
   },
   "source": [
    "which returns the probabilities of all the different intersections of the possible events. Now we find the `association_rules` by imposing a minimum value for one of the metrics, usually **support**"
   ]
  },
  {
   "cell_type": "code",
   "execution_count": 7,
   "metadata": {
    "colab": {
     "base_uri": "https://localhost:8080/",
     "height": 300
    },
    "executionInfo": {
     "elapsed": 1230,
     "status": "ok",
     "timestamp": 1601020420620,
     "user": {
      "displayName": "Juan Jose Manjarin",
      "photoUrl": "",
      "userId": "04910883006985787828"
     },
     "user_tz": -120
    },
    "id": "TNRn5EFXf6-X",
    "outputId": "1d65019a-d8f5-4814-a185-7519b1933657"
   },
   "outputs": [
    {
     "data": {
      "text/html": [
       "<div>\n",
       "<style scoped>\n",
       "    .dataframe tbody tr th:only-of-type {\n",
       "        vertical-align: middle;\n",
       "    }\n",
       "\n",
       "    .dataframe tbody tr th {\n",
       "        vertical-align: top;\n",
       "    }\n",
       "\n",
       "    .dataframe thead th {\n",
       "        text-align: right;\n",
       "    }\n",
       "</style>\n",
       "<table border=\"1\" class=\"dataframe\">\n",
       "  <thead>\n",
       "    <tr style=\"text-align: right;\">\n",
       "      <th></th>\n",
       "      <th>antecedents</th>\n",
       "      <th>consequents</th>\n",
       "      <th>antecedent support</th>\n",
       "      <th>consequent support</th>\n",
       "      <th>support</th>\n",
       "      <th>confidence</th>\n",
       "      <th>lift</th>\n",
       "      <th>leverage</th>\n",
       "      <th>conviction</th>\n",
       "    </tr>\n",
       "  </thead>\n",
       "  <tbody>\n",
       "    <tr>\n",
       "      <th>0</th>\n",
       "      <td>(Chips)</td>\n",
       "      <td>(Beer)</td>\n",
       "      <td>0.500000</td>\n",
       "      <td>0.666667</td>\n",
       "      <td>0.5</td>\n",
       "      <td>1.00</td>\n",
       "      <td>1.5</td>\n",
       "      <td>0.166667</td>\n",
       "      <td>inf</td>\n",
       "    </tr>\n",
       "    <tr>\n",
       "      <th>1</th>\n",
       "      <td>(Beer)</td>\n",
       "      <td>(Chips)</td>\n",
       "      <td>0.666667</td>\n",
       "      <td>0.500000</td>\n",
       "      <td>0.5</td>\n",
       "      <td>0.75</td>\n",
       "      <td>1.5</td>\n",
       "      <td>0.166667</td>\n",
       "      <td>2.000000</td>\n",
       "    </tr>\n",
       "    <tr>\n",
       "      <th>2</th>\n",
       "      <td>(Milk)</td>\n",
       "      <td>(Beer)</td>\n",
       "      <td>0.833333</td>\n",
       "      <td>0.666667</td>\n",
       "      <td>0.5</td>\n",
       "      <td>0.60</td>\n",
       "      <td>0.9</td>\n",
       "      <td>-0.055556</td>\n",
       "      <td>0.833333</td>\n",
       "    </tr>\n",
       "    <tr>\n",
       "      <th>3</th>\n",
       "      <td>(Beer)</td>\n",
       "      <td>(Milk)</td>\n",
       "      <td>0.666667</td>\n",
       "      <td>0.833333</td>\n",
       "      <td>0.5</td>\n",
       "      <td>0.75</td>\n",
       "      <td>0.9</td>\n",
       "      <td>-0.055556</td>\n",
       "      <td>0.666667</td>\n",
       "    </tr>\n",
       "    <tr>\n",
       "      <th>4</th>\n",
       "      <td>(Milk)</td>\n",
       "      <td>(Bread)</td>\n",
       "      <td>0.833333</td>\n",
       "      <td>0.500000</td>\n",
       "      <td>0.5</td>\n",
       "      <td>0.60</td>\n",
       "      <td>1.2</td>\n",
       "      <td>0.083333</td>\n",
       "      <td>1.250000</td>\n",
       "    </tr>\n",
       "    <tr>\n",
       "      <th>5</th>\n",
       "      <td>(Bread)</td>\n",
       "      <td>(Milk)</td>\n",
       "      <td>0.500000</td>\n",
       "      <td>0.833333</td>\n",
       "      <td>0.5</td>\n",
       "      <td>1.00</td>\n",
       "      <td>1.2</td>\n",
       "      <td>0.083333</td>\n",
       "      <td>inf</td>\n",
       "    </tr>\n",
       "    <tr>\n",
       "      <th>6</th>\n",
       "      <td>(Jam)</td>\n",
       "      <td>(Milk)</td>\n",
       "      <td>0.500000</td>\n",
       "      <td>0.833333</td>\n",
       "      <td>0.5</td>\n",
       "      <td>1.00</td>\n",
       "      <td>1.2</td>\n",
       "      <td>0.083333</td>\n",
       "      <td>inf</td>\n",
       "    </tr>\n",
       "    <tr>\n",
       "      <th>7</th>\n",
       "      <td>(Milk)</td>\n",
       "      <td>(Jam)</td>\n",
       "      <td>0.833333</td>\n",
       "      <td>0.500000</td>\n",
       "      <td>0.5</td>\n",
       "      <td>0.60</td>\n",
       "      <td>1.2</td>\n",
       "      <td>0.083333</td>\n",
       "      <td>1.250000</td>\n",
       "    </tr>\n",
       "  </tbody>\n",
       "</table>\n",
       "</div>"
      ],
      "text/plain": [
       "  antecedents consequents  antecedent support  consequent support  support  \\\n",
       "0     (Chips)      (Beer)            0.500000            0.666667      0.5   \n",
       "1      (Beer)     (Chips)            0.666667            0.500000      0.5   \n",
       "2      (Milk)      (Beer)            0.833333            0.666667      0.5   \n",
       "3      (Beer)      (Milk)            0.666667            0.833333      0.5   \n",
       "4      (Milk)     (Bread)            0.833333            0.500000      0.5   \n",
       "5     (Bread)      (Milk)            0.500000            0.833333      0.5   \n",
       "6       (Jam)      (Milk)            0.500000            0.833333      0.5   \n",
       "7      (Milk)       (Jam)            0.833333            0.500000      0.5   \n",
       "\n",
       "   confidence  lift  leverage  conviction  \n",
       "0        1.00   1.5  0.166667         inf  \n",
       "1        0.75   1.5  0.166667    2.000000  \n",
       "2        0.60   0.9 -0.055556    0.833333  \n",
       "3        0.75   0.9 -0.055556    0.666667  \n",
       "4        0.60   1.2  0.083333    1.250000  \n",
       "5        1.00   1.2  0.083333         inf  \n",
       "6        1.00   1.2  0.083333         inf  \n",
       "7        0.60   1.2  0.083333    1.250000  "
      ]
     },
     "execution_count": 7,
     "metadata": {},
     "output_type": "execute_result"
    }
   ],
   "source": [
    "association_rules(frequent_itemsets, metric = 'support', min_threshold = 0.5)"
   ]
  },
  {
   "cell_type": "markdown",
   "metadata": {
    "id": "E6PZn0d1f6-h"
   },
   "source": [
    "Let's interpret one of the rules in this table, for example the one for \n",
    "\n",
    "\\begin{equation}\n",
    "\\text{Beer} \\to \\text{Chips}\n",
    "\\end{equation}\n",
    "\n",
    "has as values\n",
    "\n",
    "<br>\n",
    "\n",
    "| Antecedent | Consequent | Support | Confidence | Lift | Leverage | Conviction |\n",
    "|:----------:|:----------:|:-------:|:----------:|:----:|:--------:|:----------:|\n",
    "| 0.67 | 0.50 | 0.50 | 0.75 | 1.5 | 0.17 | 2.00 | \n",
    "\n",
    "<br>\n",
    "\n",
    " * **Support**: The rule appears in 50% of the transactions\n",
    " * **Confidence**: The probability that in any transaction someone buys CHIPS if they have already bought BEERS is the 75%\n",
    " * **Lift**: Since it is 1.5, i.e. positive, the goods are not independent and it is likely that when customers buy one, they buy the other\n",
    " * **Leverage**: Since leverage ranges from -1 to 1, a value of 0.17 indicates a weak positive association between the items\n",
    " * **Conviction**: A value of 2.00 means that the rule would return the double of wrong predictions if the association rule was purely due to random chance"
   ]
  },
  {
   "cell_type": "markdown",
   "metadata": {
    "id": "8F6hbOk4akY5"
   },
   "source": [
    "### <font color = \"red\"> Second Approach </font>\n",
    "\n",
    "Usually, the transactions do not come as a list of different transactions but in a slightly different form, consider the following dataframe for the same set of transactions as in the previous analysis"
   ]
  },
  {
   "cell_type": "code",
   "execution_count": 8,
   "metadata": {
    "colab": {
     "base_uri": "https://localhost:8080/",
     "height": 206
    },
    "executionInfo": {
     "elapsed": 977,
     "status": "ok",
     "timestamp": 1605700667298,
     "user": {
      "displayName": "Juan Jose Manjarin",
      "photoUrl": "https://lh3.googleusercontent.com/a-/AOh14GgROm1G9L6BfG7PCIlE0tJxJJ2QITgE4QN52iI2=s64",
      "userId": "04910883006985787828"
     },
     "user_tz": -60
    },
    "id": "Am1Dychrf6-j",
    "outputId": "33f067ec-abbf-47a3-b74f-cd53533d7ab5"
   },
   "outputs": [
    {
     "data": {
      "text/html": [
       "<div>\n",
       "<style scoped>\n",
       "    .dataframe tbody tr th:only-of-type {\n",
       "        vertical-align: middle;\n",
       "    }\n",
       "\n",
       "    .dataframe tbody tr th {\n",
       "        vertical-align: top;\n",
       "    }\n",
       "\n",
       "    .dataframe thead th {\n",
       "        text-align: right;\n",
       "    }\n",
       "</style>\n",
       "<table border=\"1\" class=\"dataframe\">\n",
       "  <thead>\n",
       "    <tr style=\"text-align: right;\">\n",
       "      <th></th>\n",
       "      <th>InvoiceNo</th>\n",
       "      <th>Description</th>\n",
       "      <th>Quantity</th>\n",
       "    </tr>\n",
       "  </thead>\n",
       "  <tbody>\n",
       "    <tr>\n",
       "      <th>0</th>\n",
       "      <td>1</td>\n",
       "      <td>Bread</td>\n",
       "      <td>2</td>\n",
       "    </tr>\n",
       "    <tr>\n",
       "      <th>1</th>\n",
       "      <td>1</td>\n",
       "      <td>Milk</td>\n",
       "      <td>3</td>\n",
       "    </tr>\n",
       "    <tr>\n",
       "      <th>2</th>\n",
       "      <td>1</td>\n",
       "      <td>Butter</td>\n",
       "      <td>1</td>\n",
       "    </tr>\n",
       "    <tr>\n",
       "      <th>3</th>\n",
       "      <td>1</td>\n",
       "      <td>Jam</td>\n",
       "      <td>2</td>\n",
       "    </tr>\n",
       "    <tr>\n",
       "      <th>4</th>\n",
       "      <td>1</td>\n",
       "      <td>Biscuits</td>\n",
       "      <td>3</td>\n",
       "    </tr>\n",
       "  </tbody>\n",
       "</table>\n",
       "</div>"
      ],
      "text/plain": [
       "   InvoiceNo Description  Quantity\n",
       "0          1       Bread         2\n",
       "1          1        Milk         3\n",
       "2          1      Butter         1\n",
       "3          1         Jam         2\n",
       "4          1    Biscuits         3"
      ]
     },
     "execution_count": 8,
     "metadata": {},
     "output_type": "execute_result"
    }
   ],
   "source": [
    "trans_df = pd.DataFrame({'InvoiceNo': [1,1,1,1,1,2,2,2,2,3,3,3,4,4,4,5,5,5,5,6,6,6,6],\n",
    "                         'Description': ['Bread','Milk','Butter','Jam','Biscuits',\n",
    "                                         'Bread', 'Milk', 'Beer', 'Chips',\n",
    "                                         'Jam', 'Soda', 'Milk',\n",
    "                                         'Soda', 'Chips', 'Beer',\n",
    "                                         'Chips', 'Bread', 'Beer', 'Milk',\n",
    "                                         'Jam', 'Beer', 'Soda', 'Milk'],\n",
    "                         'Quantity': [2,3,1,2,3,1,1,5,4,1,5,2,1,2,3,1,3,4,4,2,2,1,1]})\n",
    "trans_df.head()"
   ]
  },
  {
   "cell_type": "markdown",
   "metadata": {
    "id": "hCdL0fmTf6-p"
   },
   "source": [
    "the following code let us take if and turn into a dataframe similar to the previous `dataset`"
   ]
  },
  {
   "cell_type": "code",
   "execution_count": 9,
   "metadata": {
    "colab": {
     "base_uri": "https://localhost:8080/",
     "height": 269
    },
    "executionInfo": {
     "elapsed": 901,
     "status": "ok",
     "timestamp": 1605700974218,
     "user": {
      "displayName": "Juan Jose Manjarin",
      "photoUrl": "https://lh3.googleusercontent.com/a-/AOh14GgROm1G9L6BfG7PCIlE0tJxJJ2QITgE4QN52iI2=s64",
      "userId": "04910883006985787828"
     },
     "user_tz": -60
    },
    "id": "bJJp4560f6-s",
    "outputId": "a5619452-8b6c-48ed-b564-cee91212db42"
   },
   "outputs": [
    {
     "data": {
      "text/html": [
       "<div>\n",
       "<style scoped>\n",
       "    .dataframe tbody tr th:only-of-type {\n",
       "        vertical-align: middle;\n",
       "    }\n",
       "\n",
       "    .dataframe tbody tr th {\n",
       "        vertical-align: top;\n",
       "    }\n",
       "\n",
       "    .dataframe thead th {\n",
       "        text-align: right;\n",
       "    }\n",
       "</style>\n",
       "<table border=\"1\" class=\"dataframe\">\n",
       "  <thead>\n",
       "    <tr style=\"text-align: right;\">\n",
       "      <th>Description</th>\n",
       "      <th>Beer</th>\n",
       "      <th>Biscuits</th>\n",
       "      <th>Bread</th>\n",
       "      <th>Butter</th>\n",
       "      <th>Chips</th>\n",
       "      <th>Jam</th>\n",
       "      <th>Milk</th>\n",
       "      <th>Soda</th>\n",
       "    </tr>\n",
       "    <tr>\n",
       "      <th>InvoiceNo</th>\n",
       "      <th></th>\n",
       "      <th></th>\n",
       "      <th></th>\n",
       "      <th></th>\n",
       "      <th></th>\n",
       "      <th></th>\n",
       "      <th></th>\n",
       "      <th></th>\n",
       "    </tr>\n",
       "  </thead>\n",
       "  <tbody>\n",
       "    <tr>\n",
       "      <th>1</th>\n",
       "      <td>0.0</td>\n",
       "      <td>3.0</td>\n",
       "      <td>2.0</td>\n",
       "      <td>1.0</td>\n",
       "      <td>0.0</td>\n",
       "      <td>2.0</td>\n",
       "      <td>3.0</td>\n",
       "      <td>0.0</td>\n",
       "    </tr>\n",
       "    <tr>\n",
       "      <th>2</th>\n",
       "      <td>5.0</td>\n",
       "      <td>0.0</td>\n",
       "      <td>1.0</td>\n",
       "      <td>0.0</td>\n",
       "      <td>4.0</td>\n",
       "      <td>0.0</td>\n",
       "      <td>1.0</td>\n",
       "      <td>0.0</td>\n",
       "    </tr>\n",
       "    <tr>\n",
       "      <th>3</th>\n",
       "      <td>0.0</td>\n",
       "      <td>0.0</td>\n",
       "      <td>0.0</td>\n",
       "      <td>0.0</td>\n",
       "      <td>0.0</td>\n",
       "      <td>1.0</td>\n",
       "      <td>2.0</td>\n",
       "      <td>5.0</td>\n",
       "    </tr>\n",
       "    <tr>\n",
       "      <th>4</th>\n",
       "      <td>3.0</td>\n",
       "      <td>0.0</td>\n",
       "      <td>0.0</td>\n",
       "      <td>0.0</td>\n",
       "      <td>2.0</td>\n",
       "      <td>0.0</td>\n",
       "      <td>0.0</td>\n",
       "      <td>1.0</td>\n",
       "    </tr>\n",
       "    <tr>\n",
       "      <th>5</th>\n",
       "      <td>4.0</td>\n",
       "      <td>0.0</td>\n",
       "      <td>3.0</td>\n",
       "      <td>0.0</td>\n",
       "      <td>1.0</td>\n",
       "      <td>0.0</td>\n",
       "      <td>4.0</td>\n",
       "      <td>0.0</td>\n",
       "    </tr>\n",
       "    <tr>\n",
       "      <th>6</th>\n",
       "      <td>2.0</td>\n",
       "      <td>0.0</td>\n",
       "      <td>0.0</td>\n",
       "      <td>0.0</td>\n",
       "      <td>0.0</td>\n",
       "      <td>2.0</td>\n",
       "      <td>1.0</td>\n",
       "      <td>1.0</td>\n",
       "    </tr>\n",
       "  </tbody>\n",
       "</table>\n",
       "</div>"
      ],
      "text/plain": [
       "Description  Beer  Biscuits  Bread  Butter  Chips  Jam  Milk  Soda\n",
       "InvoiceNo                                                         \n",
       "1             0.0       3.0    2.0     1.0    0.0  2.0   3.0   0.0\n",
       "2             5.0       0.0    1.0     0.0    4.0  0.0   1.0   0.0\n",
       "3             0.0       0.0    0.0     0.0    0.0  1.0   2.0   5.0\n",
       "4             3.0       0.0    0.0     0.0    2.0  0.0   0.0   1.0\n",
       "5             4.0       0.0    3.0     0.0    1.0  0.0   4.0   0.0\n",
       "6             2.0       0.0    0.0     0.0    0.0  2.0   1.0   1.0"
      ]
     },
     "execution_count": 9,
     "metadata": {},
     "output_type": "execute_result"
    }
   ],
   "source": [
    "basket = (trans_df\n",
    "          .groupby(['InvoiceNo', 'Description'])['Quantity']\n",
    "          .sum().unstack().reset_index().fillna(0)\n",
    "          .set_index('InvoiceNo')\n",
    "          )\n",
    "basket"
   ]
  },
  {
   "cell_type": "markdown",
   "metadata": {
    "id": "cH1CslK_f6-z"
   },
   "source": [
    "now we need to turn it into a **1/0-matrix**, since we are not actually interested in the number of units bought in the transactions, then"
   ]
  },
  {
   "cell_type": "code",
   "execution_count": 10,
   "metadata": {
    "colab": {
     "base_uri": "https://localhost:8080/",
     "height": 269
    },
    "executionInfo": {
     "elapsed": 758,
     "status": "ok",
     "timestamp": 1605700390215,
     "user": {
      "displayName": "Juan Jose Manjarin",
      "photoUrl": "https://lh3.googleusercontent.com/a-/AOh14GgROm1G9L6BfG7PCIlE0tJxJJ2QITgE4QN52iI2=s64",
      "userId": "04910883006985787828"
     },
     "user_tz": -60
    },
    "id": "8WvMhEnaf6-1",
    "outputId": "921e229d-0713-4c4d-adf3-271807b56bf2"
   },
   "outputs": [
    {
     "data": {
      "text/html": [
       "<div>\n",
       "<style scoped>\n",
       "    .dataframe tbody tr th:only-of-type {\n",
       "        vertical-align: middle;\n",
       "    }\n",
       "\n",
       "    .dataframe tbody tr th {\n",
       "        vertical-align: top;\n",
       "    }\n",
       "\n",
       "    .dataframe thead th {\n",
       "        text-align: right;\n",
       "    }\n",
       "</style>\n",
       "<table border=\"1\" class=\"dataframe\">\n",
       "  <thead>\n",
       "    <tr style=\"text-align: right;\">\n",
       "      <th>Description</th>\n",
       "      <th>Beer</th>\n",
       "      <th>Biscuits</th>\n",
       "      <th>Bread</th>\n",
       "      <th>Butter</th>\n",
       "      <th>Chips</th>\n",
       "      <th>Jam</th>\n",
       "      <th>Milk</th>\n",
       "      <th>Soda</th>\n",
       "    </tr>\n",
       "    <tr>\n",
       "      <th>InvoiceNo</th>\n",
       "      <th></th>\n",
       "      <th></th>\n",
       "      <th></th>\n",
       "      <th></th>\n",
       "      <th></th>\n",
       "      <th></th>\n",
       "      <th></th>\n",
       "      <th></th>\n",
       "    </tr>\n",
       "  </thead>\n",
       "  <tbody>\n",
       "    <tr>\n",
       "      <th>1</th>\n",
       "      <td>0</td>\n",
       "      <td>1</td>\n",
       "      <td>1</td>\n",
       "      <td>1</td>\n",
       "      <td>0</td>\n",
       "      <td>1</td>\n",
       "      <td>1</td>\n",
       "      <td>0</td>\n",
       "    </tr>\n",
       "    <tr>\n",
       "      <th>2</th>\n",
       "      <td>1</td>\n",
       "      <td>0</td>\n",
       "      <td>1</td>\n",
       "      <td>0</td>\n",
       "      <td>1</td>\n",
       "      <td>0</td>\n",
       "      <td>1</td>\n",
       "      <td>0</td>\n",
       "    </tr>\n",
       "    <tr>\n",
       "      <th>3</th>\n",
       "      <td>0</td>\n",
       "      <td>0</td>\n",
       "      <td>0</td>\n",
       "      <td>0</td>\n",
       "      <td>0</td>\n",
       "      <td>1</td>\n",
       "      <td>1</td>\n",
       "      <td>1</td>\n",
       "    </tr>\n",
       "    <tr>\n",
       "      <th>4</th>\n",
       "      <td>1</td>\n",
       "      <td>0</td>\n",
       "      <td>0</td>\n",
       "      <td>0</td>\n",
       "      <td>1</td>\n",
       "      <td>0</td>\n",
       "      <td>0</td>\n",
       "      <td>1</td>\n",
       "    </tr>\n",
       "    <tr>\n",
       "      <th>5</th>\n",
       "      <td>1</td>\n",
       "      <td>0</td>\n",
       "      <td>1</td>\n",
       "      <td>0</td>\n",
       "      <td>1</td>\n",
       "      <td>0</td>\n",
       "      <td>1</td>\n",
       "      <td>0</td>\n",
       "    </tr>\n",
       "    <tr>\n",
       "      <th>6</th>\n",
       "      <td>1</td>\n",
       "      <td>0</td>\n",
       "      <td>0</td>\n",
       "      <td>0</td>\n",
       "      <td>0</td>\n",
       "      <td>1</td>\n",
       "      <td>1</td>\n",
       "      <td>1</td>\n",
       "    </tr>\n",
       "  </tbody>\n",
       "</table>\n",
       "</div>"
      ],
      "text/plain": [
       "Description  Beer  Biscuits  Bread  Butter  Chips  Jam  Milk  Soda\n",
       "InvoiceNo                                                         \n",
       "1               0         1      1       1      0    1     1     0\n",
       "2               1         0      1       0      1    0     1     0\n",
       "3               0         0      0       0      0    1     1     1\n",
       "4               1         0      0       0      1    0     0     1\n",
       "5               1         0      1       0      1    0     1     0\n",
       "6               1         0      0       0      0    1     1     1"
      ]
     },
     "execution_count": 10,
     "metadata": {},
     "output_type": "execute_result"
    }
   ],
   "source": [
    "basket_sets = basket.apply(lambda x: np.where(x >= 1, 1, 0))\n",
    "basket_sets"
   ]
  },
  {
   "cell_type": "markdown",
   "metadata": {
    "id": "WAQTHhItf6-5"
   },
   "source": [
    "Now we can use the **apriori** algorithm as before"
   ]
  },
  {
   "cell_type": "code",
   "execution_count": 11,
   "metadata": {
    "colab": {
     "base_uri": "https://localhost:8080/",
     "height": 206
    },
    "executionInfo": {
     "elapsed": 1237,
     "status": "ok",
     "timestamp": 1601020711627,
     "user": {
      "displayName": "Juan Jose Manjarin",
      "photoUrl": "",
      "userId": "04910883006985787828"
     },
     "user_tz": -120
    },
    "id": "6x-8Dv7Af6-7",
    "outputId": "eb97378c-8894-420d-ef4b-5c2f242d42a5"
   },
   "outputs": [
    {
     "data": {
      "text/html": [
       "<div>\n",
       "<style scoped>\n",
       "    .dataframe tbody tr th:only-of-type {\n",
       "        vertical-align: middle;\n",
       "    }\n",
       "\n",
       "    .dataframe tbody tr th {\n",
       "        vertical-align: top;\n",
       "    }\n",
       "\n",
       "    .dataframe thead th {\n",
       "        text-align: right;\n",
       "    }\n",
       "</style>\n",
       "<table border=\"1\" class=\"dataframe\">\n",
       "  <thead>\n",
       "    <tr style=\"text-align: right;\">\n",
       "      <th></th>\n",
       "      <th>support</th>\n",
       "      <th>itemsets</th>\n",
       "    </tr>\n",
       "  </thead>\n",
       "  <tbody>\n",
       "    <tr>\n",
       "      <th>0</th>\n",
       "      <td>0.666667</td>\n",
       "      <td>(Beer)</td>\n",
       "    </tr>\n",
       "    <tr>\n",
       "      <th>1</th>\n",
       "      <td>0.166667</td>\n",
       "      <td>(Biscuits)</td>\n",
       "    </tr>\n",
       "    <tr>\n",
       "      <th>2</th>\n",
       "      <td>0.500000</td>\n",
       "      <td>(Bread)</td>\n",
       "    </tr>\n",
       "    <tr>\n",
       "      <th>3</th>\n",
       "      <td>0.166667</td>\n",
       "      <td>(Butter)</td>\n",
       "    </tr>\n",
       "    <tr>\n",
       "      <th>4</th>\n",
       "      <td>0.500000</td>\n",
       "      <td>(Chips)</td>\n",
       "    </tr>\n",
       "  </tbody>\n",
       "</table>\n",
       "</div>"
      ],
      "text/plain": [
       "    support    itemsets\n",
       "0  0.666667      (Beer)\n",
       "1  0.166667  (Biscuits)\n",
       "2  0.500000     (Bread)\n",
       "3  0.166667    (Butter)\n",
       "4  0.500000     (Chips)"
      ]
     },
     "execution_count": 11,
     "metadata": {},
     "output_type": "execute_result"
    }
   ],
   "source": [
    "frequent_itemsets2 = apriori(basket_sets, min_support = 0.07, use_colnames = True)\n",
    "frequent_itemsets2.head()"
   ]
  },
  {
   "cell_type": "markdown",
   "metadata": {
    "id": "0Il7VJYGf6_D"
   },
   "source": [
    "From where we can find the **association rules** as before"
   ]
  },
  {
   "cell_type": "code",
   "execution_count": 12,
   "metadata": {
    "colab": {
     "base_uri": "https://localhost:8080/",
     "height": 300
    },
    "executionInfo": {
     "elapsed": 1689,
     "status": "ok",
     "timestamp": 1601020716448,
     "user": {
      "displayName": "Juan Jose Manjarin",
      "photoUrl": "",
      "userId": "04910883006985787828"
     },
     "user_tz": -120
    },
    "id": "SqGgoFnYf6_F",
    "outputId": "08bdf8e9-1273-43ec-992b-d89cf0e8170f"
   },
   "outputs": [
    {
     "data": {
      "text/html": [
       "<div>\n",
       "<style scoped>\n",
       "    .dataframe tbody tr th:only-of-type {\n",
       "        vertical-align: middle;\n",
       "    }\n",
       "\n",
       "    .dataframe tbody tr th {\n",
       "        vertical-align: top;\n",
       "    }\n",
       "\n",
       "    .dataframe thead th {\n",
       "        text-align: right;\n",
       "    }\n",
       "</style>\n",
       "<table border=\"1\" class=\"dataframe\">\n",
       "  <thead>\n",
       "    <tr style=\"text-align: right;\">\n",
       "      <th></th>\n",
       "      <th>antecedents</th>\n",
       "      <th>consequents</th>\n",
       "      <th>antecedent support</th>\n",
       "      <th>consequent support</th>\n",
       "      <th>support</th>\n",
       "      <th>confidence</th>\n",
       "      <th>lift</th>\n",
       "      <th>leverage</th>\n",
       "      <th>conviction</th>\n",
       "    </tr>\n",
       "  </thead>\n",
       "  <tbody>\n",
       "    <tr>\n",
       "      <th>0</th>\n",
       "      <td>(Chips)</td>\n",
       "      <td>(Beer)</td>\n",
       "      <td>0.500000</td>\n",
       "      <td>0.666667</td>\n",
       "      <td>0.5</td>\n",
       "      <td>1.00</td>\n",
       "      <td>1.5</td>\n",
       "      <td>0.166667</td>\n",
       "      <td>inf</td>\n",
       "    </tr>\n",
       "    <tr>\n",
       "      <th>1</th>\n",
       "      <td>(Beer)</td>\n",
       "      <td>(Chips)</td>\n",
       "      <td>0.666667</td>\n",
       "      <td>0.500000</td>\n",
       "      <td>0.5</td>\n",
       "      <td>0.75</td>\n",
       "      <td>1.5</td>\n",
       "      <td>0.166667</td>\n",
       "      <td>2.000000</td>\n",
       "    </tr>\n",
       "    <tr>\n",
       "      <th>2</th>\n",
       "      <td>(Milk)</td>\n",
       "      <td>(Beer)</td>\n",
       "      <td>0.833333</td>\n",
       "      <td>0.666667</td>\n",
       "      <td>0.5</td>\n",
       "      <td>0.60</td>\n",
       "      <td>0.9</td>\n",
       "      <td>-0.055556</td>\n",
       "      <td>0.833333</td>\n",
       "    </tr>\n",
       "    <tr>\n",
       "      <th>3</th>\n",
       "      <td>(Beer)</td>\n",
       "      <td>(Milk)</td>\n",
       "      <td>0.666667</td>\n",
       "      <td>0.833333</td>\n",
       "      <td>0.5</td>\n",
       "      <td>0.75</td>\n",
       "      <td>0.9</td>\n",
       "      <td>-0.055556</td>\n",
       "      <td>0.666667</td>\n",
       "    </tr>\n",
       "    <tr>\n",
       "      <th>4</th>\n",
       "      <td>(Milk)</td>\n",
       "      <td>(Bread)</td>\n",
       "      <td>0.833333</td>\n",
       "      <td>0.500000</td>\n",
       "      <td>0.5</td>\n",
       "      <td>0.60</td>\n",
       "      <td>1.2</td>\n",
       "      <td>0.083333</td>\n",
       "      <td>1.250000</td>\n",
       "    </tr>\n",
       "    <tr>\n",
       "      <th>5</th>\n",
       "      <td>(Bread)</td>\n",
       "      <td>(Milk)</td>\n",
       "      <td>0.500000</td>\n",
       "      <td>0.833333</td>\n",
       "      <td>0.5</td>\n",
       "      <td>1.00</td>\n",
       "      <td>1.2</td>\n",
       "      <td>0.083333</td>\n",
       "      <td>inf</td>\n",
       "    </tr>\n",
       "    <tr>\n",
       "      <th>6</th>\n",
       "      <td>(Jam)</td>\n",
       "      <td>(Milk)</td>\n",
       "      <td>0.500000</td>\n",
       "      <td>0.833333</td>\n",
       "      <td>0.5</td>\n",
       "      <td>1.00</td>\n",
       "      <td>1.2</td>\n",
       "      <td>0.083333</td>\n",
       "      <td>inf</td>\n",
       "    </tr>\n",
       "    <tr>\n",
       "      <th>7</th>\n",
       "      <td>(Milk)</td>\n",
       "      <td>(Jam)</td>\n",
       "      <td>0.833333</td>\n",
       "      <td>0.500000</td>\n",
       "      <td>0.5</td>\n",
       "      <td>0.60</td>\n",
       "      <td>1.2</td>\n",
       "      <td>0.083333</td>\n",
       "      <td>1.250000</td>\n",
       "    </tr>\n",
       "  </tbody>\n",
       "</table>\n",
       "</div>"
      ],
      "text/plain": [
       "  antecedents consequents  antecedent support  consequent support  support  \\\n",
       "0     (Chips)      (Beer)            0.500000            0.666667      0.5   \n",
       "1      (Beer)     (Chips)            0.666667            0.500000      0.5   \n",
       "2      (Milk)      (Beer)            0.833333            0.666667      0.5   \n",
       "3      (Beer)      (Milk)            0.666667            0.833333      0.5   \n",
       "4      (Milk)     (Bread)            0.833333            0.500000      0.5   \n",
       "5     (Bread)      (Milk)            0.500000            0.833333      0.5   \n",
       "6       (Jam)      (Milk)            0.500000            0.833333      0.5   \n",
       "7      (Milk)       (Jam)            0.833333            0.500000      0.5   \n",
       "\n",
       "   confidence  lift  leverage  conviction  \n",
       "0        1.00   1.5  0.166667         inf  \n",
       "1        0.75   1.5  0.166667    2.000000  \n",
       "2        0.60   0.9 -0.055556    0.833333  \n",
       "3        0.75   0.9 -0.055556    0.666667  \n",
       "4        0.60   1.2  0.083333    1.250000  \n",
       "5        1.00   1.2  0.083333         inf  \n",
       "6        1.00   1.2  0.083333         inf  \n",
       "7        0.60   1.2  0.083333    1.250000  "
      ]
     },
     "execution_count": 12,
     "metadata": {},
     "output_type": "execute_result"
    }
   ],
   "source": [
    "association_rules(frequent_itemsets2, metric = \"support\", min_threshold = 0.5)"
   ]
  },
  {
   "cell_type": "markdown",
   "metadata": {
    "id": "RjpR2hduf6_J"
   },
   "source": [
    "## <font color = \"4587cd\">Analysis of a real dataset</font>\n",
    "\n",
    "Let's download from the web a dataset by importing it directly using `pandas` dataframe"
   ]
  },
  {
   "cell_type": "code",
   "execution_count": 13,
   "metadata": {
    "colab": {
     "base_uri": "https://localhost:8080/",
     "height": 293
    },
    "executionInfo": {
     "elapsed": 40224,
     "status": "ok",
     "timestamp": 1605701077587,
     "user": {
      "displayName": "Juan Jose Manjarin",
      "photoUrl": "https://lh3.googleusercontent.com/a-/AOh14GgROm1G9L6BfG7PCIlE0tJxJJ2QITgE4QN52iI2=s64",
      "userId": "04910883006985787828"
     },
     "user_tz": -60
    },
    "id": "GlJs1J8Wf6_N",
    "outputId": "24650fbd-ce27-41bb-d507-6d31a3dbc72f"
   },
   "outputs": [],
   "source": [
    "transactions = pd.read_excel('http://archive.ics.uci.edu/ml/machine-learning-databases/00352/Online%20Retail.xlsx')\n",
    "transactions.head()"
   ]
  },
  {
   "cell_type": "markdown",
   "metadata": {
    "id": "pN-PvyTpf6_T"
   },
   "source": [
    "And now just to be sure that we always have a copy of the dataset, let's copy it"
   ]
  },
  {
   "cell_type": "code",
   "execution_count": null,
   "metadata": {
    "id": "iY1mcpATf6_V"
   },
   "outputs": [],
   "source": [
    "df_copy = transactions.copy(deep = True)"
   ]
  },
  {
   "cell_type": "markdown",
   "metadata": {
    "id": "mP4AvBBzf6_b"
   },
   "source": [
    "Now, this dataset needs to be cleaned (just a bit). The operations we will make are:\n",
    "\n",
    " * Remove Initial and Ending spaces in the **Description**\n",
    " * Remove the Transactions without invoice number\n",
    " * Convert the Invoice Number into a **String**\n",
    " * Remove the transactions made by credit card (marked with a \"C\")"
   ]
  },
  {
   "cell_type": "code",
   "execution_count": null,
   "metadata": {
    "id": "4KY0I4nAf6_c"
   },
   "outputs": [],
   "source": [
    "transactions['Description'] = transactions['Description'].str.strip()\n",
    "transactions.dropna(axis=0, subset=['InvoiceNo'], inplace=True)\n",
    "transactions['InvoiceNo'] = transactions['InvoiceNo'].astype('str')\n",
    "transactions = transactions[~transactions['InvoiceNo'].str.contains('C')]"
   ]
  },
  {
   "cell_type": "markdown",
   "metadata": {
    "id": "WbHPjOfpf6_g"
   },
   "source": [
    "### <font color = \"red\">Analysis of French basket</font>\n",
    "\n",
    "Since the dataset is too big, let's focus on the analysis by countries. In particular, let's study what happens in France. Notethat since this data set is given as in the second case in the previous section, we will just use the same steps. Note that the names we are using are the same as before, we do this just because they should belong to different analysis."
   ]
  },
  {
   "cell_type": "code",
   "execution_count": null,
   "metadata": {
    "colab": {
     "base_uri": "https://localhost:8080/",
     "height": 391
    },
    "executionInfo": {
     "elapsed": 1075,
     "status": "ok",
     "timestamp": 1605702924684,
     "user": {
      "displayName": "Juan Jose Manjarin",
      "photoUrl": "https://lh3.googleusercontent.com/a-/AOh14GgROm1G9L6BfG7PCIlE0tJxJJ2QITgE4QN52iI2=s64",
      "userId": "04910883006985787828"
     },
     "user_tz": -60
    },
    "id": "-NQZcaYuf6_i",
    "outputId": "276a8ac2-92f8-4e89-bad8-5e2fd0983c0b"
   },
   "outputs": [],
   "source": [
    "basket = (transactions[transactions['Country'] == \"France\"]\n",
    "          .groupby(['InvoiceNo', 'Description'])['Quantity']\n",
    "          .sum().unstack().reset_index().fillna(0)\n",
    "          .set_index('InvoiceNo'))\n",
    "\n",
    "basket_sets = basket.apply(lambda x: np.where(x >= 1, 1, 0))\n",
    "basket_sets.drop('POSTAGE', inplace = True, axis = 1)\n",
    "basket_sets.head()"
   ]
  },
  {
   "cell_type": "markdown",
   "metadata": {
    "id": "piiejOhPf6_q"
   },
   "source": [
    "Now we go for the `apriori` algorithm and the association rules"
   ]
  },
  {
   "cell_type": "code",
   "execution_count": null,
   "metadata": {
    "colab": {
     "base_uri": "https://localhost:8080/",
     "height": 1000
    },
    "executionInfo": {
     "elapsed": 745,
     "status": "ok",
     "timestamp": 1605703812518,
     "user": {
      "displayName": "Juan Jose Manjarin",
      "photoUrl": "https://lh3.googleusercontent.com/a-/AOh14GgROm1G9L6BfG7PCIlE0tJxJJ2QITgE4QN52iI2=s64",
      "userId": "04910883006985787828"
     },
     "user_tz": -60
    },
    "id": "JjzJwvktZ6ch",
    "outputId": "9bba18f5-6a65-4b0b-b611-d693d6cdca4a"
   },
   "outputs": [],
   "source": [
    "frequent_itemsets = apriori(basket_sets, min_support = 0.07, use_colnames = True)\n",
    "frequent_itemsets"
   ]
  },
  {
   "cell_type": "code",
   "execution_count": null,
   "metadata": {
    "colab": {
     "base_uri": "https://localhost:8080/",
     "height": 797
    },
    "executionInfo": {
     "elapsed": 724,
     "status": "ok",
     "timestamp": 1605703668067,
     "user": {
      "displayName": "Juan Jose Manjarin",
      "photoUrl": "https://lh3.googleusercontent.com/a-/AOh14GgROm1G9L6BfG7PCIlE0tJxJJ2QITgE4QN52iI2=s64",
      "userId": "04910883006985787828"
     },
     "user_tz": -60
    },
    "id": "D8EmjRjAf6_s",
    "outputId": "1bd28f95-5cb5-491d-b524-35bd14474399"
   },
   "outputs": [],
   "source": [
    "frequent_itemsets = apriori(basket_sets, min_support = 0.07, use_colnames = True)\n",
    "rules = association_rules(frequent_itemsets, metric = \"lift\", min_threshold = 0)\n",
    "rules.sort_values(by = ['lift'], axis = 0, ascending = True).head(10)"
   ]
  },
  {
   "cell_type": "markdown",
   "metadata": {
    "id": "TwLb_SU2f6_v"
   },
   "source": [
    "See that we have reduced very significantly the **support threshold**. This makes perfect sense because in this case the transactions are less common than in our previous case. This is not really a problem and will only give a significant impact in the values of **lift** and **levarage**.\n",
    "\n",
    "We might be interested in a certain combination of **association rules**, for example"
   ]
  },
  {
   "cell_type": "code",
   "execution_count": null,
   "metadata": {
    "id": "VnQGwWrVf6_x",
    "outputId": "d463bc11-bddd-45ca-f0d8-a751a9179d57"
   },
   "outputs": [],
   "source": [
    "rules[ (rules['lift'] >= 6) &\n",
    "       (rules['confidence'] >= 0.8) & \n",
    "       (rules['support'] >= 0.1)]"
   ]
  },
  {
   "cell_type": "markdown",
   "metadata": {
    "id": "sAa00Unzf6_1"
   },
   "source": [
    "Let's interpret one of the rules in this table, for example the one for RED SPOTTY PAPER PLATES $\\to$ RED RETROSPOT PAPER NAPKINS, then\n",
    "\n",
    "| Antecedent | Consequent | Support | Confidence | Lift | Leverage | Conviction |\n",
    "|:----------:|:----------:|:-------:|:----------:|:----:|:--------:|:----------:|\n",
    "| 0.128 | 0.133 | 0.102 | 0.800 | 6.031 | 0.085 | 4.34 | \n",
    "\n",
    " * **Support**: The rule appears in 10.2% of the transactions\n",
    " * **Confidence**: The probability that in any transaction someone buys RED RETROSPOT PAPER NAPKINS if they have already bought RED SPOTTY PAPER PLATES is the 80%\n",
    " * **Lift**: Since it is 6.03, i.e. positive, the goods are not independent and it is likely that when customers buy one, they buy the other\n",
    " * **Leverage**: Since leverage ranges from -1 to 1, a value of 0.09 indicates a weak positive association between the items\n",
    " * **Conviction**: A value of 4.34 means that the rule would return 4.34 times more wrong predictions if the association rule was purely due to random chance\n",
    " \n",
    "Now, what is the problem with Lift and Leverage? That since the indiviual events are not very common (12.8% and 13.3%) the Lift will detect stronger associations, while Leverage would be important if the Support is high (10.2%). Then in this case it would be more interesting looking at the Lift."
   ]
  },
  {
   "cell_type": "markdown",
   "metadata": {
    "id": "8n4OYkYLf6_2"
   },
   "source": [
    "### <font color = \"red\">Analysis of Spanish basket</font>\n",
    "\n",
    "Let's repeat the same procedure with Spain (we may choose another\n",
    "countries, but UK, for example has a big dataset that may lead us into \n",
    "memory problems)"
   ]
  },
  {
   "cell_type": "code",
   "execution_count": null,
   "metadata": {
    "executionInfo": {
     "elapsed": 1899,
     "status": "ok",
     "timestamp": 1605702393842,
     "user": {
      "displayName": "Juan Jose Manjarin",
      "photoUrl": "https://lh3.googleusercontent.com/a-/AOh14GgROm1G9L6BfG7PCIlE0tJxJJ2QITgE4QN52iI2=s64",
      "userId": "04910883006985787828"
     },
     "user_tz": -60
    },
    "id": "CWK8lqTLf6_3"
   },
   "outputs": [],
   "source": [
    "basket2 = (transactions[transactions['Country'] == \"Spain\"]\n",
    "          .groupby(['InvoiceNo', 'Description'])['Quantity']\n",
    "          .sum().unstack().reset_index().fillna(0)\n",
    "          .set_index('InvoiceNo'))\n",
    "\n",
    "basket_sets2 = basket2.apply(lambda x: np.where(x >= 1, 1, 0))\n",
    "basket_sets2.drop('POSTAGE', inplace = True, axis = 1)"
   ]
  },
  {
   "cell_type": "markdown",
   "metadata": {
    "id": "FqzNnIL6f6_-"
   },
   "source": [
    "And now the rules"
   ]
  },
  {
   "cell_type": "code",
   "execution_count": null,
   "metadata": {
    "colab": {
     "base_uri": "https://localhost:8080/",
     "height": 199
    },
    "executionInfo": {
     "elapsed": 1196,
     "status": "ok",
     "timestamp": 1605702415298,
     "user": {
      "displayName": "Juan Jose Manjarin",
      "photoUrl": "https://lh3.googleusercontent.com/a-/AOh14GgROm1G9L6BfG7PCIlE0tJxJJ2QITgE4QN52iI2=s64",
      "userId": "04910883006985787828"
     },
     "user_tz": -60
    },
    "id": "TwDp7OpQf7AA",
    "outputId": "b97e8a80-3c33-48dc-b3d5-8c338759d3cc"
   },
   "outputs": [],
   "source": [
    "frequent_itemsets2 = apriori(basket_sets2, min_support = 0.07, use_colnames = True)\n",
    "rules2 = association_rules(frequent_itemsets2, metric = \"lift\", min_threshold = 1)\n",
    "rules2"
   ]
  },
  {
   "cell_type": "markdown",
   "metadata": {
    "id": "yT9pUW4tf7AE"
   },
   "source": [
    "Then a possible set of rules we may choose is"
   ]
  },
  {
   "cell_type": "code",
   "execution_count": null,
   "metadata": {
    "colab": {
     "base_uri": "https://localhost:8080/",
     "height": 261
    },
    "executionInfo": {
     "elapsed": 922,
     "status": "ok",
     "timestamp": 1571909327176,
     "user": {
      "displayName": "Juan Jose Manjarin",
      "photoUrl": "",
      "userId": "04910883006985787828"
     },
     "user_tz": -120
    },
    "id": "UMuQonHZf7AF",
    "outputId": "4ca850d0-132c-4d02-f457-52f539403283"
   },
   "outputs": [],
   "source": [
    "rules2[ (rules2['lift'] >= 3) &\n",
    "        (rules2['confidence'] >= 0.5) ]"
   ]
  },
  {
   "cell_type": "markdown",
   "metadata": {
    "id": "Ik1vbR2wf7AK"
   },
   "source": [
    "**Can you find the same rule as in the previous case? Whichever the answer, interpret the first of the rules in the table above**"
   ]
  }
 ],
 "metadata": {
  "jupytext": {
   "text_representation": {
    "extension": ".md",
    "format_name": "myst",
    "format_version": 0.12,
    "jupytext_version": "1.9.1"
   }
  },
  "kernelspec": {
   "display_name": "Python 3",
   "language": "python",
   "name": "python3"
  },
  "language_info": {
   "codemirror_mode": {
    "name": "ipython",
    "version": 3
   },
   "file_extension": ".py",
   "mimetype": "text/x-python",
   "name": "python",
   "nbconvert_exporter": "python",
   "pygments_lexer": "ipython3",
   "version": "3.9.1+"
  },
  "source_map": [
   14,
   22,
   31,
   35,
   55,
   69,
   85,
   102,
   118,
   124,
   145,
   149,
   155,
   166,
   170,
   176,
   180,
   201,
   205,
   226,
   230,
   251,
   255,
   275,
   300,
   306,
   334,
   338,
   363,
   367,
   388,
   392,
   413,
   417,
   437,
   443,
   464,
   468,
   474,
   483,
   492,
   498,
   525,
   529,
   550,
   572,
   578,
   587,
   603,
   611,
   633,
   637,
   659,
   663,
   684
  ]
 },
 "nbformat": 4,
 "nbformat_minor": 4
}