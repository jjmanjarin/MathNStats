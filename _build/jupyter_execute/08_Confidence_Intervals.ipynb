{
 "cells": [
  {
   "cell_type": "markdown",
   "metadata": {
    "id": "FQIl1fzGoRI4"
   },
   "source": [
    "# <font color = \"Red\">Cases and Conditions</font> \n",
    " \n",
    " * Estimation of the mean\n",
    "  * Known the population variance: *Normal distribution*\n",
    "  * Unkown population variance:\n",
    "    * Small Sample: *t-Student*\n",
    "    * Large Sample: *Approximate with Normal*\n",
    " * Estimation of the proportion: *Normal distribution*\n",
    "\n",
    "Before any estimation you have to check:\n",
    "\n",
    " * **Independency**: Satisfied as long as the sample size is less than the 10% of the population size\n",
    " * **Normality**: \n",
    "  * For the **mean**: qqplot (normality plot), as long as the sample size is greater or of the order of 40/50\n",
    "  * For a **proportion**: $np$ and $nq = n(1-p)$ are both greater than 10"
   ]
  },
  {
   "cell_type": "markdown",
   "metadata": {
    "id": "WUWvbyIvpxR3"
   },
   "source": [
    "<font color=\"red\">Python Approach</font>\n",
    "\n",
    " * `statsmodels`: can only be used when you have a dataset\n",
    " * The formulas: can be used anytime\n",
    "\n",
    "Which are the formulas?\n",
    "\n",
    "* Mean of a normal population with known variance:\n",
    "\n",
    "\\begin{equation}\n",
    "\\mu \\in \\bar x\\pm z_{\\alpha/2}\\frac{\\sigma}{\\sqrt{n}}\n",
    "\\end{equation}\n",
    "\n",
    "This one **CANNOT** be done in statsmodels, onyl with the formula.\n",
    "\n",
    " * Mean of a normal population with unkown variance and small sample\n",
    "\n",
    "\\begin{equation}\n",
    "\\mu \\in \\bar x\\pm t_{n-1,\\alpha/2}\\frac{s}{\\sqrt{n}}\n",
    "\\end{equation}\n",
    "\n",
    " * Mean of a normal population with unkown variance and large sample\n",
    "\n",
    "\\begin{equation}\n",
    "\\mu \\in \\bar x\\pm z_{\\alpha/2}\\frac{s}{\\sqrt{n}}\n",
    "\\end{equation}\n",
    "\n",
    " * Porportion normal population\n",
    "\n",
    "\\begin{equation}\n",
    "P \\in \\hat p \\pm z_{\\alpha/2}\\sqrt{\\frac{\\hat p(1-\\hat p)}{n}}\n",
    "\\end{equation}"
   ]
  },
  {
   "cell_type": "markdown",
   "metadata": {
    "id": "iC6DdEzBrCh1"
   },
   "source": [
    "# <font color=\"Red\">Application</font>"
   ]
  },
  {
   "cell_type": "code",
   "execution_count": 1,
   "metadata": {
    "colab": {
     "base_uri": "https://localhost:8080/",
     "height": 74
    },
    "executionInfo": {
     "elapsed": 2549,
     "status": "ok",
     "timestamp": 1604085342936,
     "user": {
      "displayName": "Juan Jose Manjarin",
      "photoUrl": "https://lh3.googleusercontent.com/a-/AOh14GgROm1G9L6BfG7PCIlE0tJxJJ2QITgE4QN52iI2=s64",
      "userId": "04910883006985787828"
     },
     "user_tz": -60
    },
    "id": "bxndwDMVprHz",
    "outputId": "08e6d795-0b5d-46ea-bd5b-69859fa48a82"
   },
   "outputs": [],
   "source": [
    "import numpy as np\n",
    "import pandas as pd\n",
    "import scipy.stats as ss\n",
    "import statsmodels.stats.weightstats as smw\n",
    "import statsmodels.stats.proportion as smp\n",
    "import matplotlib.pyplot as plt\n",
    "import math\n",
    "\n",
    "plt.style.use('seaborn')"
   ]
  },
  {
   "cell_type": "code",
   "execution_count": 2,
   "metadata": {
    "colab": {
     "base_uri": "https://localhost:8080/",
     "height": 35
    },
    "executionInfo": {
     "elapsed": 29326,
     "status": "ok",
     "timestamp": 1604085371070,
     "user": {
      "displayName": "Juan Jose Manjarin",
      "photoUrl": "https://lh3.googleusercontent.com/a-/AOh14GgROm1G9L6BfG7PCIlE0tJxJJ2QITgE4QN52iI2=s64",
      "userId": "04910883006985787828"
     },
     "user_tz": -60
    },
    "id": "5hkdZnqLoQBI",
    "outputId": "3f878773-c63a-49a7-d2c7-f47ebba92263"
   },
   "outputs": [
    {
     "ename": "ModuleNotFoundError",
     "evalue": "No module named 'google'",
     "output_type": "error",
     "traceback": [
      "\u001b[0;31m---------------------------------------------------------------------------\u001b[0m",
      "\u001b[0;31mModuleNotFoundError\u001b[0m                       Traceback (most recent call last)",
      "\u001b[0;32m<ipython-input-2-26d7e981667c>\u001b[0m in \u001b[0;36m<module>\u001b[0;34m\u001b[0m\n\u001b[0;32m----> 1\u001b[0;31m \u001b[0;32mfrom\u001b[0m \u001b[0mgoogle\u001b[0m\u001b[0;34m.\u001b[0m\u001b[0mcolab\u001b[0m \u001b[0;32mimport\u001b[0m \u001b[0mdrive\u001b[0m\u001b[0;34m\u001b[0m\u001b[0;34m\u001b[0m\u001b[0m\n\u001b[0m\u001b[1;32m      2\u001b[0m \u001b[0mdrive\u001b[0m\u001b[0;34m.\u001b[0m\u001b[0mmount\u001b[0m\u001b[0;34m(\u001b[0m\u001b[0;34m'IEStats'\u001b[0m\u001b[0;34m)\u001b[0m\u001b[0;34m\u001b[0m\u001b[0;34m\u001b[0m\u001b[0m\n",
      "\u001b[0;31mModuleNotFoundError\u001b[0m: No module named 'google'"
     ]
    }
   ],
   "source": [
    "from google.colab import drive \n",
    "drive.mount('IEStats')"
   ]
  },
  {
   "cell_type": "code",
   "execution_count": null,
   "metadata": {
    "colab": {
     "base_uri": "https://localhost:8080/",
     "height": 206
    },
    "executionInfo": {
     "elapsed": 1563,
     "status": "ok",
     "timestamp": 1604085371796,
     "user": {
      "displayName": "Juan Jose Manjarin",
      "photoUrl": "https://lh3.googleusercontent.com/a-/AOh14GgROm1G9L6BfG7PCIlE0tJxJJ2QITgE4QN52iI2=s64",
      "userId": "04910883006985787828"
     },
     "user_tz": -60
    },
    "id": "ciJHMg-wrsaR",
    "outputId": "9232995d-f31b-467f-80f5-0561d1094c7b"
   },
   "outputs": [],
   "source": [
    "anorexia = pd.read_excel('/content/IEStats/My Drive/IE - 2021 - Statistics and Data Analysis/DataSets/anorexia.xlsx')\n",
    "anorexia.head()"
   ]
  },
  {
   "cell_type": "markdown",
   "metadata": {
    "id": "rNh3gIF7r9gp"
   },
   "source": [
    "Let's estimate for a 95% of CL the Pre-treatment weight.\n",
    "\n",
    "First directly with the **formula**"
   ]
  },
  {
   "cell_type": "code",
   "execution_count": null,
   "metadata": {
    "colab": {
     "base_uri": "https://localhost:8080/",
     "height": 35
    },
    "executionInfo": {
     "elapsed": 824,
     "status": "ok",
     "timestamp": 1604085376150,
     "user": {
      "displayName": "Juan Jose Manjarin",
      "photoUrl": "https://lh3.googleusercontent.com/a-/AOh14GgROm1G9L6BfG7PCIlE0tJxJJ2QITgE4QN52iI2=s64",
      "userId": "04910883006985787828"
     },
     "user_tz": -60
    },
    "id": "J7aZUXCAsF3l",
    "outputId": "c88e8590-099e-4cfa-d947-1a018c9dc647"
   },
   "outputs": [],
   "source": [
    "prew = anorexia['prewt']\n",
    "n = len(prew)\n",
    "\n",
    "print('Since {:2.0f} > 40, we can use the normal approximation'.format(n))"
   ]
  },
  {
   "cell_type": "code",
   "execution_count": null,
   "metadata": {
    "colab": {
     "base_uri": "https://localhost:8080/",
     "height": 35
    },
    "executionInfo": {
     "elapsed": 577,
     "status": "ok",
     "timestamp": 1604085380484,
     "user": {
      "displayName": "Juan Jose Manjarin",
      "photoUrl": "https://lh3.googleusercontent.com/a-/AOh14GgROm1G9L6BfG7PCIlE0tJxJJ2QITgE4QN52iI2=s64",
      "userId": "04910883006985787828"
     },
     "user_tz": -60
    },
    "id": "aGeq8Ox4sqxG",
    "outputId": "4c21ba71-fc14-4880-86dc-ec48eac5a353"
   },
   "outputs": [],
   "source": [
    "# Sample information\n",
    "xmean = prew.mean()\n",
    "stdev = prew.std()\n",
    "n = len(prew)\n",
    "\n",
    "# Distribution value\n",
    "CL = 0.95\n",
    "SL = 1 - CL # alpha\n",
    "zcrit = ss.norm.isf(SL/2)\n",
    "# zcrit = -ss.norm.ppf(SL/2)\n",
    "\n",
    "# Confidence Interval\n",
    "ME = zcrit * stdev /np.sqrt(n)\n",
    "\n",
    "lower = xmean - ME\n",
    "upper = xmean + ME\n",
    "\n",
    "# Print the output\n",
    "print('The {:2.0%} CI for the weight before the treatment is [{:4.2f}, {:4.2f}]'.format(CL, lower, upper))"
   ]
  },
  {
   "cell_type": "markdown",
   "metadata": {
    "id": "f8JDwoVzuVGi"
   },
   "source": [
    "Let's now use `statsmodels`"
   ]
  },
  {
   "cell_type": "code",
   "execution_count": null,
   "metadata": {
    "colab": {
     "base_uri": "https://localhost:8080/",
     "height": 35
    },
    "executionInfo": {
     "elapsed": 628,
     "status": "ok",
     "timestamp": 1604085383218,
     "user": {
      "displayName": "Juan Jose Manjarin",
      "photoUrl": "https://lh3.googleusercontent.com/a-/AOh14GgROm1G9L6BfG7PCIlE0tJxJJ2QITgE4QN52iI2=s64",
      "userId": "04910883006985787828"
     },
     "user_tz": -60
    },
    "id": "2MegVAzquXX4",
    "outputId": "ebd90d53-4998-46b2-b923-05bb8685cdb4"
   },
   "outputs": [],
   "source": [
    "des_prew = smw.DescrStatsW(prew)\n",
    "lower, upper = des_prew.zconfint_mean(SL) # Note that the only argument needed is the \"alpha\"\n",
    "\n",
    "# Print the output\n",
    "print('The {:2.0%} CI for the weight before the treatment is [{:4.2f}, {:4.2f}]'.format(CL, lower, upper))"
   ]
  },
  {
   "cell_type": "code",
   "execution_count": null,
   "metadata": {
    "colab": {
     "base_uri": "https://localhost:8080/",
     "height": 35
    },
    "executionInfo": {
     "elapsed": 648,
     "status": "ok",
     "timestamp": 1604085405040,
     "user": {
      "displayName": "Juan Jose Manjarin",
      "photoUrl": "https://lh3.googleusercontent.com/a-/AOh14GgROm1G9L6BfG7PCIlE0tJxJJ2QITgE4QN52iI2=s64",
      "userId": "04910883006985787828"
     },
     "user_tz": -60
    },
    "id": "p_DhHT-0wDGk",
    "outputId": "bd70e107-3356-4e0a-a645-e294c4be0031"
   },
   "outputs": [],
   "source": [
    "prew_1 = anorexia[anorexia['group'] == 1]['prewt'] # 1st is the filter, the second the selection\n",
    "n1 = len(prew_1)\n",
    "\n",
    "des_prew_1 = smw.DescrStatsW(prew_1)\n",
    "\n",
    "if n1 > 40:\n",
    "  lower_1, upper_1 = des_prew_1.zconfint_mean(SL)\n",
    "else:\n",
    "  lower_1, upper_1 = des_prew_1.tconfint_mean(SL)\n",
    "\n",
    "print('The {:2.0%} CI of the group 1 pre-treatment weight is [{:4.2f}, {:4.2f}]'.format(CL, lower_1, upper_1))"
   ]
  },
  {
   "cell_type": "markdown",
   "metadata": {
    "id": "coapcTgvyYFO"
   },
   "source": [
    "## <font color=\"Blue\">Proportions</font>"
   ]
  },
  {
   "cell_type": "code",
   "execution_count": null,
   "metadata": {
    "colab": {
     "base_uri": "https://localhost:8080/",
     "height": 90
    },
    "executionInfo": {
     "elapsed": 604,
     "status": "ok",
     "timestamp": 1604085443426,
     "user": {
      "displayName": "Juan Jose Manjarin",
      "photoUrl": "https://lh3.googleusercontent.com/a-/AOh14GgROm1G9L6BfG7PCIlE0tJxJJ2QITgE4QN52iI2=s64",
      "userId": "04910883006985787828"
     },
     "user_tz": -60
    },
    "id": "KTFX_YngyXBx",
    "outputId": "a78a7fe4-d172-4068-cdd0-c729e7353dca"
   },
   "outputs": [],
   "source": [
    "# Dataset for the patients who gained weight after the treatment\n",
    "greater_we = anorexia[anorexia['difwt'] > 0]\n",
    "\n",
    "# We want to find the proportion of patients who gained weight\n",
    "x = len(greater_we['difwt']) # number of people with a higher weight\n",
    "n = len(anorexia['difwt'])\n",
    "\n",
    "phat = x/n\n",
    "\n",
    "# Confidence Interval with the formula\n",
    "np = n*phat\n",
    "nq = n*(1-phat)\n",
    "\n",
    "print('The values for the normality approximation are:')\n",
    "print(round(np, 0), round(nq, 0), '\\n')\n",
    "\n",
    "zcrit = ss.norm.isf(SL/2) # The binomial approximates to the Normal, NEVER to the t-distribution\n",
    "ME = zcrit * math.sqrt(phat*(1-phat)/n)\n",
    "\n",
    "lower = phat - ME\n",
    "upper = phat + ME\n",
    "\n",
    "print('The {:2.0%} CI for the proportion of patients who gained weight is [{:4.2f}, {:4.2f}]'.format(CL, lower, upper))"
   ]
  },
  {
   "cell_type": "markdown",
   "metadata": {
    "id": "j-3AEhPp8XkR"
   },
   "source": [
    "Now with statsmodels"
   ]
  },
  {
   "cell_type": "code",
   "execution_count": null,
   "metadata": {
    "colab": {
     "base_uri": "https://localhost:8080/",
     "height": 35
    },
    "executionInfo": {
     "elapsed": 557,
     "status": "ok",
     "timestamp": 1604085502730,
     "user": {
      "displayName": "Juan Jose Manjarin",
      "photoUrl": "https://lh3.googleusercontent.com/a-/AOh14GgROm1G9L6BfG7PCIlE0tJxJJ2QITgE4QN52iI2=s64",
      "userId": "04910883006985787828"
     },
     "user_tz": -60
    },
    "id": "4ka0oS2I8Y_O",
    "outputId": "0e4fc1a0-e091-4fa4-8d47-1e594583a353"
   },
   "outputs": [],
   "source": [
    "lower, upper = smp.proportion_confint(np, n, alpha = SL)\n",
    "print('The {:2.0%} CI for the proportion of patients who gained weight is [{:4.2f}, {:4.2f}]'.format(CL, lower, upper))"
   ]
  },
  {
   "cell_type": "markdown",
   "metadata": {
    "id": "Ihmqu7BE8m3I"
   },
   "source": [
    "Then, we obtain the same result."
   ]
  }
 ],
 "metadata": {
  "jupytext": {
   "text_representation": {
    "extension": ".md",
    "format_name": "myst",
    "format_version": 0.12,
    "jupytext_version": "1.9.1"
   }
  },
  "kernelspec": {
   "display_name": "Python 3",
   "name": "python3"
  },
  "language_info": {
   "codemirror_mode": {
    "name": "ipython",
    "version": 3
   },
   "file_extension": ".py",
   "mimetype": "text/x-python",
   "name": "python",
   "nbconvert_exporter": "python",
   "pygments_lexer": "ipython3",
   "version": "3.9.1+"
  },
  "source_map": [
   13,
   31,
   66,
   70,
   98,
   119,
   140,
   146,
   169,
   207,
   211,
   235,
   265,
   269,
   311,
   315,
   336
  ]
 },
 "nbformat": 4,
 "nbformat_minor": 4
}