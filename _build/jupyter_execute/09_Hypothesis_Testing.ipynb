{
 "cells": [
  {
   "cell_type": "markdown",
   "metadata": {
    "id": "KUqTniDxyVPK"
   },
   "source": [
    "# Hypothesis Testing\n",
    "\n",
    "### Prof. Dr.Juanjo Manjarín\n",
    "**Statistics & Data Analysis**\n",
    "\n",
    "\n",
    "---"
   ]
  },
  {
   "cell_type": "code",
   "execution_count": 1,
   "metadata": {
    "colab": {
     "base_uri": "https://localhost:8080/"
    },
    "executionInfo": {
     "elapsed": 1497,
     "status": "ok",
     "timestamp": 1605207318516,
     "user": {
      "displayName": "Juan Jose Manjarin",
      "photoUrl": "https://lh3.googleusercontent.com/a-/AOh14GgROm1G9L6BfG7PCIlE0tJxJJ2QITgE4QN52iI2=s64",
      "userId": "04910883006985787828"
     },
     "user_tz": -60
    },
    "id": "tcFeiYPNQ4Yi",
    "outputId": "acf3555a-4d8c-4486-a397-13ef25b14726"
   },
   "outputs": [],
   "source": [
    "import numpy as np\n",
    "import pandas as pd\n",
    "import matplotlib.pyplot as plt\n",
    "import scipy.stats as ss\n",
    "import statsmodels.stats.weightstats as smw\n",
    "import statsmodels.stats.proportion as smp\n",
    "\n",
    "plt.style.use(\"seaborn\")"
   ]
  },
  {
   "cell_type": "code",
   "execution_count": 2,
   "metadata": {
    "colab": {
     "base_uri": "https://localhost:8080/"
    },
    "executionInfo": {
     "elapsed": 29827,
     "status": "ok",
     "timestamp": 1605207349417,
     "user": {
      "displayName": "Juan Jose Manjarin",
      "photoUrl": "https://lh3.googleusercontent.com/a-/AOh14GgROm1G9L6BfG7PCIlE0tJxJJ2QITgE4QN52iI2=s64",
      "userId": "04910883006985787828"
     },
     "user_tz": -60
    },
    "id": "F5ixO1GAQ-g0",
    "outputId": "12b18f31-d15c-4407-c05f-49e1720e3eb0"
   },
   "outputs": [
    {
     "ename": "ModuleNotFoundError",
     "evalue": "No module named 'google'",
     "output_type": "error",
     "traceback": [
      "\u001b[0;31m---------------------------------------------------------------------------\u001b[0m",
      "\u001b[0;31mModuleNotFoundError\u001b[0m                       Traceback (most recent call last)",
      "\u001b[0;32m<ipython-input-2-4a574f4b1149>\u001b[0m in \u001b[0;36m<module>\u001b[0;34m\u001b[0m\n\u001b[0;32m----> 1\u001b[0;31m \u001b[0;32mfrom\u001b[0m \u001b[0mgoogle\u001b[0m\u001b[0;34m.\u001b[0m\u001b[0mcolab\u001b[0m \u001b[0;32mimport\u001b[0m \u001b[0mdrive\u001b[0m\u001b[0;34m\u001b[0m\u001b[0;34m\u001b[0m\u001b[0m\n\u001b[0m\u001b[1;32m      2\u001b[0m \u001b[0mdrive\u001b[0m\u001b[0;34m.\u001b[0m\u001b[0mmount\u001b[0m\u001b[0;34m(\u001b[0m\u001b[0;34m'IEStats'\u001b[0m\u001b[0;34m)\u001b[0m\u001b[0;34m\u001b[0m\u001b[0;34m\u001b[0m\u001b[0m\n",
      "\u001b[0;31mModuleNotFoundError\u001b[0m: No module named 'google'"
     ]
    }
   ],
   "source": [
    "from google.colab import drive\n",
    "drive.mount('IEStats')"
   ]
  },
  {
   "cell_type": "markdown",
   "metadata": {
    "id": "KYsYaVW-qaQm"
   },
   "source": [
    "In this case we do not look for a range in which we may be confident that our parameter will be, but conditions that may allow us to say that our sample gives support to a hypothesis or to an alternative hypothesis."
   ]
  },
  {
   "cell_type": "markdown",
   "metadata": {
    "id": "JmwouYxXSm1S"
   },
   "source": [
    "## <font color=\"Blue\">Decision Schemes</font>\n",
    "\n",
    "In general we will have a scheme such that there are only two hypothesis:\n",
    "\n",
    "  * The **Null Hypothesis**, denoted as $H_0$, it is the statement that is most costly to wrongly reject. Most of our arguments will be around this hypothesis which is **assumed to be true**\n",
    "  * The **Alternative Hypothesis**, denoted as $H_1$, we will take it as the complementary hypothesis to $H_0$, although it should be clear that this is not a neccesary general condition and will be relaxed once we deal with the power of the test.\n",
    "\n",
    "Note, that these definitions lead to a general idea: *All the content of the hypothesis is contained in $H_1$*, i.e. if for example we want to test if a business is going to be profitable, the decision scheme is\n",
    "\n",
    "\\begin{equation}\n",
    "H_0:\\{\\text{it is not profitable}\\},\\quad H_1:\\{\\text{it is profitable}\\}\n",
    "\\end{equation}\n",
    "\n",
    "and so in any other test we want to make. Then it is clear that the question we want to answer with our data must be very clear\n",
    "\n",
    "According to these hypotheses and the meaning of statistical hypothesis, we can split the whole sampling space into two different regions:\n",
    "\n",
    "  * The **Critical Region**: Denoted as $C$, is the region such that if the contrast statistic is in it, we say that there is strong evidence that supports the alternative hypothesis and then we **reject the null hypothesis**\n",
    "  * The **Acceptance Region**: Denoted as $C^∗$, we will **fail to reject the null hypothesis** if the contrast statistic lies in it since there is no strong evidence that supports the alternative.\n",
    "  \n",
    "It is import to make emphasis on the language: we reject or fail to reject the null hypothesis but never accept. The reason for this is at least twofold:\n",
    "\n",
    " * First, that we assume that the null hypothesis is true then there is no reason to accept it\n",
    " * Second, that all the content is in the alternative hypothesis then either find evidence to reject our assumption or do not find it (fail to reject)."
   ]
  },
  {
   "cell_type": "markdown",
   "metadata": {
    "id": "luBvWZxXSvJO"
   },
   "source": [
    "## <font color=\"Blue\">Types of Errors</font>\n",
    "\n",
    "If we consider that our decision may be right or wrong, we can write the following table\n",
    "\n",
    "<br>\n",
    "\n",
    "<style>\n",
    "table, th, td {\n",
    "  border: 1px solid black;\n",
    "  border-collapse: collapse;\n",
    "}\n",
    "th, td {\n",
    "  padding: 0px;\n",
    "  text-align: center;    \n",
    "}\n",
    "</style>\n",
    "\n",
    "<table style=\"width:100%\">\n",
    "  <tr>\n",
    "    <th></th>\n",
    "    <th></th>\n",
    "    <th colspan=\"2\">Decision</th>\n",
    "  </tr>\n",
    "  <tr>\n",
    "    <th></th>\n",
    "    <th></th>\n",
    "    <th> Reject $H_0$ </th>\n",
    "    <th> Fail to Reject $H_0$ </th>\n",
    "  </tr>\n",
    "  <tr>\n",
    "    <th rowspan=\"2\">True</th>\n",
    "    <td>$H_0$</td>\n",
    "    <td> <font color = \"Red\"> Type I Error </font></td>\n",
    "    <td></td<td> <font color = \"Green\"> Right </font> </td>\n",
    "  </tr>\n",
    "  <tr>\n",
    "    <td> $H_1$</td>\n",
    "    <td> <font color = \"Green\"> Right </font> </td>\n",
    "    <td> <font color = \"Red\"> Type II Error </font> </td>\n",
    "  </tr>\n",
    "</table>\n",
    "\n",
    "<br>\n",
    "\n",
    "\n",
    "Then we will say that there are two different types of errors depending on our conclusions once we perform the test:\n",
    "\n",
    " * A **ype I Error** occurs when we reject the NULL hypothesis but this is true, i.e. our sample value lies in the critical region but $H_0$ is the true statement: $\\{X \\in C|H_0\\}$\n",
    " * A **Type II Error** occurs whe we fail to reject the NULL hypothesis but the true statement is $H_1$, i.e. the sample value lies in the acceptance region but $H_1$ is true: $\\{X \\in C^*|H1\\}$\n",
    "\n",
    "In any other circumstance  our decision is right. In this context we define\n",
    "\n",
    "  * The **Significance Level** is the probability of a Type I error\n",
    "\n",
    "\\begin{equation}\n",
    "\\alpha = P(\\text{Type I error}) = P(X \\in C|H_0)\n",
    "\\end{equation}\n",
    "\n",
    "In other words, it is the probability of a False Positive, i.e. the probability of rejecting $H_0$ being true. See that it is complementary\n",
    "to the **Precision**.\n",
    "\n",
    "  * The **Power of the test** is the complementary to a Type II error. If we denote as $\\beta$ the probability of a Type II error, then\n",
    "\n",
    "\\begin{equation}\n",
    "\\text{Power} = 1 − \\beta = P(\\text{Reject $H_0$ being false}) = P(X\\in C|H_1)\n",
    "\\end{equation}\n",
    "\n",
    "Then, if $\\beta$ is the probability of failing to reject $H_0$ being false, the power of a test is the probability of rejecting $H_0$ being false"
   ]
  },
  {
   "cell_type": "markdown",
   "metadata": {
    "id": "3yXBXYv7Ruet"
   },
   "source": [
    "# <font color=\"Red\">Types of Tests</font>\n",
    "\n",
    "Now we focus on whether or not we find evidence against a basic assumption, which is called **NULL hypothesis**, and is always assumed to be true.\n",
    "\n",
    "Since it is assumed true, whatever we want to test will be in $H_1$, the **alternative hypothesis**. Then having $H_0$ and $H_1$ defines what we know as the **decision scheme**\n",
    "\n",
    "This implies that we can have three different types of test:\n",
    "\n",
    " * **Right-tailed test**, if the alternative hypothesis is answering the question: *Is it greater than...?* \n",
    " * **Left-tailed test**, if the alternative hypothesis is answering the question: *Is it smaller than...?* \n",
    " * **Two-tailed test**, if the alternative hypothesis is answering the question: *Is it not...?* \n",
    "\n",
    "Of course, the $H_0$ is the complementary to this $H_1$.\n",
    "\n",
    "All the tests need a parameter which is known as $\\mu_0$, when we test the mean of a population or $P_0$, when we test the proportion of a population.\n",
    "\n",
    "Then we can write the **right-tailed tests** as\n",
    "\n",
    "\\begin{equation}\n",
    "H_0:\\{\\mu\\leq \\mu_0\\}, \\quad H_1:\\{\\mu > \\mu_0\\}\n",
    "\\end{equation}\n",
    "\n",
    "the **left-tailed test** as\n",
    "\n",
    "\\begin{equation}\n",
    "H_0:\\{\\mu\\geq \\mu_0\\}, \\quad H_1:\\{\\mu < \\mu_0\\}\n",
    "\\end{equation}\n",
    "\n",
    "and the **two-tailed tests** as\n",
    "\n",
    "\\begin{equation}\n",
    "H_0:\\{\\mu = \\mu_0\\}, \\quad H_1:\\{\\mu \\neq \\mu_0\\}\n",
    "\\end{equation}"
   ]
  },
  {
   "cell_type": "markdown",
   "metadata": {
    "id": "XfHoeviDUIqA"
   },
   "source": [
    "## <font color =\"Blue\"> Tests on the Mean of a Normal Population</font>\n",
    "\n",
    "We have exactly the same cases that we saw in confidence intervals:\n",
    "\n",
    " * **Population variance known**, in which case we can use the normal distribution ($z$)\n",
    " * **Population variance unknown and a large sample** ($n>40$), in which case we can use the normal distribution, but we use the sample standard deviation in the computation\n",
    " * **Population variance unknown and a small sample** ($n<40$), in which case we use the t-distribution, and we use the sample standard deviation in the computation"
   ]
  },
  {
   "cell_type": "markdown",
   "metadata": {
    "id": "OJ6a-ZyjY_73"
   },
   "source": [
    "## <font color=\"Blue\">Tests on the Proportion of a Population</font>\n",
    "\n",
    "In this case we always take the normal approximation to the binomial distribution. This is possible only when\n",
    "\n",
    "\\begin{equation}\n",
    "np>10,\\quad nq=n(1-p)>10\n",
    "\\end{equation}\n",
    "\n",
    "in this case we ONLY use the normal distribution"
   ]
  },
  {
   "cell_type": "markdown",
   "metadata": {
    "id": "viXzN-yQU76Q"
   },
   "source": [
    "# <font color=\"Red\">Performing a Test</font>\n",
    "\n",
    "There are two different procedures to be used:\n",
    "\n",
    " * Using a **test statistic**, which is the standarized value from our sample under the NULL hypothesis\n",
    " * Using a **p-value**, which is the probability associated with the test statistic, then it is the smallest significance level to reject the NULL hypothesis\n",
    "\n",
    "A standarization is\n",
    "\n",
    "\\begin{equation}\n",
    "x \\longrightarrow z=\\frac{x - \\bar x}{s_x}\n",
    "\\end{equation}\n",
    "\n",
    "in our case we standarize the sample mean, then we use the expected value and the standard deviation (standard error) of the sampling distribution of sampling means\n",
    "\n",
    "\\begin{equation}\n",
    "\\bar x \\longrightarrow z=\\frac{\\bar x - \\mu}{\\sigma/\\sqrt{n}}\n",
    "\\end{equation}\n",
    "\n",
    "if we are in a hypothesis scheme, we are assuming that $\\mu=\\mu_0$, then we write the standarization as \n",
    "\n",
    "\\begin{equation}\n",
    "\\bar x \\longrightarrow z=\\frac{\\bar x - \\mu_0}{\\sigma/\\sqrt{n}}\n",
    "\\end{equation}\n",
    "\n",
    "the the statistic to be used in the test is\n",
    "\n",
    "\\begin{equation}\n",
    "z_{stat}=\\frac{\\bar x - \\mu_0}{\\sigma/\\sqrt{n}}\n",
    "\\end{equation}\n",
    "\n",
    "where $\\sigma$ is the population standard deviation. When we do not know it, we estimate it using the sample variance, then we have two other statistics to be used:\n",
    "\n",
    "\\begin{equation}\n",
    "z_{stat}=\\frac{\\bar x - \\mu_0}{s_x/\\sqrt{n}},\\quad\\text{ large sample}\n",
    "\\end{equation}\n",
    "\n",
    "and \n",
    "\n",
    "\\begin{equation}\n",
    "t_{n-1}^{stat}=\\frac{\\bar x - \\mu_0}{s_x/\\sqrt{n}},\\quad\\text{ small sample}\n",
    "\\end{equation}\n",
    "\n",
    "note that the difference is not evident in the statistic, but in the distribution that we use in the test.\n",
    "\n",
    "For the **Proportion of a normal population**, then the statistic is\n",
    "\n",
    "\\begin{equation}\n",
    "z_{stat} = \\frac{\\hat p - P_0}{\\sqrt{\\frac{\\hat p(1-\\hat p)}{n}}}\n",
    "\\end{equation}\n",
    "\n",
    "To perform the test we need a boundary that may let us decide if we reject the NULL or we fail to Reject the NULL. This value is known as **Critical value** and is the value such that either its cumulative or its survival probability is $\\alpha$ (or $\\alpha/2$ in a two-tailed test). Then\n",
    "\n",
    " * For a **right-tailed** test, the critical value is the *inverse survival function* for $\\alpha$\n",
    " * For a **left-tailed** test, the critical value is the *percentile probability function* for $\\alpha$\n",
    " * For a **two-tailed** test, the critical value is the *inverse survival function* for $\\alpha/2$\n",
    "\n",
    "then the test proceed as follows: We **Reject the NULL hypothesis** if the test statistic is larger than the critical value in the direction of the test."
   ]
  },
  {
   "cell_type": "markdown",
   "metadata": {
    "id": "XwO278_3Y0SG"
   },
   "source": [
    "# <font color=\"Red\">Python Tests</font>\n",
    "\n",
    "We, again, have two options:\n",
    "\n",
    " * Using the formula\n",
    " * Using `statsmodels`, which cannot be used in the case of a test for the mean of a normal population with known population variance.\n",
    "  * For $\\sigma$-unkonwn and a large sample: `ztest_mean()` which returns the z-statistic and its p-value\n",
    "  * For $\\sigma$-unkonwn and a small sample: `ttest_mean()` which returns the t-statistic, its p-value and the degrees of freedom ($n-1$)\n",
    "  * For a population proportion: `proportions_ztest()` which returns the z-statistic and its p-value"
   ]
  },
  {
   "cell_type": "markdown",
   "metadata": {
    "id": "3Ug3Nkr005YF"
   },
   "source": [
    "## <font color=\"Blue\">Examples</font>"
   ]
  },
  {
   "cell_type": "markdown",
   "metadata": {
    "id": "2MpERz_i1c8M"
   },
   "source": [
    "Let's load the dataset and perform some tests"
   ]
  },
  {
   "cell_type": "code",
   "execution_count": null,
   "metadata": {
    "colab": {
     "base_uri": "https://localhost:8080/",
     "height": 206
    },
    "executionInfo": {
     "elapsed": 1433,
     "status": "ok",
     "timestamp": 1605207360486,
     "user": {
      "displayName": "Juan Jose Manjarin",
      "photoUrl": "https://lh3.googleusercontent.com/a-/AOh14GgROm1G9L6BfG7PCIlE0tJxJJ2QITgE4QN52iI2=s64",
      "userId": "04910883006985787828"
     },
     "user_tz": -60
    },
    "id": "rOOl5GSLRYuN",
    "outputId": "a34151e9-0aa0-42c7-f5bd-957ba1c84c0f"
   },
   "outputs": [],
   "source": [
    "truancy = pd.read_excel('/content/IEStats/My Drive/IE - 2021 - Statistics and Data Analysis/DataSets/truancy.xlsx')\n",
    "truancy.head()"
   ]
  },
  {
   "cell_type": "markdown",
   "metadata": {
    "id": "i0UG1-H_cDqV"
   },
   "source": [
    "### <font color=\"blue\">Proportions</font>\n",
    "\n",
    "**From the `truancy.xlsx` dataset, test if the average `prepct` for females is larger than 12.**\n",
    "\n",
    "the decision scheme is\n",
    "\n",
    "\\begin{equation}\n",
    "H_0:\\{\\mu\\leq 12\\},\\quad H_1:\\{\\mu>12\\}\n",
    "\\end{equation}\n",
    "\n",
    "Since we do not know the population variance, and the sample size is"
   ]
  },
  {
   "cell_type": "code",
   "execution_count": null,
   "metadata": {
    "colab": {
     "base_uri": "https://localhost:8080/"
    },
    "executionInfo": {
     "elapsed": 543,
     "status": "ok",
     "timestamp": 1605207363420,
     "user": {
      "displayName": "Juan Jose Manjarin",
      "photoUrl": "https://lh3.googleusercontent.com/a-/AOh14GgROm1G9L6BfG7PCIlE0tJxJJ2QITgE4QN52iI2=s64",
      "userId": "04910883006985787828"
     },
     "user_tz": -60
    },
    "id": "HZWiesdWcLyA",
    "outputId": "830b1c0e-0c35-4b3d-e4d4-8c84e7b38c65"
   },
   "outputs": [],
   "source": [
    "pre_f = truancy[truancy['gender'] == 'f']['prepct']\n",
    "n = len(pre_f)\n",
    "\n",
    "print('Sample Size: ', n)"
   ]
  },
  {
   "cell_type": "markdown",
   "metadata": {
    "id": "b-4vFh6Ud17a"
   },
   "source": [
    "this sample size is larger than 40, then we are allowed to use the normal approximation.\n",
    "\n",
    " * Using `statsmodels`:"
   ]
  },
  {
   "cell_type": "code",
   "execution_count": null,
   "metadata": {
    "colab": {
     "base_uri": "https://localhost:8080/"
    },
    "executionInfo": {
     "elapsed": 666,
     "status": "ok",
     "timestamp": 1605207365095,
     "user": {
      "displayName": "Juan Jose Manjarin",
      "photoUrl": "https://lh3.googleusercontent.com/a-/AOh14GgROm1G9L6BfG7PCIlE0tJxJJ2QITgE4QN52iI2=s64",
      "userId": "04910883006985787828"
     },
     "user_tz": -60
    },
    "id": "yPwyHClPeCaX",
    "outputId": "171112a3-e399-474f-d2ed-101d48ecd2ca"
   },
   "outputs": [],
   "source": [
    "# Data\n",
    "mu0 = 12\n",
    "SL = 0.05\n",
    "\n",
    "# Descriptive Stats\n",
    "des_f = smw.DescrStatsW(pre_f)\n",
    "zstat, pval = des_f.ztest_mean(value = mu0, alternative='larger')\n",
    "\n",
    "# Test\n",
    "zcrit = ss.norm.isf(SL)\n",
    "\n",
    "print('z-statistic: ', round(zstat,2))\n",
    "print('z-critical:', round(zcrit,2))\n",
    "if zstat > zcrit:\n",
    "  print('Reject the NULL hypothesis')\n",
    "else:\n",
    "  print('Fail to Reject the NULL')"
   ]
  },
  {
   "cell_type": "markdown",
   "metadata": {
    "id": "T1RJsBwnfhY2"
   },
   "source": [
    "Since we Fail to Reject the NuLL hypothesis, we do not find evidence against $H_0$ for a 5% of significance level. Then we cannot say that the average `prepct` is larger than 12 for females\n",
    "\n",
    " * Using the formula"
   ]
  },
  {
   "cell_type": "code",
   "execution_count": null,
   "metadata": {
    "colab": {
     "base_uri": "https://localhost:8080/"
    },
    "executionInfo": {
     "elapsed": 521,
     "status": "ok",
     "timestamp": 1605207368128,
     "user": {
      "displayName": "Juan Jose Manjarin",
      "photoUrl": "https://lh3.googleusercontent.com/a-/AOh14GgROm1G9L6BfG7PCIlE0tJxJJ2QITgE4QN52iI2=s64",
      "userId": "04910883006985787828"
     },
     "user_tz": -60
    },
    "id": "saqC_17AgEwk",
    "outputId": "de3068c0-6257-4584-b4e8-c3893394d494"
   },
   "outputs": [],
   "source": [
    "# Data\n",
    "mu0 = 12\n",
    "SL = 0.05\n",
    "\n",
    "# Descriptive Stats\n",
    "xmean = pre_f.mean()\n",
    "stdev = pre_f.std()\n",
    "zstat = (xmean - mu0)/(stdev/np.sqrt(n))\n",
    "\n",
    "# Test\n",
    "zcrit = ss.norm.isf(SL)\n",
    "\n",
    "print('z-statistic: ', round(zstat,2))\n",
    "print('z-critical:', round(zcrit,2))\n",
    "if zstat > zcrit:\n",
    "  print('Reject the NULL hypothesis')\n",
    "else:\n",
    "  print('Fail to Reject the NULL')"
   ]
  },
  {
   "cell_type": "markdown",
   "metadata": {
    "id": "yoIHW1AjhFWx"
   },
   "source": [
    "### <font color=\"blue\">Proportions</font>\n",
    "\n",
    "**Test for a 1% if the sample is not gender-balanced**\n",
    "\n",
    "The decision scheme is then\n",
    "\n",
    "\\begin{equation}\n",
    "H_0:\\{P = 0.5\\},\\quad H_1:\\{ P\\neq 0.5\\}\n",
    "\\end{equation}\n",
    "\n",
    "i.e. assume a balanced dataset as one with a representation of the 50% for each category."
   ]
  },
  {
   "cell_type": "code",
   "execution_count": null,
   "metadata": {
    "executionInfo": {
     "elapsed": 525,
     "status": "ok",
     "timestamp": 1605207372616,
     "user": {
      "displayName": "Juan Jose Manjarin",
      "photoUrl": "https://lh3.googleusercontent.com/a-/AOh14GgROm1G9L6BfG7PCIlE0tJxJJ2QITgE4QN52iI2=s64",
      "userId": "04910883006985787828"
     },
     "user_tz": -60
    },
    "id": "pE2Eff85hKis"
   },
   "outputs": [],
   "source": [
    "tr_fem = truancy[truancy['gender'] == \"f\"]"
   ]
  },
  {
   "cell_type": "code",
   "execution_count": null,
   "metadata": {
    "colab": {
     "base_uri": "https://localhost:8080/"
    },
    "executionInfo": {
     "elapsed": 474,
     "status": "ok",
     "timestamp": 1605207374376,
     "user": {
      "displayName": "Juan Jose Manjarin",
      "photoUrl": "https://lh3.googleusercontent.com/a-/AOh14GgROm1G9L6BfG7PCIlE0tJxJJ2QITgE4QN52iI2=s64",
      "userId": "04910883006985787828"
     },
     "user_tz": -60
    },
    "id": "kEI32aR4hWj3",
    "outputId": "3b0cf4a8-25a0-4ccf-8a83-99a9dce80382"
   },
   "outputs": [],
   "source": [
    "x = len(tr_fem)\n",
    "n = len(truancy)\n",
    "phat = x/n\n",
    "\n",
    "NP = n*phat\n",
    "NQ = n*(1-phat)\n",
    "\n",
    "if NP >= 10:\n",
    "  if NQ >= 10:\n",
    "    print(\"We CAN use the Normal Approximation since np = {:<3.0f} and nq = {:<3.0f}\".format(NP,NQ))\n",
    "else:\n",
    "  print(\"We CANNOT use the Normal Approximation since np = {:<3.0f} and nq = {:<3.2f}\".format(NP,NQ))"
   ]
  },
  {
   "cell_type": "code",
   "execution_count": null,
   "metadata": {
    "colab": {
     "base_uri": "https://localhost:8080/"
    },
    "executionInfo": {
     "elapsed": 527,
     "status": "ok",
     "timestamp": 1605207376626,
     "user": {
      "displayName": "Juan Jose Manjarin",
      "photoUrl": "https://lh3.googleusercontent.com/a-/AOh14GgROm1G9L6BfG7PCIlE0tJxJJ2QITgE4QN52iI2=s64",
      "userId": "04910883006985787828"
     },
     "user_tz": -60
    },
    "id": "W4uac3RKht-U",
    "outputId": "a4bb93d7-5983-4ffd-9180-bb6c14019bb3"
   },
   "outputs": [],
   "source": [
    "# data\n",
    "p0 = 0.5\n",
    "SL = 0.01\n",
    "\n",
    "# statsmodels\n",
    "zstat, pval = smp.proportions_ztest(x, n, value = p0)\n",
    "\n",
    "# Critical value\n",
    "zcrit = ss.norm.isf(SL/2)\n",
    "\n",
    "print('z-statistic: ', round(zstat,2))\n",
    "print('z-critical:', round(zcrit,2))\n",
    "if zstat > zcrit:\n",
    "  print('Reject the NULL hypothesis')\n",
    "else:\n",
    "  print('Fail to Reject the NULL')"
   ]
  },
  {
   "cell_type": "markdown",
   "metadata": {
    "id": "5UIknILTlGcI"
   },
   "source": [
    "now using the formula directly"
   ]
  },
  {
   "cell_type": "code",
   "execution_count": null,
   "metadata": {
    "colab": {
     "base_uri": "https://localhost:8080/"
    },
    "executionInfo": {
     "elapsed": 796,
     "status": "ok",
     "timestamp": 1605207379853,
     "user": {
      "displayName": "Juan Jose Manjarin",
      "photoUrl": "https://lh3.googleusercontent.com/a-/AOh14GgROm1G9L6BfG7PCIlE0tJxJJ2QITgE4QN52iI2=s64",
      "userId": "04910883006985787828"
     },
     "user_tz": -60
    },
    "id": "TaRr210tlDX6",
    "outputId": "2d6a0d02-8cbd-41cf-97d9-46cbf577a2c5"
   },
   "outputs": [],
   "source": [
    "# data\n",
    "p0 = 0.5\n",
    "SL = 0.01\n",
    "\n",
    "# formula\n",
    "zstat = (phat - p0)/np.sqrt(phat*(1-phat)/n)\n",
    "\n",
    "# Critical value\n",
    "zcrit = ss.norm.isf(SL/2)\n",
    "\n",
    "print('z-statistic: ', round(zstat,2))\n",
    "print('z-critical:', round(zcrit,2))\n",
    "if zstat > zcrit:\n",
    "  print('Reject the NULL hypothesis')\n",
    "else:\n",
    "  print('Fail to Reject the NULL')"
   ]
  },
  {
   "cell_type": "markdown",
   "metadata": {
    "id": "hqHO_rZalWpX"
   },
   "source": [
    "We obtain the same result in which we fail to reject the NULL, implying that for a 1% we do not find evidence against the hypothesis that the population of this study is balanced"
   ]
  },
  {
   "cell_type": "markdown",
   "metadata": {
    "id": "5AReCG43BP0h"
   },
   "source": [
    "Let's now use the **p-value**"
   ]
  },
  {
   "cell_type": "code",
   "execution_count": null,
   "metadata": {
    "colab": {
     "base_uri": "https://localhost:8080/"
    },
    "executionInfo": {
     "elapsed": 635,
     "status": "ok",
     "timestamp": 1605207383248,
     "user": {
      "displayName": "Juan Jose Manjarin",
      "photoUrl": "https://lh3.googleusercontent.com/a-/AOh14GgROm1G9L6BfG7PCIlE0tJxJJ2QITgE4QN52iI2=s64",
      "userId": "04910883006985787828"
     },
     "user_tz": -60
    },
    "id": "9V1KHMH6BQNg",
    "outputId": "0f484ba6-3a5d-4354-9bee-e6076554a4bb"
   },
   "outputs": [],
   "source": [
    "# data\n",
    "p0 = 0.5\n",
    "SL = 0.01\n",
    "\n",
    "# statsmodels\n",
    "zstat, pval = smp.proportions_ztest(x, n, value = p0)\n",
    "\n",
    "print('p-value: ', round(pval,4))\n",
    "print('alpha:', round(SL,4))\n",
    "if pval < SL:\n",
    "  print('Reject the NULL hypothesis')\n",
    "else:\n",
    "  print('Fail to Reject the NULL')"
   ]
  },
  {
   "cell_type": "code",
   "execution_count": null,
   "metadata": {
    "colab": {
     "base_uri": "https://localhost:8080/"
    },
    "executionInfo": {
     "elapsed": 502,
     "status": "ok",
     "timestamp": 1605207385588,
     "user": {
      "displayName": "Juan Jose Manjarin",
      "photoUrl": "https://lh3.googleusercontent.com/a-/AOh14GgROm1G9L6BfG7PCIlE0tJxJJ2QITgE4QN52iI2=s64",
      "userId": "04910883006985787828"
     },
     "user_tz": -60
    },
    "id": "zFfRW2c6Ch1_",
    "outputId": "e53ba9a1-8ae4-4844-de0e-14bb5782bfb2"
   },
   "outputs": [],
   "source": [
    "# Data\n",
    "p0 = 0.5\n",
    "SL = 0.01\n",
    "\n",
    "zstat = (phat - p0)/np.sqrt(phat*(1-phat)/n)\n",
    "pval = 2 * ss.norm.sf(zstat)\n",
    "\n",
    "print('p-value: ', round(pval,4))\n",
    "print('alpha:', round(SL,4))\n",
    "if pval < SL:\n",
    "  print('Reject the NULL hypothesis')\n",
    "else:\n",
    "  print('Fail to Reject the NULL')"
   ]
  },
  {
   "cell_type": "markdown",
   "metadata": {
    "id": "frBGczqHKCle"
   },
   "source": [
    "**It has been argued that the proportion of females is slightly greater, in fact, that it is 52%. Find the probability that you may detect this bias in the sample if it is actually true**"
   ]
  },
  {
   "cell_type": "markdown",
   "metadata": {
    "id": "9z-wx6G5Kke9"
   },
   "source": [
    "The decision scheme is then\n",
    "\n",
    "\\begin{equation}\n",
    "H_0:\\{P = 0.5\\},\\quad H_1:\\{ P = 0.52\\}\n",
    "\\end{equation}"
   ]
  },
  {
   "cell_type": "code",
   "execution_count": null,
   "metadata": {
    "colab": {
     "base_uri": "https://localhost:8080/"
    },
    "executionInfo": {
     "elapsed": 494,
     "status": "ok",
     "timestamp": 1605207389027,
     "user": {
      "displayName": "Juan Jose Manjarin",
      "photoUrl": "https://lh3.googleusercontent.com/a-/AOh14GgROm1G9L6BfG7PCIlE0tJxJJ2QITgE4QN52iI2=s64",
      "userId": "04910883006985787828"
     },
     "user_tz": -60
    },
    "id": "YZ3m5M99J8PH",
    "outputId": "d3eb6d3b-2c2e-4553-8c54-206d9835a375"
   },
   "outputs": [],
   "source": [
    "# Data\n",
    "p0 = 0.5\n",
    "p1 = 0.52\n",
    "SL = 0.01\n",
    "\n",
    "# Standard Error\n",
    "SE = np.sqrt(phat*(1-phat)/n)\n",
    "\n",
    "# Critical Value\n",
    "zcrit = ss.norm.isf(SL/2)\n",
    "\n",
    "# Effect Size\n",
    "size = (p0-p1)/SE\n",
    "\n",
    "# Power\n",
    "power = ss.norm.sf(size+zcrit) + ss.norm.cdf(size-zcrit)\n",
    "beta = 1-power\n",
    "\n",
    "power, beta"
   ]
  },
  {
   "cell_type": "markdown",
   "metadata": {
    "id": "wRYuatnFMc1f"
   },
   "source": [
    "---\n",
    "## <font color=\"slateblue\">Waiting at the ER</font>\n",
    "\n",
    "**ER wait times at a hospital were being analyzed. The previous year's average was 128 minutes. Suppose that this year's average wait time is 135 minutes. We would like to know whether this year average waiting time is just an \"accident\" and we  can still consider that the average wating time has not changed, or whether the average waiting time is now different from 128 minutes.**\n",
    "\n",
    "  * **Provide the hypotheses for this situation in plain language**\n",
    "  * **If we plan to collect a sample size of $n=64$, what values could $\\bar{x}$ take so that we reject $H_0$? Suppose the sample standard deviation (39 minutes) is the population standard deviation. You may assume that the conditions for the nearly normal model for $\\bar{x}$ are satisfied.**\n",
    "  * **Calculate the probability of a Type 2 error.**"
   ]
  },
  {
   "cell_type": "markdown",
   "metadata": {
    "id": "7nuCWkixM4qe"
   },
   "source": [
    "\\begin{equation}\n",
    "H_0:\\{\\mu = 128\\},\\quad H_1:\\{\\mu\\neq 128\\}\n",
    "\\end{equation}"
   ]
  },
  {
   "cell_type": "code",
   "execution_count": null,
   "metadata": {
    "colab": {
     "base_uri": "https://localhost:8080/"
    },
    "executionInfo": {
     "elapsed": 481,
     "status": "ok",
     "timestamp": 1605207406259,
     "user": {
      "displayName": "Juan Jose Manjarin",
      "photoUrl": "https://lh3.googleusercontent.com/a-/AOh14GgROm1G9L6BfG7PCIlE0tJxJJ2QITgE4QN52iI2=s64",
      "userId": "04910883006985787828"
     },
     "user_tz": -60
    },
    "id": "aDZ0JvPQMdu7",
    "outputId": "1dd64123-ecc3-410a-c086-1fe0e8c98027"
   },
   "outputs": [],
   "source": [
    "# Data\n",
    "mu0 = 128\n",
    "n = 64\n",
    "stdev = 39\n",
    "SL = 0.05\n",
    "\n",
    "# Margin of Error\n",
    "zcrit = ss.norm.isf(SL/2)\n",
    "ME = zcrit * stdev / np.sqrt(n)\n",
    "\n",
    "lower = mu0 - ME\n",
    "upper = mu0 + ME\n",
    "lower, upper"
   ]
  },
  {
   "cell_type": "code",
   "execution_count": null,
   "metadata": {
    "colab": {
     "base_uri": "https://localhost:8080/"
    },
    "executionInfo": {
     "elapsed": 637,
     "status": "ok",
     "timestamp": 1605207631280,
     "user": {
      "displayName": "Juan Jose Manjarin",
      "photoUrl": "https://lh3.googleusercontent.com/a-/AOh14GgROm1G9L6BfG7PCIlE0tJxJJ2QITgE4QN52iI2=s64",
      "userId": "04910883006985787828"
     },
     "user_tz": -60
    },
    "id": "4E4w19_Rz49e",
    "outputId": "f5a6b15f-6059-400a-da34-d0db6dc74b17"
   },
   "outputs": [],
   "source": [
    "# Power\n",
    "mu1 = 135\n",
    "low = (lower - mu1)/(stdev/np.sqrt(n))\n",
    "up =  (upper - mu1)/(stdev/np.sqrt(n))\n",
    "power = ss.norm.sf(up) + ss.norm.cdf(low)\n",
    "print('\\nNormal Approximation')\n",
    "print('-'*20)\n",
    "print('The power using the normal appoximation is: ', round(power, 4))\n",
    "\n",
    "# Power using the t-distribution\n",
    "mu1 = 135\n",
    "low = (lower - mu1)/(stdev/np.sqrt(n))\n",
    "up =  (upper - mu1)/(stdev/np.sqrt(n))\n",
    "power = ss.t.sf(up, n-1) + ss.t.cdf(low, n-1)\n",
    "print('\\nt-Distribution')\n",
    "print('-'*20)\n",
    "print('The power using the t-distribution is: ', round(power, 4))\n",
    "\n",
    "# Power using statsmodels\n",
    "from statsmodels.stats.power import TTestPower\n",
    "analysis = TTestPower()\n",
    "powerTest = analysis.power(effect_size=(mu1-mu0)/stdev, nobs=n, alpha=SL, alternative='two-sided')\n",
    "\n",
    "print('\\nStatsmodels')\n",
    "print('-'*20)\n",
    "print('The Probability of a Type II error is the {:4.2%}'.format(1 - powerTest) +\n",
    "      '\\nThe Power of the Test is the {:4.2%}'.format(powerTest))"
   ]
  }
 ],
 "metadata": {
  "jupytext": {
   "text_representation": {
    "extension": ".md",
    "format_name": "myst",
    "format_version": 0.12,
    "jupytext_version": "1.9.1"
   }
  },
  "kernelspec": {
   "display_name": "Python 3",
   "name": "python3"
  },
  "language_info": {
   "codemirror_mode": {
    "name": "ipython",
    "version": 3
   },
   "file_extension": ".py",
   "mimetype": "text/x-python",
   "name": "python",
   "nbconvert_exporter": "python",
   "pygments_lexer": "ipython3",
   "version": "3.9.1+"
  },
  "source_map": [
   13,
   23,
   49,
   69,
   74,
   101,
   172,
   208,
   218,
   230,
   293,
   305,
   309,
   313,
   334,
   349,
   371,
   377,
   412,
   418,
   454,
   468,
   484,
   514,
   548,
   552,
   586,
   590,
   594,
   625,
   656,
   660,
   668,
   705,
   716,
   722,
   753
  ]
 },
 "nbformat": 4,
 "nbformat_minor": 4
}