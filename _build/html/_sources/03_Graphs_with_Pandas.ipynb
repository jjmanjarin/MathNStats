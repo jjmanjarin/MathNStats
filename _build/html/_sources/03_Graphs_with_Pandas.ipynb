{
 "cells": [
  {
   "cell_type": "markdown",
   "metadata": {
    "colab_type": "text",
    "id": "Xnlk-gmWujCv"
   },
   "source": [
    "# Graphics with Pandas\n",
    "\n",
    "We have seen how to use **matplotlib** to generate the basic graphs we may need in our statistical analysis. However, since the main data structure we are going to work with is the data frame which is defined in **pandas**, we may want to fully use this library to make the graphs.\n",
    "\n",
    "If we use this pandas approach, we must understand that each of the graphs are just methods associated with the data frame structure and then they are called directly from the data frame. Let's see it."
   ]
  },
  {
   "cell_type": "markdown",
   "metadata": {
    "colab_type": "text",
    "id": "Po0H-nf-036d"
   },
   "source": [
    "## 1.- The Data\n",
    "\n",
    "We already know how to connect to our drive, then let's load a data set from there and work with it"
   ]
  },
  {
   "cell_type": "code",
   "execution_count": 1,
   "metadata": {
    "colab": {
     "base_uri": "https://localhost:8080/",
     "height": 129
    },
    "colab_type": "code",
    "executionInfo": {
     "elapsed": 142073,
     "status": "ok",
     "timestamp": 1568641125183,
     "user": {
      "displayName": "Juan Jose Manjarin",
      "photoUrl": "",
      "userId": "04910883006985787828"
     },
     "user_tz": -120
    },
    "id": "je5NSoLI0QH4",
    "outputId": "d741c81c-0c41-43af-d0a2-a2bac0655e38"
   },
   "outputs": [
    {
     "ename": "ModuleNotFoundError",
     "evalue": "No module named 'google'",
     "output_type": "error",
     "traceback": [
      "\u001b[0;31m---------------------------------------------------------------------------\u001b[0m",
      "\u001b[0;31mModuleNotFoundError\u001b[0m                       Traceback (most recent call last)",
      "\u001b[0;32m<ipython-input-1-9910662a8b8a>\u001b[0m in \u001b[0;36m<module>\u001b[0;34m\u001b[0m\n\u001b[0;32m----> 1\u001b[0;31m \u001b[0;32mfrom\u001b[0m \u001b[0mgoogle\u001b[0m\u001b[0;34m.\u001b[0m\u001b[0mcolab\u001b[0m \u001b[0;32mimport\u001b[0m \u001b[0mdrive\u001b[0m\u001b[0;34m\u001b[0m\u001b[0;34m\u001b[0m\u001b[0m\n\u001b[0m\u001b[1;32m      2\u001b[0m \u001b[0mdrive\u001b[0m\u001b[0;34m.\u001b[0m\u001b[0mmount\u001b[0m\u001b[0;34m(\u001b[0m\u001b[0;34m'mydrive'\u001b[0m\u001b[0;34m)\u001b[0m\u001b[0;34m\u001b[0m\u001b[0;34m\u001b[0m\u001b[0m\n",
      "\u001b[0;31mModuleNotFoundError\u001b[0m: No module named 'google'"
     ]
    }
   ],
   "source": [
    "from google.colab import drive\n",
    "drive.mount('mydrive')"
   ]
  },
  {
   "cell_type": "markdown",
   "metadata": {
    "colab_type": "text",
    "id": "9IB1K1P50Tq7"
   },
   "source": [
    "now we load the dataset"
   ]
  },
  {
   "cell_type": "code",
   "execution_count": null,
   "metadata": {
    "colab": {},
    "colab_type": "code",
    "id": "HRP2xCQl0a1b"
   },
   "outputs": [],
   "source": [
    "import pandas as pd"
   ]
  },
  {
   "cell_type": "markdown",
   "metadata": {
    "colab_type": "text",
    "id": "_Tb1Xip90bIe"
   },
   "source": [
    "remember that we need the pandas library!"
   ]
  },
  {
   "cell_type": "code",
   "execution_count": null,
   "metadata": {
    "colab": {},
    "colab_type": "code",
    "id": "XD-mWn4gVtKU"
   },
   "outputs": [],
   "source": [
    "mydf = pd.read_csv(\"/content/mydrive/My Drive/Statistics and Data Analysis - 2019/Data Sets/forestarea.csv\")"
   ]
  },
  {
   "cell_type": "code",
   "execution_count": null,
   "metadata": {
    "colab": {
     "base_uri": "https://localhost:8080/",
     "height": 226
    },
    "colab_type": "code",
    "executionInfo": {
     "elapsed": 582,
     "status": "ok",
     "timestamp": 1567159109992,
     "user": {
      "displayName": "Juan Jose Manjarin",
      "photoUrl": "",
      "userId": "04910883006985787828"
     },
     "user_tz": -120
    },
    "id": "vxLqb9Hg0Vtp",
    "outputId": "865a956f-9eee-47a1-deaf-09845ab0a7ed"
   },
   "outputs": [],
   "source": [
    "mydf = pd.read_csv(\"/content/sample_data/california_housing_train.csv\")\n",
    "mydf.head()"
   ]
  },
  {
   "cell_type": "markdown",
   "metadata": {
    "colab_type": "text",
    "id": "iQKauFj8075O"
   },
   "source": [
    "## 2.- Histograms\n",
    "\n",
    "Before going on, let's set the seaborn style for all our plots"
   ]
  },
  {
   "cell_type": "code",
   "execution_count": null,
   "metadata": {
    "colab": {},
    "colab_type": "code",
    "id": "B451rmImj37E"
   },
   "outputs": [],
   "source": [
    "import matplotlib.pyplot as plt\n",
    "plt.style.use(\"seaborn\")"
   ]
  },
  {
   "cell_type": "markdown",
   "metadata": {
    "colab_type": "text",
    "id": "bVzs_g4IkNC_"
   },
   "source": [
    "Let's take as variable `total_rooms`, then its histogram is"
   ]
  },
  {
   "cell_type": "code",
   "execution_count": null,
   "metadata": {
    "colab": {
     "base_uri": "https://localhost:8080/",
     "height": 361
    },
    "colab_type": "code",
    "executionInfo": {
     "elapsed": 826,
     "status": "ok",
     "timestamp": 1567159345351,
     "user": {
      "displayName": "Juan Jose Manjarin",
      "photoUrl": "",
      "userId": "04910883006985787828"
     },
     "user_tz": -120
    },
    "id": "_oNXXjJd0kH-",
    "outputId": "176868d9-d1bc-40b3-b246-13fec30f1eab"
   },
   "outputs": [],
   "source": [
    "mydf[\"total_rooms\"].hist(color = \"lightgreen\", ec = \"darkgreen\")\n",
    "\n",
    "plt.xlabel(\"Total Rooms\")\n",
    "plt.ylabel(\"Frequency\")\n",
    "plt.show()"
   ]
  },
  {
   "cell_type": "markdown",
   "metadata": {
    "colab_type": "text",
    "id": "WZO3QRQ4LRyp"
   },
   "source": [
    "since we are using matplotlib, everything we know about it can be used in these plots"
   ]
  },
  {
   "cell_type": "markdown",
   "metadata": {
    "colab_type": "text",
    "id": "Tkg5Lu3K1iq8"
   },
   "source": [
    "## 3.- Boxplots\n",
    "\n",
    "Boxplots have a particularity: the function does not accept a Series format, which means that we cannot use the single bracket notation (go back to the selection in pandas section) and must use double brackets"
   ]
  },
  {
   "cell_type": "code",
   "execution_count": null,
   "metadata": {
    "colab": {
     "base_uri": "https://localhost:8080/",
     "height": 365
    },
    "colab_type": "code",
    "executionInfo": {
     "elapsed": 746,
     "status": "ok",
     "timestamp": 1567163864262,
     "user": {
      "displayName": "Juan Jose Manjarin",
      "photoUrl": "",
      "userId": "04910883006985787828"
     },
     "user_tz": -120
    },
    "id": "Mmsx1ots1Ggx",
    "outputId": "03a0ae06-9826-48d0-cf2c-cdb5b05c35f7"
   },
   "outputs": [],
   "source": [
    "mydf[[\"total_rooms\"]].boxplot(patch_artist = True,\n",
    "                              showmeans = True,\n",
    "                              widths = 0.6,\n",
    "                              flierprops = dict(marker = 'o',\n",
    "                                                markerfacecolor = 'red'))"
   ]
  },
  {
   "cell_type": "markdown",
   "metadata": {
    "colab_type": "text",
    "id": "9u37p09UMidw"
   },
   "source": [
    "## 4.- Bar Plots\n",
    "\n",
    "Consider the same example we had in matplotlib in which we had a dataframe grouped by gender and the activity level, the dataframe was (since it was randomly generated without a seed the values may change)"
   ]
  },
  {
   "cell_type": "code",
   "execution_count": null,
   "metadata": {
    "colab": {
     "base_uri": "https://localhost:8080/",
     "height": 144
    },
    "colab_type": "code",
    "executionInfo": {
     "elapsed": 713,
     "status": "ok",
     "timestamp": 1567163429773,
     "user": {
      "displayName": "Juan Jose Manjarin",
      "photoUrl": "",
      "userId": "04910883006985787828"
     },
     "user_tz": -120
    },
    "id": "0miqjBIuNpwG",
    "outputId": "624c4822-0f13-4b2d-aea9-549dad946397"
   },
   "outputs": [],
   "source": [
    "df = pd.DataFrame({\"females\": [69, 81, 85], \n",
    "                   \"males\": [94, 95, 76]}, \n",
    "                  index = [\"low\", \"mid\", \"high\"])\n",
    "df"
   ]
  },
  {
   "cell_type": "markdown",
   "metadata": {
    "colab_type": "text",
    "id": "eCKTA86nPJXb"
   },
   "source": [
    "For a data frame we can call directly to the **plot** function and then the corresponding graph, in this case the **bar**. Note that this can also be done using `plot(kind = \"bar\")`"
   ]
  },
  {
   "cell_type": "code",
   "execution_count": null,
   "metadata": {
    "colab": {
     "base_uri": "https://localhost:8080/",
     "height": 361
    },
    "colab_type": "code",
    "executionInfo": {
     "elapsed": 696,
     "status": "ok",
     "timestamp": 1567163703652,
     "user": {
      "displayName": "Juan Jose Manjarin",
      "photoUrl": "",
      "userId": "04910883006985787828"
     },
     "user_tz": -120
    },
    "id": "ujm4ny2eOLnZ",
    "outputId": "08254b02-3f20-4f85-ecda-23969a5e98cf"
   },
   "outputs": [],
   "source": [
    "df.plot.bar()\n",
    "\n",
    "plt.xticks(rotation = 0)\n",
    "plt.xlabel(\"Activity Level\")\n",
    "plt.ylabel(\"Frequency\")\n",
    "\n",
    "plt.show()"
   ]
  },
  {
   "cell_type": "markdown",
   "metadata": {
    "colab_type": "text",
    "id": "rwluSe2ARLM3"
   },
   "source": [
    "you can go back to matplotlib and see how pandas simplfies this considerably"
   ]
  },
  {
   "cell_type": "markdown",
   "metadata": {
    "colab_type": "text",
    "id": "k59yZXj4QrAe"
   },
   "source": [
    "## 5.- Scatter Plots\n",
    "\n",
    "Just as we have done with the bar plots, the plot function can be used to call for other graphs. Of particular importance is the scatterplot which can be easily found as"
   ]
  },
  {
   "cell_type": "code",
   "execution_count": null,
   "metadata": {
    "colab": {
     "base_uri": "https://localhost:8080/",
     "height": 361
    },
    "colab_type": "code",
    "executionInfo": {
     "elapsed": 1354,
     "status": "ok",
     "timestamp": 1567164043087,
     "user": {
      "displayName": "Juan Jose Manjarin",
      "photoUrl": "",
      "userId": "04910883006985787828"
     },
     "user_tz": -120
    },
    "id": "oXEs0-tMP1Cw",
    "outputId": "ea6a22a9-e507-4294-ad0b-b9aa93b74c06"
   },
   "outputs": [],
   "source": [
    "mydf.plot.scatter(\"median_income\", \"median_house_value\")\n",
    "plt.show()"
   ]
  },
  {
   "cell_type": "markdown",
   "metadata": {
    "colab_type": "text",
    "id": "u5cxxuUTQ3C7"
   },
   "source": [
    "and now we are free to use all the layers we know from matplotlib"
   ]
  }
 ],
 "metadata": {
  "jupytext": {
   "text_representation": {
    "extension": ".md",
    "format_name": "myst",
    "format_version": 0.12,
    "jupytext_version": "1.9.1"
   }
  },
  "kernelspec": {
   "display_name": "Python 3",
   "language": "python",
   "name": "python3"
  },
  "language_info": {
   "codemirror_mode": {
    "name": "ipython",
    "version": 3
   },
   "file_extension": ".py",
   "mimetype": "text/x-python",
   "name": "python",
   "nbconvert_exporter": "python",
   "pygments_lexer": "ipython3",
   "version": "3.9.1+"
  },
  "source_map": [
   14,
   23,
   29,
   51,
   55,
   63,
   67,
   75,
   97,
   103,
   112,
   116,
   141,
   145,
   151,
   176,
   182,
   206,
   210,
   237,
   241,
   247,
   269
  ]
 },
 "nbformat": 4,
 "nbformat_minor": 4
}