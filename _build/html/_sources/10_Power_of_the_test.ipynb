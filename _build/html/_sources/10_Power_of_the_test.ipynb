{
 "cells": [
  {
   "cell_type": "markdown",
   "metadata": {},
   "source": [
    "# Power of the Test"
   ]
  },
  {
   "cell_type": "markdown",
   "metadata": {},
   "source": [
    "This case is when we fail to reject $H_0$ but the true hypothesis is $H_1$,\n",
    "i.e.\n",
    "\n",
    "\\begin{equation}\n",
    "\\beta= P(X\\in C^*|H_1 )\n",
    "\\end{equation}\n",
    "\n",
    "when computing the power of the test we basically find the probability that we are above (or below, depending on the test) the critical value if the true hypothesis is the alternative one, in order to do so, we must choose a value in that critical region and the power of the test will be different depending on that value.\n",
    "\n",
    "\\begin{equation}\n",
    "H_0:\\{ \\mu=\\mu_0\\},\\quad H_1:\\{ \\mu=\\mu_1\\}\n",
    "\\end{equation}\n",
    "\n",
    "The interpretation of the power of the test goes along the following lines. Suppose we are performing a test on the effectiveness of a new medicine, in particular let's say we have a control group and a treatment group and then we first want to see if there is significant difference between the way the medicine acts in both groups (the null hypothesis would be that there is not), but now we want to go a bit farther since it would be dangerous if the levels of a blood component are depressed too much, then we may want to know what is the probability that if this drop actually occurs, we may detect it from the data of our sample. This last probability is precisely the power of the test.\n",
    "\n",
    "The power of the test may be computed in two different ways (results will be different but in the same direction). The first method implies choosing a significance level, say the $5\\%$ and then perform the calculations which will not make any explicit use of the sample mean value. The second method implies choosing as significance level the p-value and then we make explicit use of the sample mean value as defining the boundary of the critical region. If we are going to compute the power using R we must understand that it is the first option the one used in the functions, and then we do not need to use our data set as argument of the functions. If we would like to compute the power from the second option, then we have to find the p-value and then use it as argument of the second function.\\\\\n",
    "\n",
    "{\\sc{Example.}} Find and interpret the power of the test in the example of the ages of students if you want are interested in knowing if you could detect that the true mean age in the group is 21 years old.\\\\\n",
    "\n",
    "This means that our hypotheses are\n",
    "\n",
    "\\begin{equation}\n",
    "H_0:\\{\\mu=25\\},\\quad H_1:\\{\\mu=21\\}\n",
    "\\end{equation}\n",
    "\n",
    "for the computation in R we need the true difference of the means\n",
    "\n",
    "\\begin{equation}\n",
    "\\Delta = \\mu_0-\\mu_1=25-21=4\n",
    "\\end{equation}\n",
    "\n",
    "then we have\n",
    "\n",
    "```{r}\n",
    "age <- c(18.5,17.6,21.1,17.1,49.0,25,18.2,17.9,18.1,18.0,\n",
    "         18.9,17.4,25.4,17.4,19.5,17,3,25.3,27.7,24.0)\n",
    "\n",
    "m <- mean(age)\n",
    "sdev <- sd(age)\n",
    "n <- as.numeric(length(age))\n",
    "\n",
    "power.t.test(n=n,\n",
    "             delta=4,\n",
    "             sd=sdev,\n",
    "             alternative = \"t\"\n",
    "             )\n",
    "```\n",
    "\n",
    "where the default significance level is $5\\%$, however if we want to use the p-value we should use find it and either store it in one variable or pass it directly as an argument\n",
    "\n",
    "```{r}\n",
    "slevel <- t.test(age,mu=25,alternative = \"t\")$p.value\n",
    "power.t.test(n=n,\n",
    "             delta=4,\n",
    "             sig.level=slevel,\n",
    "             sd=sdev,\n",
    "             alternative = \"t\"\n",
    "             )\n",
    "```\n",
    "\n",
    "In both cases we obtain a list of outputs in which we find the element power that returns the power of the test. Then\n",
    "\n",
    "\\begin{equation}\n",
    "\\text{power}_1=0.3131,\\quad \\text{power}_2=0.2689\n",
    "\\end{equation}\n",
    "\n",
    "In this case we have used an alternative two-tailed test since that was our previous test. However, we will later see that this is not trully a must and we could use a one-tailed test instead.\n",
    "\n",
    "This implies that if the true mean age were 21 years old, the probability that we may detect it from our sample would be jsut the $31.31\\%$ (or $26.89\\%$), a rather low probability."
   ]
  },
  {
   "cell_type": "markdown",
   "metadata": {},
   "source": [
    "## Sample Size and Power\n",
    "\n",
    "Just as in the case of the p-value, the power of the test should reflect the properties of the problem and the severity, in this case, of a type II error. Typically we will require a value for the power of the test between $80\\%$ and $90\\%$. If we impose a power, the only paramenter that may change is the sample size for a fixed significance level. This in turn implies that we should not use the p-value in this computation: if we could vary the sample size the p-value would change too, then we proceed by considering an $\\alpha$ and then imposing a $\\beta$ to determine the smaple size. In R we can use the same functions as before but leaving the sample size argument free.\\\\\n",
    "\n",
    "{\\sc{Example.}} Find the sample size needed to have a power of the test of the $80\\%$, $85\\%$ and $90\\%$ in the previous examples if $\\alpha=0.05$.\\\\\n",
    "\n",
    "We can directly use\n",
    "\n",
    "```{r}\n",
    "power.t.test(delta=4,\n",
    "             power = 0.80,\n",
    "             sd=sdev,\n",
    "             alternative = \"t\"\n",
    "             )\n",
    "```\n",
    "\n",
    "and the same changing the value of {\\emph{power}}. What we obtain is\n",
    "\n",
    "\\begin{equation}\n",
    "n_{80}=69.72,\\quad n_{85}=79.62,\\quad n_{80}=93.01\n",
    "\\end{equation}\n",
    "\n",
    "i.e. a way larger sample than the one we have.\\\\\n",
    "\n",
    "The example above let us see that there is a dependency betweeen the sample size and the power of the test for every fixed significance level. This may allow us to make a plot Power vs. n, known as {\\bf{power curve}}.\\\\\n",
    "\n",
    "{\\sc{Example.}} Use R to plot the power curve in the example above.\\\\\n",
    "\n",
    "The idea behind the code is that we have to build a function that returns the value of $n$ for a set of values of the power, for this we can create a vector storing the values of the power and for a fixed value of $\\alpha=0.05$, create another empty array in which we will store the corresponding sample sizes and then find the values of $n$, which are just the element $n$ in the output list of the test. After this we create an empty plot with the right assignment of axis and then plot the power vs. size line.\\\\\n",
    "\n",
    "```{r}\n",
    "p <- seq(0.10,0.99,0.01)\n",
    "np <- as.numeric(length(p))\n",
    "\n",
    "arr.2t <- array(dim = np)\n",
    "for(i in 1:np){\n",
    "  pow <- power.t.test(delta = 4,\n",
    "                      sd=sdev,\n",
    "                      power = p[i],\n",
    "                      alternative = \"t\")\n",
    "  arr.2t[i] <- ceiling(pow$n)\n",
    "}\n",
    "\n",
    "xrange <- range(arr.2t)\n",
    "yrange <- range(p)\n",
    "plot(xrange,\n",
    "      yrange,\n",
    "      type=\"n\",\n",
    "      ylab=\"Power of the test\",\n",
    "      xlab=\"Sample Size\",\n",
    "      main = \"Power\")\n",
    "lines(arr.2t,\n",
    "      p,\n",
    "      col=\"blue\",\n",
    "      lwd=1)\n",
    "```\n",
    "\n",
    "The plot we find is the following\n",
    "\n",
    "\\begin{center}\n",
    "  \\includegraphics[scale=0.4]{Images/Power.eps}\n",
    "\\end{center}\n",
    "\n",
    "{\\sc{Going Further.}} Can you make the following plot to see the dependency of the power with the difference $\\Delta$? How would you interpret it?\n",
    "\n",
    "\\begin{center}\n",
    "  \\includegraphics[scale=0.5]{Images/PowDelta.eps}\n",
    "\\end{center}\n",
    "\n",
    "```{r}\n",
    "%% The code is the following:\\\\\n",
    "\n",
    "%% \\lstset{language=R}\n",
    "%% \\begin{lstlisting}\n",
    "%% delta <- seq(-20.1,20.1,1)\n",
    "%% nd <- as.numeric(length(delta))\n",
    "\n",
    "%% n <- seq(10,20,2)\n",
    "%% nn <- as.numeric(length(n))\n",
    "\n",
    "%% pow.n <- array(dim = c(nn,nd))\n",
    "\n",
    "%% for(j in 1:nn){\n",
    "%%   for(i in 1:nd){\n",
    "%%     pow <- power.t.test(n=n[j],\n",
    "%%                         delta = delta[i],\n",
    "%%                         sd=sdev,\n",
    "%%                         alternative = \"t\")\n",
    "%%     pow.n[j,i] <- pow$power\n",
    "%%   }\n",
    "%% }\n",
    "\n",
    "%% xrange <- range(delta)\n",
    "%% yrange <- range(pow.n)\n",
    "%% colors <- rainbow(nn)\n",
    "%% plot(xrange,\n",
    "%%      yrange,\n",
    "%%      type=\"n\",\n",
    "%%      ylab=\"Power\",\n",
    "%%      xlab=\"Delta\",\n",
    "%%      main = \"Power of the Test\")\n",
    "%% for(i in 1:nn){\n",
    "%%   lines(delta,\n",
    "%%         pow.n[i,],\n",
    "%%         col=colors[i],\n",
    "%%         lwd=1)\n",
    "%%   }\n",
    "%% legend(\"top\",\n",
    "%%        title = \"Sample Size\",\n",
    "%%        as.character(n),\n",
    "%%        fill = colors, bty=\"n\")\n",
    "%% \\end{lstlisting}\n",
    "```"
   ]
  },
  {
   "cell_type": "markdown",
   "metadata": {},
   "source": [
    "## How to Choose the Significance Level\n",
    "\n",
    "A very important point is that of what significance level we should choose for a study and, of course, since they are not independent, this affects the value of the power.\n",
    "\n",
    "The key point is that the significance level must reflect the importance of the consequences of a type I error. In the same sense, the election of $\\beta$ should reflect the consequences of a type II error, however, since decreasing $\\alpha$ increases $\\beta$ for the same sample size, we must be careful with this election.\n",
    "\n",
    "Suppose a pharmaceutical company is developing a new drug and in some previous tests they have found that it makes a great job with the illness it fights, but at the same time it has been detected some unwilling side effects that may result in the sudden death of the patient, then they are considering a new test in order to see if they should extend the studies or not. This scheme can be written as \n",
    "\n",
    "\\begin{equation}\n",
    "H_0:\\{\\text{side effects}\\},\\quad H_1:\\{\\text{no side effects}\\}\n",
    "\\end{equation}\n",
    "\n",
    "in this case, if our decision is a type I error, it implies that we may say that the drug does not produce the side effects when it truly does. Since we may want to minimize the probability that we fall into this wrong decision we should choose the smallest possible $\\alpha$ (in our previous discussions, the $1\\%$). However, if the unwilling side effects are related to headaches, nauseas or dizziness, the company may relax the $\\alpha$ to a $10\\%$ since it is not a high risk situation.\n",
    "\n",
    "This kind of situation is what makes us require very small p-values when performing some crucial experiments, for example, in particle physics, quality control or in other real life situations it is usually required that the p-value is located at 5 or 6 standard deviations from the null hypothesis. A value of 6 sigmas means that the probability outside of the null hypothesis in each tail of a two-tailed test is $0.00017\\%$ and so, the p-value is $1.7\\cdot 10^{-6}$, i.e. if the results were due to chance and we repeat the experiment 3.4 million times we expect that only 1 of them replicates the result.\n",
    "\n",
    "The way to impose both, a small significance level and a high power of the test is by increasing the sample size. This just will allow us to have balanced and small $\\alpha$ and $\\beta$. We can see this in the examples above using R as\\\\\n",
    "\n",
    "```r\n",
    "sizes <- c(3,40,100,200,300,400)\n",
    "ls <- as.numeric(length(sizes))\n",
    "\n",
    "tab <- matrix(sizes,ncol=1)\n",
    "v <- array(dim=ls)\n",
    "for(i in 1:ls){\n",
    "  pow <- power.t.test(n=tab[i,1],\n",
    "                      delta = 4,\n",
    "                      sd=sdev,\n",
    "                      sig.level = 0.001)\n",
    "  v[i] <- pow$power\n",
    "}\n",
    "tab <- cbind(tab,1-v)\n",
    "View(tab)\n",
    "```\n",
    "\n",
    "and then we find that\n",
    "\n",
    "\\begin{center}\n",
    "  \\begin{tabular}{ccc}\n",
    "    \\toprule[0.1em]\n",
    "            {\\bf{n}} & $\\alpha$ &  $\\beta$ \\\\\\midrule\n",
    "            3 & 0.001 & 0.998 \\\\\n",
    "            40 & 0.001 & 0.890 \\\\\n",
    "            100 & 0.001 & 0.483 \\\\\n",
    "            200 & 0.001 & 0..073 \\\\\n",
    "            300 & 0.001 & 0.006\\\\\n",
    "            400 & 0.001 & 0.0003 \\\\\n",
    "            \\bottomrule[0.1em]\n",
    "  \\end{tabular}\n",
    "\\end{center}"
   ]
  },
  {
   "cell_type": "code",
   "execution_count": 1,
   "metadata": {
    "colab": {},
    "colab_type": "code",
    "id": "ixN_inVwsmYg"
   },
   "outputs": [],
   "source": [
    "import numpy as np\n",
    "import pandas as pd\n",
    "import scipy.stats as ss\n",
    "import math\n",
    "\n",
    "from statsmodels.stats.power import TTestPower # There is no normal distribution here"
   ]
  },
  {
   "cell_type": "code",
   "execution_count": 2,
   "metadata": {
    "colab": {
     "base_uri": "https://localhost:8080/",
     "height": 35
    },
    "colab_type": "code",
    "executionInfo": {
     "elapsed": 1196,
     "status": "ok",
     "timestamp": 1587997084496,
     "user": {
      "displayName": "Juan Jose Manjarin",
      "photoUrl": "",
      "userId": "04910883006985787828"
     },
     "user_tz": -120
    },
    "id": "HRmv66Fpstuf",
    "outputId": "5bb65599-e40f-4b07-b26c-4444f11e7ac9"
   },
   "outputs": [
    {
     "ename": "ModuleNotFoundError",
     "evalue": "No module named 'google'",
     "output_type": "error",
     "traceback": [
      "\u001b[0;31m---------------------------------------------------------------------------\u001b[0m",
      "\u001b[0;31mModuleNotFoundError\u001b[0m                       Traceback (most recent call last)",
      "\u001b[0;32m<ipython-input-2-9910662a8b8a>\u001b[0m in \u001b[0;36m<module>\u001b[0;34m\u001b[0m\n\u001b[0;32m----> 1\u001b[0;31m \u001b[0;32mfrom\u001b[0m \u001b[0mgoogle\u001b[0m\u001b[0;34m.\u001b[0m\u001b[0mcolab\u001b[0m \u001b[0;32mimport\u001b[0m \u001b[0mdrive\u001b[0m\u001b[0;34m\u001b[0m\u001b[0;34m\u001b[0m\u001b[0m\n\u001b[0m\u001b[1;32m      2\u001b[0m \u001b[0mdrive\u001b[0m\u001b[0;34m.\u001b[0m\u001b[0mmount\u001b[0m\u001b[0;34m(\u001b[0m\u001b[0;34m'mydrive'\u001b[0m\u001b[0;34m)\u001b[0m\u001b[0;34m\u001b[0m\u001b[0;34m\u001b[0m\u001b[0m\n",
      "\u001b[0;31mModuleNotFoundError\u001b[0m: No module named 'google'"
     ]
    }
   ],
   "source": [
    "from google.colab import drive\n",
    "drive.mount('mydrive')"
   ]
  },
  {
   "cell_type": "code",
   "execution_count": null,
   "metadata": {
    "colab": {
     "base_uri": "https://localhost:8080/",
     "height": 206
    },
    "colab_type": "code",
    "executionInfo": {
     "elapsed": 1503,
     "status": "ok",
     "timestamp": 1587997091209,
     "user": {
      "displayName": "Juan Jose Manjarin",
      "photoUrl": "",
      "userId": "04910883006985787828"
     },
     "user_tz": -120
    },
    "id": "LgUDodQ_s5io",
    "outputId": "eecd7f22-6709-43ac-e7fd-8864be330fd1"
   },
   "outputs": [],
   "source": [
    "gifted = pd.read_csv('/content/mydrive/My Drive/IE - Statistics and Data Analysis - DUAL - 2019/DataSets/gifted.csv')\n",
    "gifted.head(5)"
   ]
  },
  {
   "cell_type": "markdown",
   "metadata": {
    "colab_type": "text",
    "id": "HxNXL9zmtGW0"
   },
   "source": [
    "**Using the `count` variable let's answer the following: In a report you have read that the average age at which gifted children are able to count up to 20 is 31 months. However, a new research claims that the children should be denoted as gifted only if this age is actually 30 months. Find the probability that you can detect such an average age from your sample if it were actaully the case. Use a significance level of 1%. What would be the sample size needed in case you want that this probability is 99%. Assume that the population standard deviation is of 3 months.**"
   ]
  },
  {
   "cell_type": "code",
   "execution_count": null,
   "metadata": {
    "colab": {
     "base_uri": "https://localhost:8080/",
     "height": 35
    },
    "colab_type": "code",
    "executionInfo": {
     "elapsed": 1178,
     "status": "ok",
     "timestamp": 1587997095364,
     "user": {
      "displayName": "Juan Jose Manjarin",
      "photoUrl": "",
      "userId": "04910883006985787828"
     },
     "user_tz": -120
    },
    "id": "q-k4iY7W0P4w",
    "outputId": "e14b0e57-2d5a-4718-fef7-6efaa6064d7b"
   },
   "outputs": [],
   "source": [
    "gifted['count'].mean()"
   ]
  },
  {
   "cell_type": "markdown",
   "metadata": {
    "colab_type": "text",
    "id": "nWtRMGxNyrT2"
   },
   "source": [
    "The decision scheme is\n",
    "\n",
    "\\begin{equation}\n",
    "H_0:\\{\\mu \\geq 31\\},\\quad H_1:\\{\\mu < 31\\}\n",
    "\\end{equation}\n",
    "\n",
    "so it is a left-tailed test. Once we have the alternative value, this becomes\n",
    "\n",
    "\\begin{equation}\n",
    "H_0:\\{\\mu = 31\\},\\quad H_1:\\{\\mu = 30\\}\n",
    "\\end{equation}"
   ]
  },
  {
   "cell_type": "code",
   "execution_count": null,
   "metadata": {
    "colab": {},
    "colab_type": "code",
    "id": "MiydU1mntWdf"
   },
   "outputs": [],
   "source": [
    "# population means\n",
    "mu0 = 31\n",
    "mu1 = 30\n",
    "\n",
    "# population standard deviation\n",
    "sigma = 3\n",
    "stdev = gifted['count'].std()\n",
    "\n",
    "# sample size\n",
    "n = len(gifted['count'])\n",
    "\n",
    "# significance level\n",
    "SL = 0.01"
   ]
  },
  {
   "cell_type": "markdown",
   "metadata": {
    "colab_type": "text",
    "id": "7ewZ2mZsvHQW"
   },
   "source": [
    "Let's find the **effect size** and the **z-value**"
   ]
  },
  {
   "cell_type": "code",
   "execution_count": null,
   "metadata": {
    "colab": {},
    "colab_type": "code",
    "id": "pf7zxsYlvQGA"
   },
   "outputs": [],
   "source": [
    "# Effect Size \n",
    "delta = mu0 - mu1\n",
    "\n",
    "# z value\n",
    "zval = ss.norm.isf(SL)"
   ]
  },
  {
   "cell_type": "markdown",
   "metadata": {
    "colab_type": "text",
    "id": "LGO7i4eYvh60"
   },
   "source": [
    "Now we can find the **beta** and the **power of the test**"
   ]
  },
  {
   "cell_type": "code",
   "execution_count": null,
   "metadata": {
    "colab": {
     "base_uri": "https://localhost:8080/",
     "height": 54
    },
    "colab_type": "code",
    "executionInfo": {
     "elapsed": 1098,
     "status": "ok",
     "timestamp": 1587997122761,
     "user": {
      "displayName": "Juan Jose Manjarin",
      "photoUrl": "",
      "userId": "04910883006985787828"
     },
     "user_tz": -120
    },
    "id": "g5HTO-qWvnX-",
    "outputId": "7b2f15d4-3b5a-469b-8c42-1eb09e3620d4"
   },
   "outputs": [],
   "source": [
    "# power of the test\n",
    "power = ss.norm.cdf(delta/(sigma/np.sqrt(n)) - zval)\n",
    "beta = 1 - power\n",
    "\n",
    "print('The power of the test is: {:1.8f}\\nThe beta is: {:1.8f}'.format(power, beta))"
   ]
  },
  {
   "cell_type": "markdown",
   "metadata": {
    "colab_type": "text",
    "id": "9DnsxbS1bGs2"
   },
   "source": [
    "Let's find the **sample size** needed for a power of the test of 99%"
   ]
  },
  {
   "cell_type": "code",
   "execution_count": null,
   "metadata": {
    "colab": {
     "base_uri": "https://localhost:8080/",
     "height": 35
    },
    "colab_type": "code",
    "executionInfo": {
     "elapsed": 977,
     "status": "ok",
     "timestamp": 1587997217767,
     "user": {
      "displayName": "Juan Jose Manjarin",
      "photoUrl": "",
      "userId": "04910883006985787828"
     },
     "user_tz": -120
    },
    "id": "l-cqMoLmbL0u",
    "outputId": "9b1741ba-0b7f-4533-e2b4-74d9864f20dd"
   },
   "outputs": [],
   "source": [
    "power = 0.99\n",
    "\n",
    "# B value\n",
    "B = ss.norm.ppf(power)\n",
    "\n",
    "# new sample sample size\n",
    "new_n = ((B + zval) * sigma / delta)**2\n",
    "\n",
    "# print the output\n",
    "print('The sample size needed is {:1.2f}'.format(np.ceil(new_n)))"
   ]
  },
  {
   "cell_type": "code",
   "execution_count": null,
   "metadata": {
    "colab": {
     "base_uri": "https://localhost:8080/",
     "height": 72
    },
    "colab_type": "code",
    "executionInfo": {
     "elapsed": 1541,
     "status": "ok",
     "timestamp": 1587997471571,
     "user": {
      "displayName": "Juan Jose Manjarin",
      "photoUrl": "",
      "userId": "04910883006985787828"
     },
     "user_tz": -120
    },
    "id": "ZpUAKdc6w8Zl",
    "outputId": "9554577c-16b6-4d13-a8c2-5710fb305bf6"
   },
   "outputs": [],
   "source": [
    "analysis = TTestPower()\n",
    "\n",
    "# find the power\n",
    "powerTest = analysis.solve_power(effect_size = (mu0 - mu1)/sigma, nobs = n, alpha = SL, alternative = 'larger')\n",
    "new_n = analysis.solve_power(effect_size = (mu0 - mu1)/sigma, power = power, alpha = SL, alternative = 'larger')\n",
    "\n",
    "# print the output\n",
    "print('The probability of a Type II error is {:1.6f}\\nThe power of the test is {:1.6f}'.format(1 - powerTest, powerTest))\n",
    "print('The sample size for a 99% of power is: ', np.ceil(new_n))"
   ]
  },
  {
   "cell_type": "markdown",
   "metadata": {
    "colab_type": "text",
    "id": "1rLeIMVC6bS5"
   },
   "source": [
    "**Using the `speak` variable let's answer the following: In a report you have read that the average age at which gifted children are able to speak is 17 months. However, a new research claims that the children should be denoted as gifted only if this age is actually 18.5 months. Find the probability that you can detect such an average age from your sample if it were actaully the case. Use a significance level of 5%. What would be the sample size needed in case you want that this probability is 95%**"
   ]
  },
  {
   "cell_type": "code",
   "execution_count": null,
   "metadata": {
    "colab": {
     "base_uri": "https://localhost:8080/",
     "height": 35
    },
    "colab_type": "code",
    "executionInfo": {
     "elapsed": 953,
     "status": "ok",
     "timestamp": 1587990718925,
     "user": {
      "displayName": "Juan Jose Manjarin",
      "photoUrl": "",
      "userId": "04910883006985787828"
     },
     "user_tz": -120
    },
    "id": "ZpiL72et6ibA",
    "outputId": "1725d0c6-75b4-4f9d-b5e4-98ff18b8e4dc"
   },
   "outputs": [],
   "source": [
    "gifted['speak'].mean()"
   ]
  },
  {
   "cell_type": "markdown",
   "metadata": {
    "colab_type": "text",
    "id": "QZYFFVf9QKdl"
   },
   "source": [
    "The decision scheme is \n",
    "\n",
    "\\begin{equation}\n",
    "H_0:\\{\\mu\\leq 17\\},\\quad H_1:\\{\\mu > 17\\}\n",
    "\\end{equation}\n",
    "\n",
    "then once we are given an alternative value, this becomes:\n",
    "\n",
    "\\begin{equation}\n",
    "H_0:\\{\\mu = 17\\},\\quad H_1:\\{\\mu = 18.5\\}\n",
    "\\end{equation}"
   ]
  },
  {
   "cell_type": "code",
   "execution_count": null,
   "metadata": {
    "colab": {},
    "colab_type": "code",
    "id": "KuAcaBVpQqfa"
   },
   "outputs": [],
   "source": [
    "# population means\n",
    "mu0 = 17\n",
    "mu1 = 18.5\n",
    "\n",
    "# sample values\n",
    "mean = gifted['speak'].mean()\n",
    "stdev = gifted['speak'].std()\n",
    "n = len(gifted['speak'])\n",
    "\n",
    "# significance level\n",
    "SL = 0.05"
   ]
  },
  {
   "cell_type": "code",
   "execution_count": null,
   "metadata": {
    "colab": {
     "base_uri": "https://localhost:8080/",
     "height": 54
    },
    "colab_type": "code",
    "executionInfo": {
     "elapsed": 902,
     "status": "ok",
     "timestamp": 1587997605759,
     "user": {
      "displayName": "Juan Jose Manjarin",
      "photoUrl": "",
      "userId": "04910883006985787828"
     },
     "user_tz": -120
    },
    "id": "Ek7M5ad3SLSP",
    "outputId": "91a750e5-5321-4f78-fe02-5aaca1e4fbd5"
   },
   "outputs": [],
   "source": [
    "# critical t\n",
    "tcrit = ss.t.isf(SL, n-1)\n",
    "\n",
    "# effect size\n",
    "delta = mu0 - mu1\n",
    "\n",
    "# beta value\n",
    "beta_val = delta / (stdev/(np.sqrt(n))) + tcrit\n",
    "\n",
    "# power of the test\n",
    "beta = ss.t.cdf(beta_val, n-1)\n",
    "power = 1 - beta\n",
    "\n",
    "# print the output\n",
    "print('The probability of a Type II error is {:1.6f}\\nThe power of the test is {:1.6f}'.format(beta, power))"
   ]
  },
  {
   "cell_type": "markdown",
   "metadata": {
    "colab_type": "text",
    "id": "cOc25eahTNVn"
   },
   "source": [
    "The probability that we may detect that the average age at which gifted children speak is 18.5 months is 86.0.8% if that age is actually the true age."
   ]
  },
  {
   "cell_type": "markdown",
   "metadata": {
    "colab_type": "text",
    "id": "OmX-_BJypCFh"
   },
   "source": [
    "Let's now use the `statsmodels` module to find the value of the power of the test"
   ]
  },
  {
   "cell_type": "code",
   "execution_count": null,
   "metadata": {
    "colab": {
     "base_uri": "https://localhost:8080/",
     "height": 54
    },
    "colab_type": "code",
    "executionInfo": {
     "elapsed": 967,
     "status": "ok",
     "timestamp": 1587997608887,
     "user": {
      "displayName": "Juan Jose Manjarin",
      "photoUrl": "",
      "userId": "04910883006985787828"
     },
     "user_tz": -120
    },
    "id": "tLzuB3YCpIfA",
    "outputId": "989a3b68-b22e-411a-c4bc-fddd92d7d31e"
   },
   "outputs": [],
   "source": [
    "analysis = TTestPower()\n",
    "powerTest = analysis.solve_power(effect_size = (mu0 - mu1)/stdev, nobs = n, alpha = SL, alternative = 'smaller')\n",
    "\n",
    "print('The probability of a Type II error is {:1.6f}\\nThe power of the test is {:1.6f}'.format(1 - powerTest, powerTest))"
   ]
  },
  {
   "cell_type": "markdown",
   "metadata": {
    "colab_type": "text",
    "id": "BwHTyR4VqtGd"
   },
   "source": [
    "I have used the alternative as smaller because $\\mu_1$ is greater than $\\mu_0$ and then the argument for the effect size in `power()` is negative. If you want to respect the decision scheme structure you have to ALWAYS use a positive value of the `effect_size` argument"
   ]
  },
  {
   "cell_type": "markdown",
   "metadata": {
    "colab_type": "text",
    "id": "wGZJG4ZBVDdB"
   },
   "source": [
    "In order to find the sample size needed for a power of 95%, we are going to use the normal approximation (not needed)"
   ]
  },
  {
   "cell_type": "code",
   "execution_count": null,
   "metadata": {
    "colab": {
     "base_uri": "https://localhost:8080/",
     "height": 35
    },
    "colab_type": "code",
    "executionInfo": {
     "elapsed": 5940,
     "status": "ok",
     "timestamp": 1587997616880,
     "user": {
      "displayName": "Juan Jose Manjarin",
      "photoUrl": "",
      "userId": "04910883006985787828"
     },
     "user_tz": -120
    },
    "id": "jFw_MAaxVLau",
    "outputId": "d970f3c7-7798-497d-aa40-535323105cc8"
   },
   "outputs": [],
   "source": [
    "A = ss.norm.ppf(0.05)\n",
    "\n",
    "# critical z\n",
    "zcrit = ss.norm.isf(SL)\n",
    "\n",
    "# sample size needed\n",
    "new_n = ((A - zcrit) * stdev / delta)**2\n",
    "\n",
    "# print the output\n",
    "print('The sample size needed is {:1.2f}'.format(new_n))"
   ]
  },
  {
   "cell_type": "markdown",
   "metadata": {
    "colab_type": "text",
    "id": "s44iEGkDrnAk"
   },
   "source": [
    "Let's find the sample size using `statsmodels` and the `solve_power` function"
   ]
  },
  {
   "cell_type": "code",
   "execution_count": null,
   "metadata": {
    "colab": {
     "base_uri": "https://localhost:8080/",
     "height": 35
    },
    "colab_type": "code",
    "executionInfo": {
     "elapsed": 1294,
     "status": "ok",
     "timestamp": 1587997620679,
     "user": {
      "displayName": "Juan Jose Manjarin",
      "photoUrl": "",
      "userId": "04910883006985787828"
     },
     "user_tz": -120
    },
    "id": "_1IV2yHUrsqn",
    "outputId": "10ac97be-ce87-42fe-f877-82462c34563b"
   },
   "outputs": [],
   "source": [
    "pwr = 0.95\n",
    "sample_size = analysis.solve_power(effect_size = (mu0 - mu1)/stdev, power = pwr, alpha = SL, alternative = 'smaller')\n",
    "\n",
    "# print the output\n",
    "print('The sample size needed is {:1.2f}'.format(sample_size))"
   ]
  },
  {
   "cell_type": "markdown",
   "metadata": {
    "colab_type": "text",
    "id": "J37ReMhgHZYZ"
   },
   "source": [
    "**Using the `score` variable let's answer the following: In a report you have read that the average IQ score of gifted children 155. However, you do not fully agree with this value and you claim that it is different to it. On a second approach you want to see what is the probability that you may find that the average IQ score is 160 for a 1% of significance level. What would be the sample size needed in case you want that this probability is 99.99%**"
   ]
  },
  {
   "cell_type": "code",
   "execution_count": null,
   "metadata": {
    "colab": {
     "base_uri": "https://localhost:8080/",
     "height": 35
    },
    "colab_type": "code",
    "executionInfo": {
     "elapsed": 1430,
     "status": "ok",
     "timestamp": 1587995575264,
     "user": {
      "displayName": "Juan Jose Manjarin",
      "photoUrl": "",
      "userId": "04910883006985787828"
     },
     "user_tz": -120
    },
    "id": "7YbZkuxRHgS1",
    "outputId": "680d5882-56b7-4194-e22c-2b8a680896d1"
   },
   "outputs": [],
   "source": [
    "gifted['score'].mean()"
   ]
  },
  {
   "cell_type": "code",
   "execution_count": null,
   "metadata": {
    "colab": {},
    "colab_type": "code",
    "id": "FbjEJWMwfb2V"
   },
   "outputs": [],
   "source": [
    "# population means\n",
    "mu0 = 155\n",
    "mu1 = 160\n",
    "\n",
    "# significance level\n",
    "SL = 0.01\n",
    "pwr = 0.99999\n",
    "\n",
    "# sample information\n",
    "n = len(gifted['score'])\n",
    "stdev = gifted['score'].std()\n",
    "\n",
    "# critical t\n",
    "tcrit = ss.t.isf(SL/2, n-1)"
   ]
  },
  {
   "cell_type": "code",
   "execution_count": null,
   "metadata": {
    "colab": {
     "base_uri": "https://localhost:8080/",
     "height": 54
    },
    "colab_type": "code",
    "executionInfo": {
     "elapsed": 2437,
     "status": "ok",
     "timestamp": 1587995592521,
     "user": {
      "displayName": "Juan Jose Manjarin",
      "photoUrl": "",
      "userId": "04910883006985787828"
     },
     "user_tz": -120
    },
    "id": "vvvqsB0WfxH5",
    "outputId": "7c8466e3-d832-48e9-9f54-a31b87589a3a"
   },
   "outputs": [],
   "source": [
    "# boundaries\n",
    "delta = mu0 - mu1\n",
    "std_delta = delta / (stdev/(np.sqrt(n)))\n",
    "\n",
    "upp = std_delta + tcrit\n",
    "low = std_delta - tcrit\n",
    "\n",
    "# power of the test\n",
    "beta = ss.t.cdf(upp, n-1) - ss.t.cdf(low, n-1)\n",
    "power = 1 - beta\n",
    "\n",
    "# print the output\n",
    "print('The probability of a Type II error is {:1.6f}\\nThe power of the test is {:1.6f}'.format(beta, power))"
   ]
  },
  {
   "cell_type": "markdown",
   "metadata": {
    "colab_type": "text",
    "id": "xl-Xijjp4skd"
   },
   "source": [
    "Let's find the power of the test using `statsmodels`."
   ]
  },
  {
   "cell_type": "code",
   "execution_count": null,
   "metadata": {
    "colab": {},
    "colab_type": "code",
    "id": "fzuFlm_J4wg2"
   },
   "outputs": [],
   "source": [
    "power_analysis = TTestPower()"
   ]
  },
  {
   "cell_type": "code",
   "execution_count": null,
   "metadata": {
    "colab": {
     "base_uri": "https://localhost:8080/",
     "height": 54
    },
    "colab_type": "code",
    "executionInfo": {
     "elapsed": 966,
     "status": "ok",
     "timestamp": 1587995445021,
     "user": {
      "displayName": "Juan Jose Manjarin",
      "photoUrl": "",
      "userId": "04910883006985787828"
     },
     "user_tz": -120
    },
    "id": "ijWol2TY5AkA",
    "outputId": "2b78e65d-234c-45b1-b887-ff68263849e4"
   },
   "outputs": [],
   "source": [
    "powerTest = power_analysis.solve_power(effect_size = (mu1 - mu0)/stdev, nobs = n, alpha = SL, alternative = 'two-sided')\n",
    "\n",
    "'''\n",
    "The effect_size must be positive and it is delta/stdev\n",
    "'''\n",
    "\n",
    "# Print the output\n",
    "print('The probability of a Type II error is {:1.6f}\\nThe power of the test is {:1.6f}'.format(1-powerTest, powerTest))"
   ]
  },
  {
   "cell_type": "markdown",
   "metadata": {
    "colab_type": "text",
    "id": "CRt22ZVpvrhN"
   },
   "source": [
    "Let's find the **sample size**"
   ]
  },
  {
   "cell_type": "code",
   "execution_count": null,
   "metadata": {
    "colab": {
     "base_uri": "https://localhost:8080/",
     "height": 35
    },
    "colab_type": "code",
    "executionInfo": {
     "elapsed": 878,
     "status": "ok",
     "timestamp": 1587995708668,
     "user": {
      "displayName": "Juan Jose Manjarin",
      "photoUrl": "",
      "userId": "04910883006985787828"
     },
     "user_tz": -120
    },
    "id": "Oask2qSf6eEz",
    "outputId": "ceb5bbc4-6bb1-46ea-e661-73a43416cc20"
   },
   "outputs": [],
   "source": [
    "new_n = power_analysis.solve_power(effect_size = (mu1 - mu0)/stdev, power = pwr, alpha = SL, alternative = 'two-sided')\n",
    "\n",
    "'''\n",
    "The effect_size must be positive and it is delta/stdev\n",
    "'''\n",
    "\n",
    "# Print the output\n",
    "print('The sample size needed is', np.ceil(new_n))"
   ]
  }
 ],
 "metadata": {
  "jupytext": {
   "text_representation": {
    "extension": ".md",
    "format_name": "myst",
    "format_version": 0.12,
    "jupytext_version": "1.9.1"
   }
  },
  "kernelspec": {
   "display_name": "Python 3",
   "language": "python",
   "name": "python3"
  },
  "language_info": {
   "codemirror_mode": {
    "name": "ipython",
    "version": 3
   },
   "file_extension": ".py",
   "mimetype": "text/x-python",
   "name": "python",
   "nbconvert_exporter": "python",
   "pygments_lexer": "ipython3",
   "version": "3.9.1+"
  },
  "source_map": [
   12,
   16,
   88,
   204,
   258,
   271,
   293,
   315,
   319,
   340,
   354,
   374,
   378,
   390,
   394,
   419,
   423,
   453,
   482,
   486,
   507,
   521,
   539,
   574,
   578,
   582,
   606,
   610,
   614,
   644,
   648,
   673,
   677,
   698,
   719,
   752,
   756,
   764,
   792,
   796
  ]
 },
 "nbformat": 4,
 "nbformat_minor": 4
}